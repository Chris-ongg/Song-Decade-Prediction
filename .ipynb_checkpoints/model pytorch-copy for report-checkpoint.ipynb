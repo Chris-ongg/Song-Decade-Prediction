{
 "cells": [
  {
   "cell_type": "code",
   "execution_count": 1,
   "id": "gentle-syndrome",
   "metadata": {},
   "outputs": [],
   "source": [
    "import numpy as np\n",
    "import pandas as pd"
   ]
  },
  {
   "cell_type": "code",
   "execution_count": 2,
   "id": "functioning-faculty",
   "metadata": {},
   "outputs": [],
   "source": [
    "from sklearn.metrics import classification_report\n",
    "import lightgbm as lgbm\n",
    "import xgboost as xgb"
   ]
  },
  {
   "cell_type": "code",
   "execution_count": 3,
   "id": "lightweight-prime",
   "metadata": {},
   "outputs": [],
   "source": [
    "from sklearn.neighbors import KNeighborsClassifier"
   ]
  },
  {
   "cell_type": "code",
   "execution_count": 4,
   "id": "grave-atlas",
   "metadata": {},
   "outputs": [],
   "source": [
    "from imblearn.over_sampling import SMOTE, ADASYN"
   ]
  },
  {
   "cell_type": "code",
   "execution_count": 5,
   "id": "natural-transsexual",
   "metadata": {},
   "outputs": [],
   "source": [
    "from sklearn.preprocessing import LabelBinarizer, LabelEncoder"
   ]
  },
  {
   "cell_type": "code",
   "execution_count": 6,
   "id": "expressed-passage",
   "metadata": {},
   "outputs": [],
   "source": [
    "import torch\n",
    "import torch.nn as nn\n",
    "from torch.utils.data import TensorDataset, DataLoader\n",
    "from torch import optim\n",
    "import torch.nn.functional as F"
   ]
  },
  {
   "cell_type": "code",
   "execution_count": 7,
   "id": "distant-testament",
   "metadata": {},
   "outputs": [],
   "source": [
    "from sklearn.model_selection import train_test_split\n",
    "\n",
    "df_data = pd.read_csv('data/recleaned_data_stdscle_v2.csv')\n"
   ]
  },
  {
   "cell_type": "code",
   "execution_count": 8,
   "id": "headed-masters",
   "metadata": {},
   "outputs": [
    {
     "data": {
      "text/html": [
       "<div>\n",
       "<style scoped>\n",
       "    .dataframe tbody tr th:only-of-type {\n",
       "        vertical-align: middle;\n",
       "    }\n",
       "\n",
       "    .dataframe tbody tr th {\n",
       "        vertical-align: top;\n",
       "    }\n",
       "\n",
       "    .dataframe thead th {\n",
       "        text-align: right;\n",
       "    }\n",
       "</style>\n",
       "<table border=\"1\" class=\"dataframe\">\n",
       "  <thead>\n",
       "    <tr style=\"text-align: right;\">\n",
       "      <th></th>\n",
       "      <th>acousticness</th>\n",
       "      <th>danceability</th>\n",
       "      <th>duration_ms</th>\n",
       "      <th>energy</th>\n",
       "      <th>explicit</th>\n",
       "      <th>instrumentalness</th>\n",
       "      <th>key</th>\n",
       "      <th>liveness</th>\n",
       "      <th>loudness</th>\n",
       "      <th>mode</th>\n",
       "      <th>...</th>\n",
       "      <th>key_2</th>\n",
       "      <th>key_3</th>\n",
       "      <th>key_4</th>\n",
       "      <th>key_5</th>\n",
       "      <th>key_6</th>\n",
       "      <th>key_7</th>\n",
       "      <th>key_8</th>\n",
       "      <th>key_9</th>\n",
       "      <th>key_10</th>\n",
       "      <th>key_11</th>\n",
       "    </tr>\n",
       "  </thead>\n",
       "  <tbody>\n",
       "    <tr>\n",
       "      <th>0</th>\n",
       "      <td>1.290829</td>\n",
       "      <td>0.343090</td>\n",
       "      <td>-0.586049</td>\n",
       "      <td>-0.946776</td>\n",
       "      <td>0</td>\n",
       "      <td>-0.578414</td>\n",
       "      <td>5</td>\n",
       "      <td>0.929594</td>\n",
       "      <td>-0.152122</td>\n",
       "      <td>0</td>\n",
       "      <td>...</td>\n",
       "      <td>0.0</td>\n",
       "      <td>0.0</td>\n",
       "      <td>0.0</td>\n",
       "      <td>1.0</td>\n",
       "      <td>0.0</td>\n",
       "      <td>0.0</td>\n",
       "      <td>0.0</td>\n",
       "      <td>0.0</td>\n",
       "      <td>0.0</td>\n",
       "      <td>0.0</td>\n",
       "    </tr>\n",
       "    <tr>\n",
       "      <th>1</th>\n",
       "      <td>1.277648</td>\n",
       "      <td>-1.888467</td>\n",
       "      <td>-0.431375</td>\n",
       "      <td>-0.909987</td>\n",
       "      <td>0</td>\n",
       "      <td>1.401622</td>\n",
       "      <td>8</td>\n",
       "      <td>0.123664</td>\n",
       "      <td>-0.645386</td>\n",
       "      <td>1</td>\n",
       "      <td>...</td>\n",
       "      <td>0.0</td>\n",
       "      <td>0.0</td>\n",
       "      <td>0.0</td>\n",
       "      <td>0.0</td>\n",
       "      <td>0.0</td>\n",
       "      <td>0.0</td>\n",
       "      <td>1.0</td>\n",
       "      <td>0.0</td>\n",
       "      <td>0.0</td>\n",
       "      <td>0.0</td>\n",
       "    </tr>\n",
       "    <tr>\n",
       "      <th>2</th>\n",
       "      <td>1.298737</td>\n",
       "      <td>-0.835630</td>\n",
       "      <td>-0.620337</td>\n",
       "      <td>-1.299951</td>\n",
       "      <td>0</td>\n",
       "      <td>-0.117816</td>\n",
       "      <td>2</td>\n",
       "      <td>-0.630575</td>\n",
       "      <td>-0.608907</td>\n",
       "      <td>1</td>\n",
       "      <td>...</td>\n",
       "      <td>1.0</td>\n",
       "      <td>0.0</td>\n",
       "      <td>0.0</td>\n",
       "      <td>0.0</td>\n",
       "      <td>0.0</td>\n",
       "      <td>0.0</td>\n",
       "      <td>0.0</td>\n",
       "      <td>0.0</td>\n",
       "      <td>0.0</td>\n",
       "      <td>0.0</td>\n",
       "    </tr>\n",
       "    <tr>\n",
       "      <th>3</th>\n",
       "      <td>1.293465</td>\n",
       "      <td>-1.110283</td>\n",
       "      <td>-0.554578</td>\n",
       "      <td>-1.049785</td>\n",
       "      <td>0</td>\n",
       "      <td>-0.566669</td>\n",
       "      <td>0</td>\n",
       "      <td>-0.304312</td>\n",
       "      <td>-0.388445</td>\n",
       "      <td>1</td>\n",
       "      <td>...</td>\n",
       "      <td>0.0</td>\n",
       "      <td>0.0</td>\n",
       "      <td>0.0</td>\n",
       "      <td>0.0</td>\n",
       "      <td>0.0</td>\n",
       "      <td>0.0</td>\n",
       "      <td>0.0</td>\n",
       "      <td>0.0</td>\n",
       "      <td>0.0</td>\n",
       "      <td>0.0</td>\n",
       "    </tr>\n",
       "    <tr>\n",
       "      <th>4</th>\n",
       "      <td>1.027206</td>\n",
       "      <td>-0.732635</td>\n",
       "      <td>-0.434248</td>\n",
       "      <td>-0.681894</td>\n",
       "      <td>1</td>\n",
       "      <td>-0.579976</td>\n",
       "      <td>0</td>\n",
       "      <td>-0.671149</td>\n",
       "      <td>-0.372584</td>\n",
       "      <td>0</td>\n",
       "      <td>...</td>\n",
       "      <td>0.0</td>\n",
       "      <td>0.0</td>\n",
       "      <td>0.0</td>\n",
       "      <td>0.0</td>\n",
       "      <td>0.0</td>\n",
       "      <td>0.0</td>\n",
       "      <td>0.0</td>\n",
       "      <td>0.0</td>\n",
       "      <td>0.0</td>\n",
       "      <td>0.0</td>\n",
       "    </tr>\n",
       "  </tbody>\n",
       "</table>\n",
       "<p>5 rows × 25 columns</p>\n",
       "</div>"
      ],
      "text/plain": [
       "   acousticness  danceability  duration_ms    energy  explicit  \\\n",
       "0      1.290829      0.343090    -0.586049 -0.946776         0   \n",
       "1      1.277648     -1.888467    -0.431375 -0.909987         0   \n",
       "2      1.298737     -0.835630    -0.620337 -1.299951         0   \n",
       "3      1.293465     -1.110283    -0.554578 -1.049785         0   \n",
       "4      1.027206     -0.732635    -0.434248 -0.681894         1   \n",
       "\n",
       "   instrumentalness  key  liveness  loudness  mode  ...  key_2  key_3  key_4  \\\n",
       "0         -0.578414    5  0.929594 -0.152122     0  ...    0.0    0.0    0.0   \n",
       "1          1.401622    8  0.123664 -0.645386     1  ...    0.0    0.0    0.0   \n",
       "2         -0.117816    2 -0.630575 -0.608907     1  ...    1.0    0.0    0.0   \n",
       "3         -0.566669    0 -0.304312 -0.388445     1  ...    0.0    0.0    0.0   \n",
       "4         -0.579976    0 -0.671149 -0.372584     0  ...    0.0    0.0    0.0   \n",
       "\n",
       "   key_5  key_6  key_7  key_8  key_9  key_10  key_11  \n",
       "0    1.0    0.0    0.0    0.0    0.0     0.0     0.0  \n",
       "1    0.0    0.0    0.0    1.0    0.0     0.0     0.0  \n",
       "2    0.0    0.0    0.0    0.0    0.0     0.0     0.0  \n",
       "3    0.0    0.0    0.0    0.0    0.0     0.0     0.0  \n",
       "4    0.0    0.0    0.0    0.0    0.0     0.0     0.0  \n",
       "\n",
       "[5 rows x 25 columns]"
      ]
     },
     "execution_count": 8,
     "metadata": {},
     "output_type": "execute_result"
    }
   ],
   "source": [
    "labels = df_data.decade\n",
    "\n",
    "df_data = df_data.drop(['decade','year','popularity'], axis=1)\n",
    "df_data.head()"
   ]
  },
  {
   "cell_type": "code",
   "execution_count": 9,
   "id": "colonial-transcription",
   "metadata": {},
   "outputs": [
    {
     "data": {
      "text/plain": [
       "Index(['acousticness', 'danceability', 'duration_ms', 'energy', 'explicit',\n",
       "       'instrumentalness', 'key', 'liveness', 'loudness', 'mode',\n",
       "       'speechiness', 'tempo', 'valence', 'key_0', 'key_1', 'key_2', 'key_3',\n",
       "       'key_4', 'key_5', 'key_6', 'key_7', 'key_8', 'key_9', 'key_10',\n",
       "       'key_11'],\n",
       "      dtype='object')"
      ]
     },
     "execution_count": 9,
     "metadata": {},
     "output_type": "execute_result"
    }
   ],
   "source": [
    "df_data.columns"
   ]
  },
  {
   "cell_type": "code",
   "execution_count": 10,
   "id": "annoying-tourism",
   "metadata": {},
   "outputs": [],
   "source": [
    "# label_bin = LabelBinarizer()\n",
    "# labels = label_bin.fit_transform(labels)\n",
    "\n",
    "label_enc = LabelEncoder()\n",
    "labels = label_enc.fit_transform(labels)"
   ]
  },
  {
   "cell_type": "code",
   "execution_count": 11,
   "id": "important-upset",
   "metadata": {},
   "outputs": [
    {
     "data": {
      "text/plain": [
       "array([ 0,  0,  0, ..., 10, 10, 10], dtype=int64)"
      ]
     },
     "execution_count": 11,
     "metadata": {},
     "output_type": "execute_result"
    }
   ],
   "source": [
    "labels"
   ]
  },
  {
   "cell_type": "code",
   "execution_count": 12,
   "id": "magnetic-depression",
   "metadata": {},
   "outputs": [],
   "source": [
    "X_train, X_test, y_train, y_test = train_test_split(df_data, labels, random_state=2, test_size=0.20)"
   ]
  },
  {
   "cell_type": "code",
   "execution_count": 13,
   "id": "studied-effectiveness",
   "metadata": {},
   "outputs": [
    {
     "data": {
      "text/plain": [
       "((125683, 25), (125683,), (31421,))"
      ]
     },
     "execution_count": 13,
     "metadata": {},
     "output_type": "execute_result"
    }
   ],
   "source": [
    "X_train.shape, y_train.shape, y_test.shape"
   ]
  },
  {
   "cell_type": "code",
   "execution_count": 14,
   "id": "conscious-fellowship",
   "metadata": {},
   "outputs": [],
   "source": [
    "model = nn.Sequential(nn.Linear(25,1000),\n",
    "                      nn.ReLU(),\n",
    "                      nn.Linear(1000,100),\n",
    "                      nn.ReLU(),\n",
    "                      nn.Linear(100,11))"
   ]
  },
  {
   "cell_type": "code",
   "execution_count": 15,
   "id": "familiar-brooks",
   "metadata": {},
   "outputs": [
    {
     "data": {
      "text/plain": [
       "Sequential(\n",
       "  (0): Linear(in_features=25, out_features=1000, bias=True)\n",
       "  (1): ReLU()\n",
       "  (2): Linear(in_features=1000, out_features=100, bias=True)\n",
       "  (3): ReLU()\n",
       "  (4): Linear(in_features=100, out_features=11, bias=True)\n",
       ")"
      ]
     },
     "execution_count": 15,
     "metadata": {},
     "output_type": "execute_result"
    }
   ],
   "source": [
    "model"
   ]
  },
  {
   "cell_type": "code",
   "execution_count": 16,
   "id": "black-course",
   "metadata": {},
   "outputs": [],
   "source": [
    "optimizer = optim.SGD(model.parameters(), lr=3e-2)"
   ]
  },
  {
   "cell_type": "code",
   "execution_count": 17,
   "id": "artistic-springer",
   "metadata": {},
   "outputs": [],
   "source": [
    "loss = nn.CrossEntropyLoss()"
   ]
  },
  {
   "cell_type": "code",
   "execution_count": 18,
   "id": "hybrid-anatomy",
   "metadata": {},
   "outputs": [],
   "source": [
    "X_train, X_test, y_train, y_test = map(torch.tensor, (X_train.to_numpy(dtype=np.float32),\n",
    "                                                      X_test.to_numpy(dtype=np.float32),\n",
    "                                                      y_train,\n",
    "                                                      y_test)\n",
    "                                      )"
   ]
  },
  {
   "cell_type": "code",
   "execution_count": 19,
   "id": "ordinary-freedom",
   "metadata": {},
   "outputs": [],
   "source": [
    "train_dataset = TensorDataset(X_train, y_train)\n",
    "test_dataset  = TensorDataset(X_test, y_test)"
   ]
  },
  {
   "cell_type": "code",
   "execution_count": 20,
   "id": "korean-terrain",
   "metadata": {},
   "outputs": [],
   "source": [
    "train_dl = DataLoader(train_dataset, batch_size=100, shuffle=True)\n",
    "test_dl  = DataLoader(test_dataset, batch_size=100, shuffle=False)"
   ]
  },
  {
   "cell_type": "code",
   "execution_count": 21,
   "id": "democratic-apparel",
   "metadata": {},
   "outputs": [],
   "source": [
    "epochs = 10"
   ]
  },
  {
   "cell_type": "code",
   "execution_count": 22,
   "id": "difficult-occasion",
   "metadata": {},
   "outputs": [],
   "source": [
    "def init_weights(m):\n",
    "    if type(m) == nn.Linear:\n",
    "        nn.init.xavier_normal_(m.weight)\n",
    "\n",
    "model.apply(init_weights);"
   ]
  },
  {
   "cell_type": "code",
   "execution_count": 23,
   "id": "cathedral-indian",
   "metadata": {},
   "outputs": [
    {
     "data": {
      "text/plain": [
       "3"
      ]
     },
     "execution_count": 23,
     "metadata": {},
     "output_type": "execute_result"
    }
   ],
   "source": [
    "torch.tensor(3).item()"
   ]
  },
  {
   "cell_type": "code",
   "execution_count": 24,
   "id": "innovative-spotlight",
   "metadata": {},
   "outputs": [],
   "source": [
    "from tqdm import tqdm"
   ]
  },
  {
   "cell_type": "code",
   "execution_count": 25,
   "id": "passing-woman",
   "metadata": {},
   "outputs": [
    {
     "name": "stdout",
     "output_type": "stream",
     "text": [
      "train loss: 1.855\n",
      " validation loss: 1.783\n",
      "train loss: 1.746\n",
      " validation loss: 1.735\n",
      "train loss: 1.712\n",
      " validation loss: 1.702\n",
      "train loss: 1.690\n",
      " validation loss: 1.685\n",
      "train loss: 1.673\n",
      " validation loss: 1.679\n",
      "train loss: 1.661\n",
      " validation loss: 1.669\n",
      "train loss: 1.651\n",
      " validation loss: 1.655\n",
      "train loss: 1.642\n",
      " validation loss: 1.652\n",
      "train loss: 1.635\n",
      " validation loss: 1.646\n",
      "train loss: 1.628\n",
      " validation loss: 1.635\n"
     ]
    }
   ],
   "source": [
    "train_loss = []\n",
    "val_loss = []\n",
    "acc = []\n",
    "for epoch in range(epochs):\n",
    "    epoch_train_loss = []\n",
    "    for X,y in train_dl:\n",
    "        model_loss = loss(model(X), y)\n",
    "        model_loss.backward()\n",
    "        epoch_train_loss.append(model_loss.item())\n",
    "        optimizer.step()\n",
    "        optimizer.zero_grad()\n",
    "        \n",
    "    epoch_val_loss = []\n",
    "    with torch.no_grad():\n",
    "        for X,y in test_dl:\n",
    "            epoch_val_loss.append(loss(model(X), y).item())\n",
    "            \n",
    "            \n",
    "    \n",
    "    train_loss.append(sum(epoch_train_loss)/len(epoch_train_loss))\n",
    "    val_loss.append(sum(epoch_val_loss)/len(epoch_val_loss))\n",
    "    \n",
    "    print(f'train loss: {train_loss[-1]:.3f}\\n validation loss: {val_loss[-1]:.3f}')\n",
    "        \n",
    "    \n",
    "        \n",
    "        "
   ]
  },
  {
   "cell_type": "code",
   "execution_count": 26,
   "id": "maritime-protocol",
   "metadata": {},
   "outputs": [],
   "source": [
    "def accuracy(y_hat, y):  #@save\n",
    "    \"\"\"Compute the number of correct predictions.\"\"\"\n",
    "    if len(y_hat.shape) > 1 and y_hat.shape[1] > 1:\n",
    "        y_hat = y_hat.argmax(axis=-1)\n",
    "    cmp = y_hat.type(y.dtype) == y\n",
    "    return float(cmp.type(torch.float).mean())"
   ]
  },
  {
   "cell_type": "code",
   "execution_count": 27,
   "id": "vital-attempt",
   "metadata": {},
   "outputs": [],
   "source": [
    "acc = []\n",
    "\n",
    "with torch.no_grad():\n",
    "    for X,y in test_dl:\n",
    "        acc.append(accuracy(model(X), y))"
   ]
  },
  {
   "cell_type": "code",
   "execution_count": null,
   "id": "advanced-terrain",
   "metadata": {},
   "outputs": [],
   "source": []
  },
  {
   "cell_type": "code",
   "execution_count": 28,
   "id": "vulnerable-attention",
   "metadata": {},
   "outputs": [],
   "source": [
    "y_pred = []\n",
    "with torch.no_grad():\n",
    "    for X,y in test_dl:\n",
    "        y_pred.append(torch.argmax(model(X), -1).numpy())"
   ]
  },
  {
   "cell_type": "code",
   "execution_count": 29,
   "id": "hearing-thanks",
   "metadata": {},
   "outputs": [
    {
     "data": {
      "text/plain": [
       "0.3866152670648363"
      ]
     },
     "execution_count": 29,
     "metadata": {},
     "output_type": "execute_result"
    }
   ],
   "source": [
    "sum(acc)/len(acc)"
   ]
  },
  {
   "cell_type": "code",
   "execution_count": 76,
   "id": "enclosed-princeton",
   "metadata": {},
   "outputs": [
    {
     "data": {
      "text/plain": [
       "315"
      ]
     },
     "execution_count": 76,
     "metadata": {},
     "output_type": "execute_result"
    }
   ],
   "source": [
    "len(y_pred)"
   ]
  },
  {
   "cell_type": "code",
   "execution_count": 30,
   "id": "special-petersburg",
   "metadata": {},
   "outputs": [],
   "source": [
    "y_pred1 = np.zeros_like(y_test)"
   ]
  },
  {
   "cell_type": "code",
   "execution_count": 34,
   "id": "married-payday",
   "metadata": {},
   "outputs": [],
   "source": [
    "for j,i in enumerate(range(0,y_test.shape[0], 100)):\n",
    "    y_pred1[i:i+100] = np.array(y_pred[j])"
   ]
  },
  {
   "cell_type": "code",
   "execution_count": 35,
   "id": "medium-louis",
   "metadata": {},
   "outputs": [],
   "source": [
    "from sklearn.metrics import precision_recall_fscore_support, recall_score"
   ]
  },
  {
   "cell_type": "code",
   "execution_count": 36,
   "id": "preceding-pillow",
   "metadata": {},
   "outputs": [
    {
     "data": {
      "text/plain": [
       "0.3862703287610197"
      ]
     },
     "execution_count": 36,
     "metadata": {},
     "output_type": "execute_result"
    }
   ],
   "source": [
    "recall_score(y_test, y_pred1, average='weighted')"
   ]
  },
  {
   "cell_type": "code",
   "execution_count": 37,
   "id": "lined-manor",
   "metadata": {},
   "outputs": [
    {
     "data": {
      "text/plain": [
       "(0.40020522130704594, 0.3862703287610197, 0.37198412745646553, None)"
      ]
     },
     "execution_count": 37,
     "metadata": {},
     "output_type": "execute_result"
    }
   ],
   "source": [
    "precision_recall_fscore_support(y_test,y_pred1, average='weighted')"
   ]
  }
 ],
 "metadata": {
  "kernelspec": {
   "display_name": "Python 3",
   "language": "python",
   "name": "python3"
  },
  "language_info": {
   "codemirror_mode": {
    "name": "ipython",
    "version": 3
   },
   "file_extension": ".py",
   "mimetype": "text/x-python",
   "name": "python",
   "nbconvert_exporter": "python",
   "pygments_lexer": "ipython3",
   "version": "3.9.2"
  }
 },
 "nbformat": 4,
 "nbformat_minor": 5
}
