{
 "cells": [
  {
   "cell_type": "code",
   "execution_count": 1,
   "id": "accessory-struggle",
   "metadata": {},
   "outputs": [],
   "source": [
    "import pandas as pd\n",
    "import numpy as np"
   ]
  },
  {
   "cell_type": "code",
   "execution_count": 2,
   "id": "grave-circuit",
   "metadata": {},
   "outputs": [],
   "source": [
    "df = pd.read_csv('cleaned_data_wo_genres_normalised.csv')"
   ]
  },
  {
   "cell_type": "code",
   "execution_count": 3,
   "id": "inside-closer",
   "metadata": {},
   "outputs": [],
   "source": [
    "from sklearn.linear_model import LogisticRegression\n",
    "logreg = LogisticRegression()"
   ]
  },
  {
   "cell_type": "code",
   "execution_count": 4,
   "id": "affiliated-suspect",
   "metadata": {},
   "outputs": [
    {
     "data": {
      "text/plain": [
       "<bound method NDFrame.head of         acousticness                                            artists  \\\n",
       "0              0.991                                    ['Mamie Smith']   \n",
       "1              0.986                                    ['Dick Haymes']   \n",
       "2              0.994                                    ['Dick Haymes']   \n",
       "3              0.992                                    ['Dick Haymes']   \n",
       "4              0.891                    ['ST', '98', 'R2S', 'Niklas O']   \n",
       "...              ...                                                ...   \n",
       "159436         0.983  ['Mysterious World Music', 'Relaxing Zen Music...   \n",
       "159437         0.987  ['Mysterious World Music', 'Relaxing Zen Music...   \n",
       "159438         0.845  ['Mysterious World Music', 'Relaxing Zen Music...   \n",
       "159439         0.993  ['Mysterious World Music', 'Relaxing Zen Music...   \n",
       "159440         0.946  ['Mysterious World Music', 'Relaxing Zen Music...   \n",
       "\n",
       "        danceability  duration_ms   energy  explicit                      id  \\\n",
       "0              0.598     0.030637  0.22400         0  0cS0A1fUEUd1EW3FcF8AEI   \n",
       "1              0.208     0.033242  0.23400         0  5DihlLenQJhJXGJhbtiTrM   \n",
       "2              0.392     0.030059  0.12800         0  5EwQxd2XGjp1BUZT2iHhEj   \n",
       "3              0.344     0.031167  0.19600         0  5LnfrTxUQwINaVUIqaNmXa   \n",
       "4              0.410     0.033193  0.29600         1  5RgQ7t5uimI5St2H3CV9pb   \n",
       "...              ...          ...      ...       ...                     ...   \n",
       "159436         0.775     0.038861  0.02330         0  7fro6vyclNNvph6Hp3AYMt   \n",
       "159437         0.807     0.033359  0.03690         0  1RquzdH44f8SFNTX4Uw6Z1   \n",
       "159438         0.210     0.026977  0.00405         0  6mpvRPFvsWWn326jiYhVJw   \n",
       "159439         0.649     0.035559  0.01870         0  1h7ZM2aWhaUBos7P0Fs0OJ   \n",
       "159440         0.192     0.038984  0.14500         0  5KrWZJqteSTUpoHmY84G4d   \n",
       "\n",
       "        instrumentalness  key  liveness  loudness  mode  \\\n",
       "0               0.000522    5    0.3790  0.741868     0   \n",
       "1               0.656000    8    0.2340  0.698035     1   \n",
       "2               0.153000    2    0.0983  0.701276     1   \n",
       "3               0.004410    0    0.1570  0.720868     1   \n",
       "4               0.000005    0    0.0910  0.722277     0   \n",
       "...                  ...  ...       ...       ...   ...   \n",
       "159436          0.787000    6    0.0656  0.667669     1   \n",
       "159437          0.834000    7    0.2200  0.723812     1   \n",
       "159438          0.924000    1    0.1130  0.531219     1   \n",
       "159439          0.917000    3    0.0814  0.609224     0   \n",
       "159440          0.929000    1    0.1640  0.573690     1   \n",
       "\n",
       "                                    name  popularity release_date  \\\n",
       "0               Keep A Song In Your Soul          12         1920   \n",
       "1                   Till the End of Time           0         1920   \n",
       "2                      You'll Never Know           0         1920   \n",
       "3       A Chapter in My Life Called Mary           0         1920   \n",
       "4                          Moyenne d'âge           0         1920   \n",
       "...                                  ...         ...          ...   \n",
       "159436                   Colorful Lights           0   2021-01-23   \n",
       "159437                        Prosperity           0   2021-01-23   \n",
       "159438               Guardian of the Sea           0   2021-01-23   \n",
       "159439               Beauty of the Lotus           0   2021-01-23   \n",
       "159440                         At Sunset           0   2021-01-23   \n",
       "\n",
       "        speechiness     tempo  valence  year  decade  \n",
       "0            0.0936  0.615900   0.6340  1920    1920  \n",
       "1            0.0426  0.350249   0.2090  1920    1920  \n",
       "2            0.0378  0.520429   0.2260  1920    1920  \n",
       "3            0.0365  0.327863   0.3540  1920    1920  \n",
       "4            0.0386  0.525430   0.0625  1920    1920  \n",
       "...             ...       ...      ...   ...     ...  \n",
       "159436       0.0430  0.328619   0.5680  2021    2020  \n",
       "159437       0.0824  0.328845   0.2170  2021    2020  \n",
       "159438       0.0438  0.314163   0.0337  2021    2020  \n",
       "159439       0.0621  0.328594   0.6620  2021    2020  \n",
       "159440       0.0421  0.465880   0.0395  2021    2020  \n",
       "\n",
       "[159441 rows x 20 columns]>"
      ]
     },
     "execution_count": 4,
     "metadata": {},
     "output_type": "execute_result"
    }
   ],
   "source": [
    "df.head"
   ]
  },
  {
   "cell_type": "code",
   "execution_count": 5,
   "id": "correct-cloud",
   "metadata": {},
   "outputs": [
    {
     "name": "stdout",
     "output_type": "stream",
     "text": [
      "0         1920\n",
      "1         1920\n",
      "2         1920\n",
      "3         1920\n",
      "4         1920\n",
      "          ... \n",
      "159436    2020\n",
      "159437    2020\n",
      "159438    2020\n",
      "159439    2020\n",
      "159440    2020\n",
      "Name: decade, Length: 159441, dtype: int64\n"
     ]
    }
   ],
   "source": [
    "y = df['decade']\n",
    "print(y)"
   ]
  },
  {
   "cell_type": "code",
   "execution_count": 6,
   "id": "devoted-country",
   "metadata": {},
   "outputs": [
    {
     "name": "stdout",
     "output_type": "stream",
     "text": [
      "        acousticness  danceability  duration_ms   energy  explicit  \\\n",
      "0              0.991         0.598     0.030637  0.22400         0   \n",
      "1              0.986         0.208     0.033242  0.23400         0   \n",
      "2              0.994         0.392     0.030059  0.12800         0   \n",
      "3              0.992         0.344     0.031167  0.19600         0   \n",
      "4              0.891         0.410     0.033193  0.29600         1   \n",
      "...              ...           ...          ...      ...       ...   \n",
      "159436         0.983         0.775     0.038861  0.02330         0   \n",
      "159437         0.987         0.807     0.033359  0.03690         0   \n",
      "159438         0.845         0.210     0.026977  0.00405         0   \n",
      "159439         0.993         0.649     0.035559  0.01870         0   \n",
      "159440         0.946         0.192     0.038984  0.14500         0   \n",
      "\n",
      "        instrumentalness  liveness  loudness  speechiness     tempo  valence  \n",
      "0               0.000522    0.3790  0.741868       0.0936  0.615900   0.6340  \n",
      "1               0.656000    0.2340  0.698035       0.0426  0.350249   0.2090  \n",
      "2               0.153000    0.0983  0.701276       0.0378  0.520429   0.2260  \n",
      "3               0.004410    0.1570  0.720868       0.0365  0.327863   0.3540  \n",
      "4               0.000005    0.0910  0.722277       0.0386  0.525430   0.0625  \n",
      "...                  ...       ...       ...          ...       ...      ...  \n",
      "159436          0.787000    0.0656  0.667669       0.0430  0.328619   0.5680  \n",
      "159437          0.834000    0.2200  0.723812       0.0824  0.328845   0.2170  \n",
      "159438          0.924000    0.1130  0.531219       0.0438  0.314163   0.0337  \n",
      "159439          0.917000    0.0814  0.609224       0.0621  0.328594   0.6620  \n",
      "159440          0.929000    0.1640  0.573690       0.0421  0.465880   0.0395  \n",
      "\n",
      "[159441 rows x 11 columns]\n"
     ]
    }
   ],
   "source": [
    "X = df.drop(columns=['artists', 'id', 'key', 'mode', 'name', 'popularity', 'release_date', 'year', 'decade'])\n",
    "print(X)"
   ]
  },
  {
   "cell_type": "code",
   "execution_count": 7,
   "id": "adverse-musical",
   "metadata": {},
   "outputs": [],
   "source": [
    "from sklearn.model_selection import train_test_split\n",
    "\n",
    "X_train, X_test, y_train, y_test = train_test_split(X, y, test_size=0.2, random_state=77)"
   ]
  },
  {
   "cell_type": "code",
   "execution_count": 8,
   "id": "taken-forest",
   "metadata": {},
   "outputs": [
    {
     "name": "stdout",
     "output_type": "stream",
     "text": [
      "(127552, 11)\n",
      "(31889, 11)\n",
      "(127552,)\n",
      "(31889,)\n"
     ]
    }
   ],
   "source": [
    "print(X_train.shape)\n",
    "print(X_test.shape)\n",
    "print(y_train.shape)\n",
    "print(y_test.shape)"
   ]
  },
  {
   "cell_type": "code",
   "execution_count": 9,
   "id": "creative-coordinator",
   "metadata": {},
   "outputs": [],
   "source": [
    "from sklearn.linear_model import LogisticRegression\n",
    "\n",
    "clf = LogisticRegression(random_state=0, solver='newton-cg', multi_class='multinomial', verbose=1, max_iter=10000)"
   ]
  },
  {
   "cell_type": "markdown",
   "id": "continental-canyon",
   "metadata": {},
   "source": [
    "# All columns"
   ]
  },
  {
   "cell_type": "code",
   "execution_count": 10,
   "id": "responsible-export",
   "metadata": {},
   "outputs": [
    {
     "name": "stderr",
     "output_type": "stream",
     "text": [
      "[Parallel(n_jobs=1)]: Using backend SequentialBackend with 1 concurrent workers.\n",
      "[Parallel(n_jobs=1)]: Done   1 out of   1 | elapsed:   25.6s finished\n"
     ]
    },
    {
     "data": {
      "text/plain": [
       "LogisticRegression(max_iter=10000, multi_class='multinomial', random_state=0,\n",
       "                   solver='newton-cg', verbose=1)"
      ]
     },
     "execution_count": 10,
     "metadata": {},
     "output_type": "execute_result"
    }
   ],
   "source": [
    "\n",
    "\n",
    "clf.fit(X_train, y_train)\n"
   ]
  },
  {
   "cell_type": "code",
   "execution_count": 11,
   "id": "parallel-dayton",
   "metadata": {},
   "outputs": [
    {
     "data": {
      "text/plain": [
       "0.3147166734610681"
      ]
     },
     "execution_count": 11,
     "metadata": {},
     "output_type": "execute_result"
    }
   ],
   "source": [
    "clf.score(X_test, y_test)"
   ]
  },
  {
   "cell_type": "markdown",
   "id": "lesser-tuesday",
   "metadata": {},
   "source": [
    "# Selected"
   ]
  },
  {
   "cell_type": "code",
   "execution_count": 12,
   "id": "gross-newark",
   "metadata": {},
   "outputs": [],
   "source": [
    "X_train1 = X_train.drop(columns=['liveness', 'speechiness', 'valence', 'danceability', 'instrumentalness'])\n",
    "X_test1 = X_test.drop(columns=['liveness', 'speechiness', 'valence', 'danceability', 'instrumentalness'])"
   ]
  },
  {
   "cell_type": "code",
   "execution_count": 13,
   "id": "adjustable-nerve",
   "metadata": {},
   "outputs": [
    {
     "name": "stderr",
     "output_type": "stream",
     "text": [
      "[Parallel(n_jobs=1)]: Using backend SequentialBackend with 1 concurrent workers.\n",
      "[Parallel(n_jobs=1)]: Done   1 out of   1 | elapsed:   20.4s finished\n"
     ]
    },
    {
     "data": {
      "text/plain": [
       "LogisticRegression(max_iter=10000, multi_class='multinomial', random_state=0,\n",
       "                   solver='newton-cg', verbose=1)"
      ]
     },
     "execution_count": 13,
     "metadata": {},
     "output_type": "execute_result"
    }
   ],
   "source": [
    "clf.fit(X_train1, y_train)\n"
   ]
  },
  {
   "cell_type": "code",
   "execution_count": 14,
   "id": "heard-organic",
   "metadata": {},
   "outputs": [
    {
     "data": {
      "text/plain": [
       "0.2619084950923516"
      ]
     },
     "execution_count": 14,
     "metadata": {},
     "output_type": "execute_result"
    }
   ],
   "source": [
    "clf.score(X_test1, y_test)"
   ]
  },
  {
   "cell_type": "markdown",
   "id": "considerable-roots",
   "metadata": {},
   "source": [
    "# Exclude 1920s and 1930s"
   ]
  },
  {
   "cell_type": "code",
   "execution_count": 15,
   "id": "suspected-france",
   "metadata": {},
   "outputs": [],
   "source": [
    "df_exclude = df[df['decade'] >= 1940]"
   ]
  },
  {
   "cell_type": "code",
   "execution_count": 16,
   "id": "ecological-hormone",
   "metadata": {},
   "outputs": [],
   "source": [
    "X_e = df_exclude.drop(columns=['artists', 'id', 'key', 'mode', 'name', 'popularity', 'release_date', 'year', 'decade'])\n",
    "y_e = df_exclude['decade']"
   ]
  },
  {
   "cell_type": "code",
   "execution_count": 17,
   "id": "loaded-constraint",
   "metadata": {},
   "outputs": [],
   "source": [
    "X_train, X_test, y_train, y_test = train_test_split(X_e, y_e, test_size=0.2, random_state=77)"
   ]
  },
  {
   "cell_type": "code",
   "execution_count": 18,
   "id": "large-season",
   "metadata": {},
   "outputs": [
    {
     "name": "stderr",
     "output_type": "stream",
     "text": [
      "[Parallel(n_jobs=1)]: Using backend SequentialBackend with 1 concurrent workers.\n",
      "[Parallel(n_jobs=1)]: Done   1 out of   1 | elapsed:   19.6s finished\n"
     ]
    },
    {
     "data": {
      "text/plain": [
       "LogisticRegression(max_iter=10000, multi_class='multinomial', random_state=0,\n",
       "                   solver='newton-cg', verbose=1)"
      ]
     },
     "execution_count": 18,
     "metadata": {},
     "output_type": "execute_result"
    }
   ],
   "source": [
    "clf.fit(X_train, y_train)"
   ]
  },
  {
   "cell_type": "code",
   "execution_count": 19,
   "id": "acquired-majority",
   "metadata": {},
   "outputs": [
    {
     "data": {
      "text/plain": [
       "0.3458560466650464"
      ]
     },
     "execution_count": 19,
     "metadata": {},
     "output_type": "execute_result"
    }
   ],
   "source": [
    "clf.score(X_test, y_test)"
   ]
  },
  {
   "cell_type": "code",
   "execution_count": 20,
   "id": "surgical-elite",
   "metadata": {},
   "outputs": [],
   "source": [
    "X_train1 = X_train.drop(columns=['liveness', 'speechiness', 'valence', 'danceability', 'instrumentalness'])\n",
    "X_test1 = X_test.drop(columns=['liveness', 'speechiness', 'valence', 'danceability', 'instrumentalness'])"
   ]
  },
  {
   "cell_type": "code",
   "execution_count": 21,
   "id": "destroyed-writing",
   "metadata": {},
   "outputs": [
    {
     "name": "stderr",
     "output_type": "stream",
     "text": [
      "[Parallel(n_jobs=1)]: Using backend SequentialBackend with 1 concurrent workers.\n",
      "[Parallel(n_jobs=1)]: Done   1 out of   1 | elapsed:   13.6s finished\n"
     ]
    },
    {
     "data": {
      "text/plain": [
       "LogisticRegression(max_iter=10000, multi_class='multinomial', random_state=0,\n",
       "                   solver='newton-cg', verbose=1)"
      ]
     },
     "execution_count": 21,
     "metadata": {},
     "output_type": "execute_result"
    }
   ],
   "source": [
    "clf.fit(X_train1, y_train)"
   ]
  },
  {
   "cell_type": "code",
   "execution_count": 22,
   "id": "other-indiana",
   "metadata": {},
   "outputs": [
    {
     "data": {
      "text/plain": [
       "0.2945036630672546"
      ]
     },
     "execution_count": 22,
     "metadata": {},
     "output_type": "execute_result"
    }
   ],
   "source": [
    "clf.score(X_test1, y_test)"
   ]
  },
  {
   "cell_type": "code",
   "execution_count": null,
   "id": "approximate-block",
   "metadata": {},
   "outputs": [],
   "source": []
  }
 ],
 "metadata": {
  "kernelspec": {
   "display_name": "Python 3",
   "language": "python",
   "name": "python3"
  },
  "language_info": {
   "codemirror_mode": {
    "name": "ipython",
    "version": 3
   },
   "file_extension": ".py",
   "mimetype": "text/x-python",
   "name": "python",
   "nbconvert_exporter": "python",
   "pygments_lexer": "ipython3",
   "version": "3.9.2"
  }
 },
 "nbformat": 4,
 "nbformat_minor": 5
}
