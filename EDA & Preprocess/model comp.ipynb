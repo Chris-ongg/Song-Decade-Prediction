{
 "cells": [
  {
   "cell_type": "code",
   "execution_count": 1,
   "id": "gentle-syndrome",
   "metadata": {},
   "outputs": [],
   "source": [
    "import numpy as np\n",
    "import pandas as pd"
   ]
  },
  {
   "cell_type": "code",
   "execution_count": 2,
   "id": "functioning-faculty",
   "metadata": {},
   "outputs": [],
   "source": [
    "from sklearn.metrics import classification_report\n",
    "import lightgbm as lgbm\n",
    "import xgboost as xgb"
   ]
  },
  {
   "cell_type": "code",
   "execution_count": 3,
   "id": "lightweight-prime",
   "metadata": {},
   "outputs": [],
   "source": [
    "from sklearn.neighbors import KNeighborsClassifier\n",
    "from sklearn.metrics import accuracy_score"
   ]
  },
  {
   "cell_type": "code",
   "execution_count": 4,
   "id": "distant-testament",
   "metadata": {},
   "outputs": [],
   "source": [
    "from sklearn.model_selection import train_test_split\n",
    "\n",
    "df_data = pd.read_csv('recleaned_data_stdscle_v2.csv')\n"
   ]
  },
  {
   "cell_type": "code",
   "execution_count": 5,
   "id": "aggregate-comfort",
   "metadata": {},
   "outputs": [
    {
     "data": {
      "text/plain": [
       "(157104, 29)"
      ]
     },
     "execution_count": 5,
     "metadata": {},
     "output_type": "execute_result"
    }
   ],
   "source": [
    "df_data.shape"
   ]
  },
  {
   "cell_type": "code",
   "execution_count": 6,
   "id": "graphic-saint",
   "metadata": {},
   "outputs": [],
   "source": [
    "#df_data = df_data[df_data['decade'] >= 1940]\n",
    "df_data = df_data[df_data['decade'] <= 2010]\n",
    "df_data = df_data.reset_index(drop=True)"
   ]
  },
  {
   "cell_type": "code",
   "execution_count": 7,
   "id": "abroad-sailing",
   "metadata": {},
   "outputs": [
    {
     "data": {
      "text/plain": [
       "(152834, 29)"
      ]
     },
     "execution_count": 7,
     "metadata": {},
     "output_type": "execute_result"
    }
   ],
   "source": [
    "df_data.shape"
   ]
  },
  {
   "cell_type": "code",
   "execution_count": 8,
   "id": "afraid-jurisdiction",
   "metadata": {},
   "outputs": [],
   "source": [
    "df_data_main = df_data.copy(deep=True)"
   ]
  },
  {
   "cell_type": "code",
   "execution_count": 9,
   "id": "headed-masters",
   "metadata": {},
   "outputs": [
    {
     "data": {
      "text/html": [
       "<div>\n",
       "<style scoped>\n",
       "    .dataframe tbody tr th:only-of-type {\n",
       "        vertical-align: middle;\n",
       "    }\n",
       "\n",
       "    .dataframe tbody tr th {\n",
       "        vertical-align: top;\n",
       "    }\n",
       "\n",
       "    .dataframe thead th {\n",
       "        text-align: right;\n",
       "    }\n",
       "</style>\n",
       "<table border=\"1\" class=\"dataframe\">\n",
       "  <thead>\n",
       "    <tr style=\"text-align: right;\">\n",
       "      <th></th>\n",
       "      <th>danceability</th>\n",
       "      <th>duration_ms</th>\n",
       "      <th>energy</th>\n",
       "      <th>explicit</th>\n",
       "      <th>instrumentalness</th>\n",
       "      <th>liveness</th>\n",
       "      <th>mode</th>\n",
       "      <th>speechiness</th>\n",
       "      <th>tempo</th>\n",
       "      <th>valence</th>\n",
       "      <th>...</th>\n",
       "      <th>key_2</th>\n",
       "      <th>key_3</th>\n",
       "      <th>key_4</th>\n",
       "      <th>key_5</th>\n",
       "      <th>key_6</th>\n",
       "      <th>key_7</th>\n",
       "      <th>key_8</th>\n",
       "      <th>key_9</th>\n",
       "      <th>key_10</th>\n",
       "      <th>key_11</th>\n",
       "    </tr>\n",
       "  </thead>\n",
       "  <tbody>\n",
       "    <tr>\n",
       "      <th>0</th>\n",
       "      <td>0.343090</td>\n",
       "      <td>-0.586049</td>\n",
       "      <td>-0.946776</td>\n",
       "      <td>0</td>\n",
       "      <td>-0.578414</td>\n",
       "      <td>0.929594</td>\n",
       "      <td>0</td>\n",
       "      <td>-0.082136</td>\n",
       "      <td>1.085064</td>\n",
       "      <td>0.402700</td>\n",
       "      <td>...</td>\n",
       "      <td>0.0</td>\n",
       "      <td>0.0</td>\n",
       "      <td>0.0</td>\n",
       "      <td>1.0</td>\n",
       "      <td>0.0</td>\n",
       "      <td>0.0</td>\n",
       "      <td>0.0</td>\n",
       "      <td>0.0</td>\n",
       "      <td>0.0</td>\n",
       "      <td>0.0</td>\n",
       "    </tr>\n",
       "    <tr>\n",
       "      <th>1</th>\n",
       "      <td>-1.888467</td>\n",
       "      <td>-0.431375</td>\n",
       "      <td>-0.909987</td>\n",
       "      <td>0</td>\n",
       "      <td>1.401622</td>\n",
       "      <td>0.123664</td>\n",
       "      <td>1</td>\n",
       "      <td>-0.352830</td>\n",
       "      <td>-1.045986</td>\n",
       "      <td>-1.213104</td>\n",
       "      <td>...</td>\n",
       "      <td>0.0</td>\n",
       "      <td>0.0</td>\n",
       "      <td>0.0</td>\n",
       "      <td>0.0</td>\n",
       "      <td>0.0</td>\n",
       "      <td>0.0</td>\n",
       "      <td>1.0</td>\n",
       "      <td>0.0</td>\n",
       "      <td>0.0</td>\n",
       "      <td>0.0</td>\n",
       "    </tr>\n",
       "    <tr>\n",
       "      <th>2</th>\n",
       "      <td>-0.835630</td>\n",
       "      <td>-0.620337</td>\n",
       "      <td>-1.299951</td>\n",
       "      <td>0</td>\n",
       "      <td>-0.117816</td>\n",
       "      <td>-0.630575</td>\n",
       "      <td>1</td>\n",
       "      <td>-0.378308</td>\n",
       "      <td>0.319193</td>\n",
       "      <td>-1.148472</td>\n",
       "      <td>...</td>\n",
       "      <td>1.0</td>\n",
       "      <td>0.0</td>\n",
       "      <td>0.0</td>\n",
       "      <td>0.0</td>\n",
       "      <td>0.0</td>\n",
       "      <td>0.0</td>\n",
       "      <td>0.0</td>\n",
       "      <td>0.0</td>\n",
       "      <td>0.0</td>\n",
       "      <td>0.0</td>\n",
       "    </tr>\n",
       "    <tr>\n",
       "      <th>3</th>\n",
       "      <td>-1.110283</td>\n",
       "      <td>-0.554578</td>\n",
       "      <td>-1.049785</td>\n",
       "      <td>0</td>\n",
       "      <td>-0.566669</td>\n",
       "      <td>-0.304312</td>\n",
       "      <td>1</td>\n",
       "      <td>-0.385208</td>\n",
       "      <td>-1.225561</td>\n",
       "      <td>-0.661830</td>\n",
       "      <td>...</td>\n",
       "      <td>0.0</td>\n",
       "      <td>0.0</td>\n",
       "      <td>0.0</td>\n",
       "      <td>0.0</td>\n",
       "      <td>0.0</td>\n",
       "      <td>0.0</td>\n",
       "      <td>0.0</td>\n",
       "      <td>0.0</td>\n",
       "      <td>0.0</td>\n",
       "      <td>0.0</td>\n",
       "    </tr>\n",
       "    <tr>\n",
       "      <th>4</th>\n",
       "      <td>-0.732635</td>\n",
       "      <td>-0.434248</td>\n",
       "      <td>-0.681894</td>\n",
       "      <td>1</td>\n",
       "      <td>-0.579976</td>\n",
       "      <td>-0.671149</td>\n",
       "      <td>0</td>\n",
       "      <td>-0.374061</td>\n",
       "      <td>0.359318</td>\n",
       "      <td>-1.770082</td>\n",
       "      <td>...</td>\n",
       "      <td>0.0</td>\n",
       "      <td>0.0</td>\n",
       "      <td>0.0</td>\n",
       "      <td>0.0</td>\n",
       "      <td>0.0</td>\n",
       "      <td>0.0</td>\n",
       "      <td>0.0</td>\n",
       "      <td>0.0</td>\n",
       "      <td>0.0</td>\n",
       "      <td>0.0</td>\n",
       "    </tr>\n",
       "  </tbody>\n",
       "</table>\n",
       "<p>5 rows × 22 columns</p>\n",
       "</div>"
      ],
      "text/plain": [
       "   danceability  duration_ms    energy  explicit  instrumentalness  liveness  \\\n",
       "0      0.343090    -0.586049 -0.946776         0         -0.578414  0.929594   \n",
       "1     -1.888467    -0.431375 -0.909987         0          1.401622  0.123664   \n",
       "2     -0.835630    -0.620337 -1.299951         0         -0.117816 -0.630575   \n",
       "3     -1.110283    -0.554578 -1.049785         0         -0.566669 -0.304312   \n",
       "4     -0.732635    -0.434248 -0.681894         1         -0.579976 -0.671149   \n",
       "\n",
       "   mode  speechiness     tempo   valence  ...  key_2  key_3  key_4  key_5  \\\n",
       "0     0    -0.082136  1.085064  0.402700  ...    0.0    0.0    0.0    1.0   \n",
       "1     1    -0.352830 -1.045986 -1.213104  ...    0.0    0.0    0.0    0.0   \n",
       "2     1    -0.378308  0.319193 -1.148472  ...    1.0    0.0    0.0    0.0   \n",
       "3     1    -0.385208 -1.225561 -0.661830  ...    0.0    0.0    0.0    0.0   \n",
       "4     0    -0.374061  0.359318 -1.770082  ...    0.0    0.0    0.0    0.0   \n",
       "\n",
       "   key_6  key_7  key_8  key_9  key_10  key_11  \n",
       "0    0.0    0.0    0.0    0.0     0.0     0.0  \n",
       "1    0.0    0.0    1.0    0.0     0.0     0.0  \n",
       "2    0.0    0.0    0.0    0.0     0.0     0.0  \n",
       "3    0.0    0.0    0.0    0.0     0.0     0.0  \n",
       "4    0.0    0.0    0.0    0.0     0.0     0.0  \n",
       "\n",
       "[5 rows x 22 columns]"
      ]
     },
     "execution_count": 9,
     "metadata": {},
     "output_type": "execute_result"
    }
   ],
   "source": [
    "labels = df_data.decade\n",
    "\n",
    "df_data = df_data.drop(['artists', 'decade','year', 'key', 'popularity', 'loudness', 'acousticness'], axis=1)\n",
    "df_data.head()"
   ]
  },
  {
   "cell_type": "code",
   "execution_count": 10,
   "id": "colonial-transcription",
   "metadata": {},
   "outputs": [
    {
     "data": {
      "text/plain": [
       "Index(['danceability', 'duration_ms', 'energy', 'explicit', 'instrumentalness',\n",
       "       'liveness', 'mode', 'speechiness', 'tempo', 'valence', 'key_0', 'key_1',\n",
       "       'key_2', 'key_3', 'key_4', 'key_5', 'key_6', 'key_7', 'key_8', 'key_9',\n",
       "       'key_10', 'key_11'],\n",
       "      dtype='object')"
      ]
     },
     "execution_count": 10,
     "metadata": {},
     "output_type": "execute_result"
    }
   ],
   "source": [
    "df_data.columns"
   ]
  },
  {
   "cell_type": "code",
   "execution_count": 11,
   "id": "magnetic-depression",
   "metadata": {},
   "outputs": [],
   "source": [
    "X_train, X_test, y_train, y_test = train_test_split(df_data, labels, test_size=0.20, random_state=2)"
   ]
  },
  {
   "cell_type": "code",
   "execution_count": 12,
   "id": "studied-effectiveness",
   "metadata": {},
   "outputs": [
    {
     "data": {
      "text/plain": [
       "((122267, 22), (122267,), (30567,))"
      ]
     },
     "execution_count": 12,
     "metadata": {},
     "output_type": "execute_result"
    }
   ],
   "source": [
    "X_train.shape, y_train.shape, y_test.shape"
   ]
  },
  {
   "cell_type": "markdown",
   "id": "useful-hacker",
   "metadata": {},
   "source": [
    "## KNN Classifier"
   ]
  },
  {
   "cell_type": "code",
   "execution_count": 13,
   "id": "binding-sarah",
   "metadata": {},
   "outputs": [
    {
     "name": "stdout",
     "output_type": "stream",
     "text": [
      "              precision    recall  f1-score   support\n",
      "\n",
      "        1920       0.43      0.26      0.32      1058\n",
      "        1930       0.41      0.34      0.37      2002\n",
      "        1940       0.33      0.38      0.35      2804\n",
      "        1950       0.29      0.38      0.33      3643\n",
      "        1960       0.29      0.40      0.34      3525\n",
      "        1970       0.28      0.32      0.30      3632\n",
      "        1980       0.28      0.29      0.29      3663\n",
      "        1990       0.30      0.24      0.27      3727\n",
      "        2000       0.25      0.10      0.15      2445\n",
      "        2010       0.51      0.45      0.48      4068\n",
      "\n",
      "    accuracy                           0.33     30567\n",
      "   macro avg       0.34      0.32      0.32     30567\n",
      "weighted avg       0.33      0.33      0.32     30567\n",
      "\n",
      "0.32718290967383123\n"
     ]
    }
   ],
   "source": [
    "#KNN classifier\n",
    "classifier = KNeighborsClassifier(n_neighbors=27)\n",
    "classifier.fit(X_train, y_train)\n",
    "y_pred = classifier.predict(X_test)\n",
    "# from sklearn.metrics import classification_report\n",
    "print(classification_report(y_test, y_pred))\n",
    "print(accuracy_score(y_test, y_pred))"
   ]
  },
  {
   "cell_type": "code",
   "execution_count": 14,
   "id": "organic-proceeding",
   "metadata": {},
   "outputs": [
    {
     "data": {
      "text/html": [
       "<div>\n",
       "<style scoped>\n",
       "    .dataframe tbody tr th:only-of-type {\n",
       "        vertical-align: middle;\n",
       "    }\n",
       "\n",
       "    .dataframe tbody tr th {\n",
       "        vertical-align: top;\n",
       "    }\n",
       "\n",
       "    .dataframe thead th {\n",
       "        text-align: right;\n",
       "    }\n",
       "</style>\n",
       "<table border=\"1\" class=\"dataframe\">\n",
       "  <thead>\n",
       "    <tr style=\"text-align: right;\">\n",
       "      <th></th>\n",
       "      <th>1920</th>\n",
       "      <th>1930</th>\n",
       "      <th>1940</th>\n",
       "      <th>1950</th>\n",
       "      <th>1960</th>\n",
       "      <th>1970</th>\n",
       "      <th>1980</th>\n",
       "      <th>1990</th>\n",
       "      <th>2000</th>\n",
       "      <th>2010</th>\n",
       "      <th>accuracy</th>\n",
       "      <th>macro avg</th>\n",
       "      <th>weighted avg</th>\n",
       "    </tr>\n",
       "  </thead>\n",
       "  <tbody>\n",
       "    <tr>\n",
       "      <th>precision</th>\n",
       "      <td>0.431962</td>\n",
       "      <td>0.414559</td>\n",
       "      <td>0.330028</td>\n",
       "      <td>0.288521</td>\n",
       "      <td>0.290070</td>\n",
       "      <td>0.279019</td>\n",
       "      <td>0.283024</td>\n",
       "      <td>0.304631</td>\n",
       "      <td>0.254803</td>\n",
       "      <td>0.508042</td>\n",
       "      <td>0.327183</td>\n",
       "      <td>0.338466</td>\n",
       "      <td>0.332421</td>\n",
       "    </tr>\n",
       "    <tr>\n",
       "      <th>recall</th>\n",
       "      <td>0.258034</td>\n",
       "      <td>0.335664</td>\n",
       "      <td>0.379815</td>\n",
       "      <td>0.382926</td>\n",
       "      <td>0.399433</td>\n",
       "      <td>0.316355</td>\n",
       "      <td>0.291291</td>\n",
       "      <td>0.238261</td>\n",
       "      <td>0.103067</td>\n",
       "      <td>0.450344</td>\n",
       "      <td>0.327183</td>\n",
       "      <td>0.315519</td>\n",
       "      <td>0.327183</td>\n",
       "    </tr>\n",
       "    <tr>\n",
       "      <th>f1-score</th>\n",
       "      <td>0.323077</td>\n",
       "      <td>0.370963</td>\n",
       "      <td>0.353175</td>\n",
       "      <td>0.329087</td>\n",
       "      <td>0.336078</td>\n",
       "      <td>0.296516</td>\n",
       "      <td>0.287098</td>\n",
       "      <td>0.267389</td>\n",
       "      <td>0.146768</td>\n",
       "      <td>0.477456</td>\n",
       "      <td>0.327183</td>\n",
       "      <td>0.318761</td>\n",
       "      <td>0.323375</td>\n",
       "    </tr>\n",
       "    <tr>\n",
       "      <th>support</th>\n",
       "      <td>1058.000000</td>\n",
       "      <td>2002.000000</td>\n",
       "      <td>2804.000000</td>\n",
       "      <td>3643.000000</td>\n",
       "      <td>3525.000000</td>\n",
       "      <td>3632.000000</td>\n",
       "      <td>3663.000000</td>\n",
       "      <td>3727.000000</td>\n",
       "      <td>2445.000000</td>\n",
       "      <td>4068.000000</td>\n",
       "      <td>0.327183</td>\n",
       "      <td>30567.000000</td>\n",
       "      <td>30567.000000</td>\n",
       "    </tr>\n",
       "  </tbody>\n",
       "</table>\n",
       "</div>"
      ],
      "text/plain": [
       "                  1920         1930         1940         1950         1960  \\\n",
       "precision     0.431962     0.414559     0.330028     0.288521     0.290070   \n",
       "recall        0.258034     0.335664     0.379815     0.382926     0.399433   \n",
       "f1-score      0.323077     0.370963     0.353175     0.329087     0.336078   \n",
       "support    1058.000000  2002.000000  2804.000000  3643.000000  3525.000000   \n",
       "\n",
       "                  1970         1980         1990         2000         2010  \\\n",
       "precision     0.279019     0.283024     0.304631     0.254803     0.508042   \n",
       "recall        0.316355     0.291291     0.238261     0.103067     0.450344   \n",
       "f1-score      0.296516     0.287098     0.267389     0.146768     0.477456   \n",
       "support    3632.000000  3663.000000  3727.000000  2445.000000  4068.000000   \n",
       "\n",
       "           accuracy     macro avg  weighted avg  \n",
       "precision  0.327183      0.338466      0.332421  \n",
       "recall     0.327183      0.315519      0.327183  \n",
       "f1-score   0.327183      0.318761      0.323375  \n",
       "support    0.327183  30567.000000  30567.000000  "
      ]
     },
     "execution_count": 14,
     "metadata": {},
     "output_type": "execute_result"
    }
   ],
   "source": [
    "cr_df = pd.DataFrame(classification_report(y_test, y_pred, output_dict=True))\n",
    "cr_df"
   ]
  },
  {
   "cell_type": "markdown",
   "id": "acquired-problem",
   "metadata": {},
   "source": [
    "## XGB and LGBM"
   ]
  },
  {
   "cell_type": "code",
   "execution_count": 15,
   "id": "australian-basement",
   "metadata": {},
   "outputs": [
    {
     "name": "stdout",
     "output_type": "stream",
     "text": [
      "              precision    recall  f1-score   support\n",
      "\n",
      "        1920       0.61      0.36      0.45      1058\n",
      "        1930       0.50      0.39      0.44      2002\n",
      "        1940       0.40      0.47      0.43      2804\n",
      "        1950       0.33      0.46      0.39      3643\n",
      "        1960       0.36      0.44      0.40      3525\n",
      "        1970       0.35      0.37      0.36      3632\n",
      "        1980       0.36      0.34      0.35      3663\n",
      "        1990       0.37      0.28      0.32      3727\n",
      "        2000       0.32      0.14      0.19      2445\n",
      "        2010       0.52      0.56      0.54      4068\n",
      "\n",
      "    accuracy                           0.39     30567\n",
      "   macro avg       0.41      0.38      0.39     30567\n",
      "weighted avg       0.40      0.39      0.39     30567\n",
      "\n"
     ]
    }
   ],
   "source": [
    "model_lgbm = lgbm.LGBMClassifier()\n",
    "\n",
    "model_lgbm.fit(X_train, y_train)\n",
    "\n",
    "model_lgbm.score(X_test, y_test)\n",
    "\n",
    "y_pred = model_lgbm.predict(X_test)\n",
    "\n",
    "print(classification_report(y_test, y_pred))"
   ]
  },
  {
   "cell_type": "code",
   "execution_count": 16,
   "id": "protecting-hudson",
   "metadata": {},
   "outputs": [
    {
     "name": "stdout",
     "output_type": "stream",
     "text": [
      "0.3922203683711192\n"
     ]
    }
   ],
   "source": [
    "\n",
    "print(accuracy_score(y_test, y_pred))"
   ]
  },
  {
   "cell_type": "code",
   "execution_count": 17,
   "id": "lined-candy",
   "metadata": {},
   "outputs": [
    {
     "data": {
      "text/html": [
       "<div>\n",
       "<style scoped>\n",
       "    .dataframe tbody tr th:only-of-type {\n",
       "        vertical-align: middle;\n",
       "    }\n",
       "\n",
       "    .dataframe tbody tr th {\n",
       "        vertical-align: top;\n",
       "    }\n",
       "\n",
       "    .dataframe thead th {\n",
       "        text-align: right;\n",
       "    }\n",
       "</style>\n",
       "<table border=\"1\" class=\"dataframe\">\n",
       "  <thead>\n",
       "    <tr style=\"text-align: right;\">\n",
       "      <th></th>\n",
       "      <th>1920</th>\n",
       "      <th>1930</th>\n",
       "      <th>1940</th>\n",
       "      <th>1950</th>\n",
       "      <th>1960</th>\n",
       "      <th>1970</th>\n",
       "      <th>1980</th>\n",
       "      <th>1990</th>\n",
       "      <th>2000</th>\n",
       "      <th>2010</th>\n",
       "      <th>accuracy</th>\n",
       "      <th>macro avg</th>\n",
       "      <th>weighted avg</th>\n",
       "    </tr>\n",
       "  </thead>\n",
       "  <tbody>\n",
       "    <tr>\n",
       "      <th>precision</th>\n",
       "      <td>0.605431</td>\n",
       "      <td>0.501271</td>\n",
       "      <td>0.397885</td>\n",
       "      <td>0.331227</td>\n",
       "      <td>0.361310</td>\n",
       "      <td>0.345787</td>\n",
       "      <td>0.355971</td>\n",
       "      <td>0.365431</td>\n",
       "      <td>0.321058</td>\n",
       "      <td>0.524914</td>\n",
       "      <td>0.39222</td>\n",
       "      <td>0.411028</td>\n",
       "      <td>0.395268</td>\n",
       "    </tr>\n",
       "    <tr>\n",
       "      <th>recall</th>\n",
       "      <td>0.358223</td>\n",
       "      <td>0.394106</td>\n",
       "      <td>0.469686</td>\n",
       "      <td>0.460335</td>\n",
       "      <td>0.444539</td>\n",
       "      <td>0.369493</td>\n",
       "      <td>0.337701</td>\n",
       "      <td>0.283069</td>\n",
       "      <td>0.139059</td>\n",
       "      <td>0.561947</td>\n",
       "      <td>0.39222</td>\n",
       "      <td>0.381816</td>\n",
       "      <td>0.392220</td>\n",
       "    </tr>\n",
       "    <tr>\n",
       "      <th>f1-score</th>\n",
       "      <td>0.450119</td>\n",
       "      <td>0.441275</td>\n",
       "      <td>0.430815</td>\n",
       "      <td>0.385252</td>\n",
       "      <td>0.398626</td>\n",
       "      <td>0.357247</td>\n",
       "      <td>0.346596</td>\n",
       "      <td>0.319020</td>\n",
       "      <td>0.194064</td>\n",
       "      <td>0.542799</td>\n",
       "      <td>0.39222</td>\n",
       "      <td>0.386581</td>\n",
       "      <td>0.386527</td>\n",
       "    </tr>\n",
       "    <tr>\n",
       "      <th>support</th>\n",
       "      <td>1058.000000</td>\n",
       "      <td>2002.000000</td>\n",
       "      <td>2804.000000</td>\n",
       "      <td>3643.000000</td>\n",
       "      <td>3525.000000</td>\n",
       "      <td>3632.000000</td>\n",
       "      <td>3663.000000</td>\n",
       "      <td>3727.000000</td>\n",
       "      <td>2445.000000</td>\n",
       "      <td>4068.000000</td>\n",
       "      <td>0.39222</td>\n",
       "      <td>30567.000000</td>\n",
       "      <td>30567.000000</td>\n",
       "    </tr>\n",
       "  </tbody>\n",
       "</table>\n",
       "</div>"
      ],
      "text/plain": [
       "                  1920         1930         1940         1950         1960  \\\n",
       "precision     0.605431     0.501271     0.397885     0.331227     0.361310   \n",
       "recall        0.358223     0.394106     0.469686     0.460335     0.444539   \n",
       "f1-score      0.450119     0.441275     0.430815     0.385252     0.398626   \n",
       "support    1058.000000  2002.000000  2804.000000  3643.000000  3525.000000   \n",
       "\n",
       "                  1970         1980         1990         2000         2010  \\\n",
       "precision     0.345787     0.355971     0.365431     0.321058     0.524914   \n",
       "recall        0.369493     0.337701     0.283069     0.139059     0.561947   \n",
       "f1-score      0.357247     0.346596     0.319020     0.194064     0.542799   \n",
       "support    3632.000000  3663.000000  3727.000000  2445.000000  4068.000000   \n",
       "\n",
       "           accuracy     macro avg  weighted avg  \n",
       "precision   0.39222      0.411028      0.395268  \n",
       "recall      0.39222      0.381816      0.392220  \n",
       "f1-score    0.39222      0.386581      0.386527  \n",
       "support     0.39222  30567.000000  30567.000000  "
      ]
     },
     "execution_count": 17,
     "metadata": {},
     "output_type": "execute_result"
    }
   ],
   "source": [
    "lgbm_df = pd.DataFrame(classification_report(y_test, y_pred, output_dict=True))\n",
    "lgbm_df"
   ]
  },
  {
   "cell_type": "code",
   "execution_count": 18,
   "id": "casual-patio",
   "metadata": {},
   "outputs": [
    {
     "data": {
      "text/plain": [
       "0.3922203683711192"
      ]
     },
     "execution_count": 18,
     "metadata": {},
     "output_type": "execute_result"
    }
   ],
   "source": [
    "model_lgbm.score(X_test, y_test)"
   ]
  },
  {
   "cell_type": "code",
   "execution_count": 19,
   "id": "hindu-cosmetic",
   "metadata": {},
   "outputs": [
    {
     "name": "stderr",
     "output_type": "stream",
     "text": [
      "/home/tserg/miniconda3/envs/it5006/lib/python3.8/site-packages/xgboost/sklearn.py:888: UserWarning: The use of label encoder in XGBClassifier is deprecated and will be removed in a future release. To remove this warning, do the following: 1) Pass option use_label_encoder=False when constructing XGBClassifier object; and 2) Encode your labels (y) as integers starting with 0, i.e. 0, 1, 2, ..., [num_class - 1].\n",
      "  warnings.warn(label_encoder_deprecation_msg, UserWarning)\n"
     ]
    },
    {
     "name": "stdout",
     "output_type": "stream",
     "text": [
      "[23:05:53] WARNING: ../src/learner.cc:1061: Starting in XGBoost 1.3.0, the default evaluation metric used with the objective 'multi:softprob' was changed from 'merror' to 'mlogloss'. Explicitly set eval_metric if you'd like to restore the old behavior.\n",
      "              precision    recall  f1-score   support\n",
      "\n",
      "        1920       0.61      0.37      0.46      1058\n",
      "        1930       0.51      0.39      0.44      2002\n",
      "        1940       0.39      0.47      0.43      2804\n",
      "        1950       0.33      0.44      0.38      3643\n",
      "        1960       0.37      0.44      0.40      3525\n",
      "        1970       0.35      0.38      0.36      3632\n",
      "        1980       0.36      0.34      0.35      3663\n",
      "        1990       0.36      0.29      0.32      3727\n",
      "        2000       0.32      0.16      0.21      2445\n",
      "        2010       0.53      0.57      0.55      4068\n",
      "\n",
      "    accuracy                           0.39     30567\n",
      "   macro avg       0.41      0.38      0.39     30567\n",
      "weighted avg       0.40      0.39      0.39     30567\n",
      "\n",
      "0.3942814145974417\n"
     ]
    }
   ],
   "source": [
    "model_xgb = xgb.XGBClassifier()\n",
    "\n",
    "model_xgb.fit(X_train, y_train)\n",
    "\n",
    "model_xgb.score(X_test, y_test)\n",
    "\n",
    "y_pred = model_xgb.predict(X_test)\n",
    "\n",
    "print(classification_report(y_test, y_pred))\n",
    "print(accuracy_score(y_test, y_pred))"
   ]
  },
  {
   "cell_type": "code",
   "execution_count": 20,
   "id": "serious-crisis",
   "metadata": {},
   "outputs": [
    {
     "data": {
      "text/html": [
       "<div>\n",
       "<style scoped>\n",
       "    .dataframe tbody tr th:only-of-type {\n",
       "        vertical-align: middle;\n",
       "    }\n",
       "\n",
       "    .dataframe tbody tr th {\n",
       "        vertical-align: top;\n",
       "    }\n",
       "\n",
       "    .dataframe thead th {\n",
       "        text-align: right;\n",
       "    }\n",
       "</style>\n",
       "<table border=\"1\" class=\"dataframe\">\n",
       "  <thead>\n",
       "    <tr style=\"text-align: right;\">\n",
       "      <th></th>\n",
       "      <th>1920</th>\n",
       "      <th>1930</th>\n",
       "      <th>1940</th>\n",
       "      <th>1950</th>\n",
       "      <th>1960</th>\n",
       "      <th>1970</th>\n",
       "      <th>1980</th>\n",
       "      <th>1990</th>\n",
       "      <th>2000</th>\n",
       "      <th>2010</th>\n",
       "      <th>accuracy</th>\n",
       "      <th>macro avg</th>\n",
       "      <th>weighted avg</th>\n",
       "    </tr>\n",
       "  </thead>\n",
       "  <tbody>\n",
       "    <tr>\n",
       "      <th>precision</th>\n",
       "      <td>0.605304</td>\n",
       "      <td>0.506197</td>\n",
       "      <td>0.390564</td>\n",
       "      <td>0.332441</td>\n",
       "      <td>0.366362</td>\n",
       "      <td>0.347826</td>\n",
       "      <td>0.358739</td>\n",
       "      <td>0.363543</td>\n",
       "      <td>0.323967</td>\n",
       "      <td>0.533486</td>\n",
       "      <td>0.394281</td>\n",
       "      <td>0.412843</td>\n",
       "      <td>0.397359</td>\n",
       "    </tr>\n",
       "    <tr>\n",
       "      <th>recall</th>\n",
       "      <td>0.366730</td>\n",
       "      <td>0.387612</td>\n",
       "      <td>0.466476</td>\n",
       "      <td>0.443316</td>\n",
       "      <td>0.443688</td>\n",
       "      <td>0.376652</td>\n",
       "      <td>0.341796</td>\n",
       "      <td>0.285216</td>\n",
       "      <td>0.160327</td>\n",
       "      <td>0.571780</td>\n",
       "      <td>0.394281</td>\n",
       "      <td>0.384359</td>\n",
       "      <td>0.394281</td>\n",
       "    </tr>\n",
       "    <tr>\n",
       "      <th>f1-score</th>\n",
       "      <td>0.456739</td>\n",
       "      <td>0.439038</td>\n",
       "      <td>0.425158</td>\n",
       "      <td>0.379955</td>\n",
       "      <td>0.401334</td>\n",
       "      <td>0.361666</td>\n",
       "      <td>0.350063</td>\n",
       "      <td>0.319651</td>\n",
       "      <td>0.214501</td>\n",
       "      <td>0.551970</td>\n",
       "      <td>0.394281</td>\n",
       "      <td>0.390008</td>\n",
       "      <td>0.389645</td>\n",
       "    </tr>\n",
       "    <tr>\n",
       "      <th>support</th>\n",
       "      <td>1058.000000</td>\n",
       "      <td>2002.000000</td>\n",
       "      <td>2804.000000</td>\n",
       "      <td>3643.000000</td>\n",
       "      <td>3525.000000</td>\n",
       "      <td>3632.000000</td>\n",
       "      <td>3663.000000</td>\n",
       "      <td>3727.000000</td>\n",
       "      <td>2445.000000</td>\n",
       "      <td>4068.000000</td>\n",
       "      <td>0.394281</td>\n",
       "      <td>30567.000000</td>\n",
       "      <td>30567.000000</td>\n",
       "    </tr>\n",
       "  </tbody>\n",
       "</table>\n",
       "</div>"
      ],
      "text/plain": [
       "                  1920         1930         1940         1950         1960  \\\n",
       "precision     0.605304     0.506197     0.390564     0.332441     0.366362   \n",
       "recall        0.366730     0.387612     0.466476     0.443316     0.443688   \n",
       "f1-score      0.456739     0.439038     0.425158     0.379955     0.401334   \n",
       "support    1058.000000  2002.000000  2804.000000  3643.000000  3525.000000   \n",
       "\n",
       "                  1970         1980         1990         2000         2010  \\\n",
       "precision     0.347826     0.358739     0.363543     0.323967     0.533486   \n",
       "recall        0.376652     0.341796     0.285216     0.160327     0.571780   \n",
       "f1-score      0.361666     0.350063     0.319651     0.214501     0.551970   \n",
       "support    3632.000000  3663.000000  3727.000000  2445.000000  4068.000000   \n",
       "\n",
       "           accuracy     macro avg  weighted avg  \n",
       "precision  0.394281      0.412843      0.397359  \n",
       "recall     0.394281      0.384359      0.394281  \n",
       "f1-score   0.394281      0.390008      0.389645  \n",
       "support    0.394281  30567.000000  30567.000000  "
      ]
     },
     "execution_count": 20,
     "metadata": {},
     "output_type": "execute_result"
    }
   ],
   "source": [
    "xgb_df = pd.DataFrame(classification_report(y_test, y_pred, output_dict=True))\n",
    "xgb_df"
   ]
  },
  {
   "cell_type": "markdown",
   "id": "hairy-tiger",
   "metadata": {},
   "source": [
    "## Random Forest"
   ]
  },
  {
   "cell_type": "code",
   "execution_count": 21,
   "id": "modified-thailand",
   "metadata": {},
   "outputs": [
    {
     "name": "stderr",
     "output_type": "stream",
     "text": [
      "[Parallel(n_jobs=1)]: Using backend SequentialBackend with 1 concurrent workers.\n",
      "[Parallel(n_jobs=1)]: Done 100 out of 100 | elapsed:   23.3s finished\n",
      "[Parallel(n_jobs=1)]: Using backend SequentialBackend with 1 concurrent workers.\n",
      "[Parallel(n_jobs=1)]: Done 100 out of 100 | elapsed:    1.0s finished\n",
      "[Parallel(n_jobs=1)]: Using backend SequentialBackend with 1 concurrent workers.\n"
     ]
    },
    {
     "name": "stdout",
     "output_type": "stream",
     "text": [
      "              precision    recall  f1-score   support\n",
      "\n",
      "        1920       0.68      0.37      0.48      1058\n",
      "        1930       0.53      0.39      0.45      2002\n",
      "        1940       0.39      0.46      0.42      2804\n",
      "        1950       0.34      0.47      0.39      3643\n",
      "        1960       0.36      0.46      0.40      3525\n",
      "        1970       0.33      0.36      0.35      3632\n",
      "        1980       0.34      0.34      0.34      3663\n",
      "        1990       0.35      0.27      0.31      3727\n",
      "        2000       0.30      0.13      0.18      2445\n",
      "        2010       0.53      0.55      0.54      4068\n",
      "\n",
      "    accuracy                           0.39     30567\n",
      "   macro avg       0.42      0.38      0.39     30567\n",
      "weighted avg       0.40      0.39      0.38     30567\n",
      "\n",
      "0.39006117708640037\n"
     ]
    },
    {
     "name": "stderr",
     "output_type": "stream",
     "text": [
      "[Parallel(n_jobs=1)]: Done 100 out of 100 | elapsed:    1.0s finished\n"
     ]
    }
   ],
   "source": [
    "from sklearn.ensemble import RandomForestClassifier\n",
    "\n",
    "rfc = RandomForestClassifier(verbose=1)\n",
    "\n",
    "rfc.fit(X_train, y_train)\n",
    "\n",
    "\n",
    "rfc.score(X_test, y_test)\n",
    "\n",
    "y_pred = rfc.predict(X_test)\n",
    "\n",
    "print(classification_report(y_test, y_pred))\n",
    "print(accuracy_score(y_test, y_pred))"
   ]
  },
  {
   "cell_type": "code",
   "execution_count": 22,
   "id": "distinguished-portsmouth",
   "metadata": {},
   "outputs": [
    {
     "data": {
      "text/html": [
       "<div>\n",
       "<style scoped>\n",
       "    .dataframe tbody tr th:only-of-type {\n",
       "        vertical-align: middle;\n",
       "    }\n",
       "\n",
       "    .dataframe tbody tr th {\n",
       "        vertical-align: top;\n",
       "    }\n",
       "\n",
       "    .dataframe thead th {\n",
       "        text-align: right;\n",
       "    }\n",
       "</style>\n",
       "<table border=\"1\" class=\"dataframe\">\n",
       "  <thead>\n",
       "    <tr style=\"text-align: right;\">\n",
       "      <th></th>\n",
       "      <th>1920</th>\n",
       "      <th>1930</th>\n",
       "      <th>1940</th>\n",
       "      <th>1950</th>\n",
       "      <th>1960</th>\n",
       "      <th>1970</th>\n",
       "      <th>1980</th>\n",
       "      <th>1990</th>\n",
       "      <th>2000</th>\n",
       "      <th>2010</th>\n",
       "      <th>accuracy</th>\n",
       "      <th>macro avg</th>\n",
       "      <th>weighted avg</th>\n",
       "    </tr>\n",
       "  </thead>\n",
       "  <tbody>\n",
       "    <tr>\n",
       "      <th>precision</th>\n",
       "      <td>0.682927</td>\n",
       "      <td>0.534565</td>\n",
       "      <td>0.394971</td>\n",
       "      <td>0.337200</td>\n",
       "      <td>0.358160</td>\n",
       "      <td>0.334881</td>\n",
       "      <td>0.344656</td>\n",
       "      <td>0.353023</td>\n",
       "      <td>0.304559</td>\n",
       "      <td>0.529898</td>\n",
       "      <td>0.390061</td>\n",
       "      <td>0.417484</td>\n",
       "      <td>0.395391</td>\n",
       "    </tr>\n",
       "    <tr>\n",
       "      <th>recall</th>\n",
       "      <td>0.370510</td>\n",
       "      <td>0.390110</td>\n",
       "      <td>0.459344</td>\n",
       "      <td>0.470766</td>\n",
       "      <td>0.463830</td>\n",
       "      <td>0.357379</td>\n",
       "      <td>0.340704</td>\n",
       "      <td>0.270995</td>\n",
       "      <td>0.128425</td>\n",
       "      <td>0.551131</td>\n",
       "      <td>0.390061</td>\n",
       "      <td>0.380319</td>\n",
       "      <td>0.390061</td>\n",
       "    </tr>\n",
       "    <tr>\n",
       "      <th>f1-score</th>\n",
       "      <td>0.480392</td>\n",
       "      <td>0.451054</td>\n",
       "      <td>0.424732</td>\n",
       "      <td>0.392943</td>\n",
       "      <td>0.404203</td>\n",
       "      <td>0.345765</td>\n",
       "      <td>0.342669</td>\n",
       "      <td>0.306618</td>\n",
       "      <td>0.180667</td>\n",
       "      <td>0.540306</td>\n",
       "      <td>0.390061</td>\n",
       "      <td>0.386935</td>\n",
       "      <td>0.384467</td>\n",
       "    </tr>\n",
       "    <tr>\n",
       "      <th>support</th>\n",
       "      <td>1058.000000</td>\n",
       "      <td>2002.000000</td>\n",
       "      <td>2804.000000</td>\n",
       "      <td>3643.000000</td>\n",
       "      <td>3525.000000</td>\n",
       "      <td>3632.000000</td>\n",
       "      <td>3663.000000</td>\n",
       "      <td>3727.000000</td>\n",
       "      <td>2445.000000</td>\n",
       "      <td>4068.000000</td>\n",
       "      <td>0.390061</td>\n",
       "      <td>30567.000000</td>\n",
       "      <td>30567.000000</td>\n",
       "    </tr>\n",
       "  </tbody>\n",
       "</table>\n",
       "</div>"
      ],
      "text/plain": [
       "                  1920         1930         1940         1950         1960  \\\n",
       "precision     0.682927     0.534565     0.394971     0.337200     0.358160   \n",
       "recall        0.370510     0.390110     0.459344     0.470766     0.463830   \n",
       "f1-score      0.480392     0.451054     0.424732     0.392943     0.404203   \n",
       "support    1058.000000  2002.000000  2804.000000  3643.000000  3525.000000   \n",
       "\n",
       "                  1970         1980         1990         2000         2010  \\\n",
       "precision     0.334881     0.344656     0.353023     0.304559     0.529898   \n",
       "recall        0.357379     0.340704     0.270995     0.128425     0.551131   \n",
       "f1-score      0.345765     0.342669     0.306618     0.180667     0.540306   \n",
       "support    3632.000000  3663.000000  3727.000000  2445.000000  4068.000000   \n",
       "\n",
       "           accuracy     macro avg  weighted avg  \n",
       "precision  0.390061      0.417484      0.395391  \n",
       "recall     0.390061      0.380319      0.390061  \n",
       "f1-score   0.390061      0.386935      0.384467  \n",
       "support    0.390061  30567.000000  30567.000000  "
      ]
     },
     "execution_count": 22,
     "metadata": {},
     "output_type": "execute_result"
    }
   ],
   "source": [
    "rf_df = pd.DataFrame(classification_report(y_test, y_pred, output_dict=True))\n",
    "rf_df"
   ]
  },
  {
   "cell_type": "markdown",
   "id": "comparable-decline",
   "metadata": {},
   "source": [
    "# Artist analysis"
   ]
  },
  {
   "cell_type": "code",
   "execution_count": 23,
   "id": "christian-scientist",
   "metadata": {},
   "outputs": [],
   "source": [
    "import matplotlib.pyplot as plt"
   ]
  },
  {
   "cell_type": "code",
   "execution_count": 24,
   "id": "prerequisite-chassis",
   "metadata": {},
   "outputs": [],
   "source": [
    "df_data_main['artists_count'] = df_data_main['artists'].apply(lambda x: len(x.split(\",\")))"
   ]
  },
  {
   "cell_type": "code",
   "execution_count": 25,
   "id": "saving-shell",
   "metadata": {},
   "outputs": [
    {
     "data": {
      "text/html": [
       "<div>\n",
       "<style scoped>\n",
       "    .dataframe tbody tr th:only-of-type {\n",
       "        vertical-align: middle;\n",
       "    }\n",
       "\n",
       "    .dataframe tbody tr th {\n",
       "        vertical-align: top;\n",
       "    }\n",
       "\n",
       "    .dataframe thead th {\n",
       "        text-align: right;\n",
       "    }\n",
       "</style>\n",
       "<table border=\"1\" class=\"dataframe\">\n",
       "  <thead>\n",
       "    <tr style=\"text-align: right;\">\n",
       "      <th></th>\n",
       "      <th>decade</th>\n",
       "      <th>artists</th>\n",
       "    </tr>\n",
       "  </thead>\n",
       "  <tbody>\n",
       "    <tr>\n",
       "      <th>0</th>\n",
       "      <td>1920</td>\n",
       "      <td>716</td>\n",
       "    </tr>\n",
       "    <tr>\n",
       "      <th>1</th>\n",
       "      <td>1930</td>\n",
       "      <td>1710</td>\n",
       "    </tr>\n",
       "    <tr>\n",
       "      <th>2</th>\n",
       "      <td>1940</td>\n",
       "      <td>3434</td>\n",
       "    </tr>\n",
       "    <tr>\n",
       "      <th>3</th>\n",
       "      <td>1950</td>\n",
       "      <td>4353</td>\n",
       "    </tr>\n",
       "    <tr>\n",
       "      <th>4</th>\n",
       "      <td>1960</td>\n",
       "      <td>2631</td>\n",
       "    </tr>\n",
       "    <tr>\n",
       "      <th>5</th>\n",
       "      <td>1970</td>\n",
       "      <td>2884</td>\n",
       "    </tr>\n",
       "    <tr>\n",
       "      <th>6</th>\n",
       "      <td>1980</td>\n",
       "      <td>3862</td>\n",
       "    </tr>\n",
       "    <tr>\n",
       "      <th>7</th>\n",
       "      <td>1990</td>\n",
       "      <td>5707</td>\n",
       "    </tr>\n",
       "    <tr>\n",
       "      <th>8</th>\n",
       "      <td>2000</td>\n",
       "      <td>5098</td>\n",
       "    </tr>\n",
       "    <tr>\n",
       "      <th>9</th>\n",
       "      <td>2010</td>\n",
       "      <td>9546</td>\n",
       "    </tr>\n",
       "  </tbody>\n",
       "</table>\n",
       "</div>"
      ],
      "text/plain": [
       "   decade  artists\n",
       "0    1920      716\n",
       "1    1930     1710\n",
       "2    1940     3434\n",
       "3    1950     4353\n",
       "4    1960     2631\n",
       "5    1970     2884\n",
       "6    1980     3862\n",
       "7    1990     5707\n",
       "8    2000     5098\n",
       "9    2010     9546"
      ]
     },
     "execution_count": 25,
     "metadata": {},
     "output_type": "execute_result"
    }
   ],
   "source": [
    "df_decade_unique_artists = df_data_main.groupby(df_data_main['decade'], as_index=False)['artists'].apply(lambda x: len(list(np.unique(x))))\n",
    "df_decade_unique_artists"
   ]
  },
  {
   "cell_type": "code",
   "execution_count": 26,
   "id": "suburban-isolation",
   "metadata": {},
   "outputs": [
    {
     "data": {
      "text/html": [
       "<div>\n",
       "<style scoped>\n",
       "    .dataframe tbody tr th:only-of-type {\n",
       "        vertical-align: middle;\n",
       "    }\n",
       "\n",
       "    .dataframe tbody tr th {\n",
       "        vertical-align: top;\n",
       "    }\n",
       "\n",
       "    .dataframe thead th {\n",
       "        text-align: right;\n",
       "    }\n",
       "</style>\n",
       "<table border=\"1\" class=\"dataframe\">\n",
       "  <thead>\n",
       "    <tr style=\"text-align: right;\">\n",
       "      <th></th>\n",
       "      <th>decade</th>\n",
       "      <th>count</th>\n",
       "    </tr>\n",
       "  </thead>\n",
       "  <tbody>\n",
       "    <tr>\n",
       "      <th>0</th>\n",
       "      <td>1920</td>\n",
       "      <td>5160</td>\n",
       "    </tr>\n",
       "    <tr>\n",
       "      <th>1</th>\n",
       "      <td>1930</td>\n",
       "      <td>10061</td>\n",
       "    </tr>\n",
       "    <tr>\n",
       "      <th>2</th>\n",
       "      <td>1940</td>\n",
       "      <td>13976</td>\n",
       "    </tr>\n",
       "    <tr>\n",
       "      <th>3</th>\n",
       "      <td>1950</td>\n",
       "      <td>18386</td>\n",
       "    </tr>\n",
       "    <tr>\n",
       "      <th>4</th>\n",
       "      <td>1960</td>\n",
       "      <td>17949</td>\n",
       "    </tr>\n",
       "    <tr>\n",
       "      <th>5</th>\n",
       "      <td>1970</td>\n",
       "      <td>18169</td>\n",
       "    </tr>\n",
       "    <tr>\n",
       "      <th>6</th>\n",
       "      <td>1980</td>\n",
       "      <td>18366</td>\n",
       "    </tr>\n",
       "    <tr>\n",
       "      <th>7</th>\n",
       "      <td>1990</td>\n",
       "      <td>18555</td>\n",
       "    </tr>\n",
       "    <tr>\n",
       "      <th>8</th>\n",
       "      <td>2000</td>\n",
       "      <td>12309</td>\n",
       "    </tr>\n",
       "    <tr>\n",
       "      <th>9</th>\n",
       "      <td>2010</td>\n",
       "      <td>19903</td>\n",
       "    </tr>\n",
       "  </tbody>\n",
       "</table>\n",
       "</div>"
      ],
      "text/plain": [
       "   decade  count\n",
       "0    1920   5160\n",
       "1    1930  10061\n",
       "2    1940  13976\n",
       "3    1950  18386\n",
       "4    1960  17949\n",
       "5    1970  18169\n",
       "6    1980  18366\n",
       "7    1990  18555\n",
       "8    2000  12309\n",
       "9    2010  19903"
      ]
     },
     "execution_count": 26,
     "metadata": {},
     "output_type": "execute_result"
    }
   ],
   "source": [
    "df_data_decade_count = df_data_main.groupby(df_data_main['decade']).count()\n",
    "df_data_decade_count = df_data_decade_count.reset_index()\n",
    "df_data_decade_count = df_data_decade_count[['decade', 'acousticness']]\n",
    "df_data_decade_count = df_data_decade_count.rename(columns={'acousticness':'count'})\n",
    "df_data_decade_count"
   ]
  },
  {
   "cell_type": "code",
   "execution_count": 27,
   "id": "municipal-trouble",
   "metadata": {},
   "outputs": [],
   "source": [
    "df_data_decade_count = df_data_decade_count.join(df_decade_unique_artists, lsuffix='_a', rsuffix='b')\n",
    "df_data_decade_count = df_data_decade_count.drop(['decade_a'], axis=1)\n"
   ]
  },
  {
   "cell_type": "code",
   "execution_count": 28,
   "id": "official-renewal",
   "metadata": {},
   "outputs": [
    {
     "data": {
      "text/html": [
       "<div>\n",
       "<style scoped>\n",
       "    .dataframe tbody tr th:only-of-type {\n",
       "        vertical-align: middle;\n",
       "    }\n",
       "\n",
       "    .dataframe tbody tr th {\n",
       "        vertical-align: top;\n",
       "    }\n",
       "\n",
       "    .dataframe thead th {\n",
       "        text-align: right;\n",
       "    }\n",
       "</style>\n",
       "<table border=\"1\" class=\"dataframe\">\n",
       "  <thead>\n",
       "    <tr style=\"text-align: right;\">\n",
       "      <th></th>\n",
       "      <th>count</th>\n",
       "      <th>decade</th>\n",
       "      <th>artists</th>\n",
       "      <th>avg_song_per_artist</th>\n",
       "    </tr>\n",
       "  </thead>\n",
       "  <tbody>\n",
       "    <tr>\n",
       "      <th>0</th>\n",
       "      <td>5160</td>\n",
       "      <td>1920</td>\n",
       "      <td>716</td>\n",
       "      <td>7.206704</td>\n",
       "    </tr>\n",
       "    <tr>\n",
       "      <th>1</th>\n",
       "      <td>10061</td>\n",
       "      <td>1930</td>\n",
       "      <td>1710</td>\n",
       "      <td>5.883626</td>\n",
       "    </tr>\n",
       "    <tr>\n",
       "      <th>2</th>\n",
       "      <td>13976</td>\n",
       "      <td>1940</td>\n",
       "      <td>3434</td>\n",
       "      <td>4.069889</td>\n",
       "    </tr>\n",
       "    <tr>\n",
       "      <th>3</th>\n",
       "      <td>18386</td>\n",
       "      <td>1950</td>\n",
       "      <td>4353</td>\n",
       "      <td>4.223754</td>\n",
       "    </tr>\n",
       "    <tr>\n",
       "      <th>4</th>\n",
       "      <td>17949</td>\n",
       "      <td>1960</td>\n",
       "      <td>2631</td>\n",
       "      <td>6.822121</td>\n",
       "    </tr>\n",
       "    <tr>\n",
       "      <th>5</th>\n",
       "      <td>18169</td>\n",
       "      <td>1970</td>\n",
       "      <td>2884</td>\n",
       "      <td>6.299931</td>\n",
       "    </tr>\n",
       "    <tr>\n",
       "      <th>6</th>\n",
       "      <td>18366</td>\n",
       "      <td>1980</td>\n",
       "      <td>3862</td>\n",
       "      <td>4.755567</td>\n",
       "    </tr>\n",
       "    <tr>\n",
       "      <th>7</th>\n",
       "      <td>18555</td>\n",
       "      <td>1990</td>\n",
       "      <td>5707</td>\n",
       "      <td>3.251270</td>\n",
       "    </tr>\n",
       "    <tr>\n",
       "      <th>8</th>\n",
       "      <td>12309</td>\n",
       "      <td>2000</td>\n",
       "      <td>5098</td>\n",
       "      <td>2.414476</td>\n",
       "    </tr>\n",
       "    <tr>\n",
       "      <th>9</th>\n",
       "      <td>19903</td>\n",
       "      <td>2010</td>\n",
       "      <td>9546</td>\n",
       "      <td>2.084957</td>\n",
       "    </tr>\n",
       "  </tbody>\n",
       "</table>\n",
       "</div>"
      ],
      "text/plain": [
       "   count  decade  artists  avg_song_per_artist\n",
       "0   5160    1920      716             7.206704\n",
       "1  10061    1930     1710             5.883626\n",
       "2  13976    1940     3434             4.069889\n",
       "3  18386    1950     4353             4.223754\n",
       "4  17949    1960     2631             6.822121\n",
       "5  18169    1970     2884             6.299931\n",
       "6  18366    1980     3862             4.755567\n",
       "7  18555    1990     5707             3.251270\n",
       "8  12309    2000     5098             2.414476\n",
       "9  19903    2010     9546             2.084957"
      ]
     },
     "execution_count": 28,
     "metadata": {},
     "output_type": "execute_result"
    }
   ],
   "source": [
    "df_data_decade_count['avg_song_per_artist'] = df_data_decade_count['count'] / df_data_decade_count['artists']\n",
    "df_data_decade_count = df_data_decade_count.rename(columns={'decadeb': 'decade'})\n",
    "\n",
    "df_data_decade_count"
   ]
  },
  {
   "cell_type": "code",
   "execution_count": 29,
   "id": "generic-smell",
   "metadata": {},
   "outputs": [],
   "source": [
    "xgb_df = xgb_df.transpose()\n",
    "xgb_df.drop(xgb_df.tail(3).index, inplace=True)\n",
    "xgb_df = xgb_df.reset_index()"
   ]
  },
  {
   "cell_type": "code",
   "execution_count": 30,
   "id": "meaning-saying",
   "metadata": {},
   "outputs": [],
   "source": [
    "lgbm_df = lgbm_df.transpose()\n",
    "lgbm_df.drop(lgbm_df.tail(3).index, inplace=True)\n",
    "lgbm_df = lgbm_df.reset_index()\n"
   ]
  },
  {
   "cell_type": "code",
   "execution_count": 31,
   "id": "military-calgary",
   "metadata": {},
   "outputs": [],
   "source": [
    "rf_df = rf_df.transpose()\n",
    "rf_df.drop(rf_df.tail(3).index, inplace=True)\n",
    "rf_df = rf_df.reset_index()\n"
   ]
  },
  {
   "cell_type": "code",
   "execution_count": 32,
   "id": "suitable-sauce",
   "metadata": {},
   "outputs": [],
   "source": [
    "df_data_decade_count = df_data_decade_count.join(xgb_df['f1-score']).rename(columns={'f1-score': 'xgb_f1'})\n",
    "df_data_decade_count = df_data_decade_count.join(lgbm_df['f1-score']).rename(columns={'f1-score': 'lgbm_f1'})\n",
    "df_data_decade_count = df_data_decade_count.join(rf_df['f1-score']).rename(columns={'f1-score': 'rf_f1'})"
   ]
  },
  {
   "cell_type": "code",
   "execution_count": 33,
   "id": "brutal-softball",
   "metadata": {},
   "outputs": [
    {
     "data": {
      "text/html": [
       "<div>\n",
       "<style scoped>\n",
       "    .dataframe tbody tr th:only-of-type {\n",
       "        vertical-align: middle;\n",
       "    }\n",
       "\n",
       "    .dataframe tbody tr th {\n",
       "        vertical-align: top;\n",
       "    }\n",
       "\n",
       "    .dataframe thead th {\n",
       "        text-align: right;\n",
       "    }\n",
       "</style>\n",
       "<table border=\"1\" class=\"dataframe\">\n",
       "  <thead>\n",
       "    <tr style=\"text-align: right;\">\n",
       "      <th></th>\n",
       "      <th>count</th>\n",
       "      <th>decade</th>\n",
       "      <th>artists</th>\n",
       "      <th>avg_song_per_artist</th>\n",
       "      <th>xgb_f1</th>\n",
       "      <th>lgbm_f1</th>\n",
       "      <th>rf_f1</th>\n",
       "    </tr>\n",
       "  </thead>\n",
       "  <tbody>\n",
       "    <tr>\n",
       "      <th>0</th>\n",
       "      <td>5160</td>\n",
       "      <td>1920</td>\n",
       "      <td>716</td>\n",
       "      <td>7.206704</td>\n",
       "      <td>0.456739</td>\n",
       "      <td>0.450119</td>\n",
       "      <td>0.480392</td>\n",
       "    </tr>\n",
       "    <tr>\n",
       "      <th>1</th>\n",
       "      <td>10061</td>\n",
       "      <td>1930</td>\n",
       "      <td>1710</td>\n",
       "      <td>5.883626</td>\n",
       "      <td>0.439038</td>\n",
       "      <td>0.441275</td>\n",
       "      <td>0.451054</td>\n",
       "    </tr>\n",
       "    <tr>\n",
       "      <th>2</th>\n",
       "      <td>13976</td>\n",
       "      <td>1940</td>\n",
       "      <td>3434</td>\n",
       "      <td>4.069889</td>\n",
       "      <td>0.425158</td>\n",
       "      <td>0.430815</td>\n",
       "      <td>0.424732</td>\n",
       "    </tr>\n",
       "    <tr>\n",
       "      <th>3</th>\n",
       "      <td>18386</td>\n",
       "      <td>1950</td>\n",
       "      <td>4353</td>\n",
       "      <td>4.223754</td>\n",
       "      <td>0.379955</td>\n",
       "      <td>0.385252</td>\n",
       "      <td>0.392943</td>\n",
       "    </tr>\n",
       "    <tr>\n",
       "      <th>4</th>\n",
       "      <td>17949</td>\n",
       "      <td>1960</td>\n",
       "      <td>2631</td>\n",
       "      <td>6.822121</td>\n",
       "      <td>0.401334</td>\n",
       "      <td>0.398626</td>\n",
       "      <td>0.404203</td>\n",
       "    </tr>\n",
       "    <tr>\n",
       "      <th>5</th>\n",
       "      <td>18169</td>\n",
       "      <td>1970</td>\n",
       "      <td>2884</td>\n",
       "      <td>6.299931</td>\n",
       "      <td>0.361666</td>\n",
       "      <td>0.357247</td>\n",
       "      <td>0.345765</td>\n",
       "    </tr>\n",
       "    <tr>\n",
       "      <th>6</th>\n",
       "      <td>18366</td>\n",
       "      <td>1980</td>\n",
       "      <td>3862</td>\n",
       "      <td>4.755567</td>\n",
       "      <td>0.350063</td>\n",
       "      <td>0.346596</td>\n",
       "      <td>0.342669</td>\n",
       "    </tr>\n",
       "    <tr>\n",
       "      <th>7</th>\n",
       "      <td>18555</td>\n",
       "      <td>1990</td>\n",
       "      <td>5707</td>\n",
       "      <td>3.251270</td>\n",
       "      <td>0.319651</td>\n",
       "      <td>0.319020</td>\n",
       "      <td>0.306618</td>\n",
       "    </tr>\n",
       "    <tr>\n",
       "      <th>8</th>\n",
       "      <td>12309</td>\n",
       "      <td>2000</td>\n",
       "      <td>5098</td>\n",
       "      <td>2.414476</td>\n",
       "      <td>0.214501</td>\n",
       "      <td>0.194064</td>\n",
       "      <td>0.180667</td>\n",
       "    </tr>\n",
       "    <tr>\n",
       "      <th>9</th>\n",
       "      <td>19903</td>\n",
       "      <td>2010</td>\n",
       "      <td>9546</td>\n",
       "      <td>2.084957</td>\n",
       "      <td>0.551970</td>\n",
       "      <td>0.542799</td>\n",
       "      <td>0.540306</td>\n",
       "    </tr>\n",
       "  </tbody>\n",
       "</table>\n",
       "</div>"
      ],
      "text/plain": [
       "   count  decade  artists  avg_song_per_artist    xgb_f1   lgbm_f1     rf_f1\n",
       "0   5160    1920      716             7.206704  0.456739  0.450119  0.480392\n",
       "1  10061    1930     1710             5.883626  0.439038  0.441275  0.451054\n",
       "2  13976    1940     3434             4.069889  0.425158  0.430815  0.424732\n",
       "3  18386    1950     4353             4.223754  0.379955  0.385252  0.392943\n",
       "4  17949    1960     2631             6.822121  0.401334  0.398626  0.404203\n",
       "5  18169    1970     2884             6.299931  0.361666  0.357247  0.345765\n",
       "6  18366    1980     3862             4.755567  0.350063  0.346596  0.342669\n",
       "7  18555    1990     5707             3.251270  0.319651  0.319020  0.306618\n",
       "8  12309    2000     5098             2.414476  0.214501  0.194064  0.180667\n",
       "9  19903    2010     9546             2.084957  0.551970  0.542799  0.540306"
      ]
     },
     "execution_count": 33,
     "metadata": {},
     "output_type": "execute_result"
    }
   ],
   "source": [
    "df_data_decade_count"
   ]
  },
  {
   "cell_type": "code",
   "execution_count": 34,
   "id": "organic-musical",
   "metadata": {},
   "outputs": [],
   "source": [
    "df_data_decade_count['diversity'] = 1 / df_data_decade_count['avg_song_per_artist']"
   ]
  },
  {
   "cell_type": "code",
   "execution_count": 35,
   "id": "lovely-receipt",
   "metadata": {},
   "outputs": [
    {
     "data": {
      "text/plain": [
       "Text(0.5, 1.0, 'Artist diversity against RF F1 score')"
      ]
     },
     "execution_count": 35,
     "metadata": {},
     "output_type": "execute_result"
    },
    {
     "data": {
      "image/png": "[encoded data removed]",
      "text/plain": [
       "<Figure size 1728x360 with 6 Axes>"
      ]
     },
     "metadata": {
      "needs_background": "light"
     },
     "output_type": "display_data"
    }
   ],
   "source": [
    "fig, ax = plt.subplots(1, 3, figsize=(24, 5))\n",
    "\n",
    "ax[0].bar(df_data_decade_count['decade'], df_data_decade_count['diversity'], width=5)\n",
    "\n",
    "ax1_2 = ax[0].twinx()\n",
    "ax1_2.plot(df_data_decade_count['decade'], df_data_decade_count['xgb_f1'], color='red')\n",
    "ax1_2.set_ylim([0,1])\n",
    "ax1_2.set_ylabel('F1 Score')\n",
    "ax[0].set_ylim([0,1])\n",
    "ax[0].set_xlabel('Decade')\n",
    "ax[0].set_ylabel('Artist diversity')\n",
    "ax[0].set_title(\"Artist diversity against XGB F1 score\")\n",
    "\n",
    "ax[1].bar(df_data_decade_count['decade'], df_data_decade_count['diversity'], width=5)\n",
    "\n",
    "ax2_2 = ax[1].twinx()\n",
    "ax2_2.plot(df_data_decade_count['decade'], df_data_decade_count['lgbm_f1'], color='red')\n",
    "ax2_2.set_ylim([0,1])\n",
    "ax2_2.set_ylabel('F1 Score')\n",
    "ax[1].set_ylim([0,1])\n",
    "ax[1].set_xlabel('Decade')\n",
    "ax[1].set_ylabel('Artist diversity')\n",
    "ax[1].set_title(\"Artist diversity against LGBM F1 score\")\n",
    "\n",
    "ax[2].bar(df_data_decade_count['decade'], df_data_decade_count['diversity'], width=5)\n",
    "\n",
    "ax3_2 = ax[2].twinx()\n",
    "ax3_2.plot(df_data_decade_count['decade'], df_data_decade_count['rf_f1'], color='red')\n",
    "ax3_2.set_ylim([0,1])\n",
    "ax3_2.set_ylabel('F1 Score')\n",
    "ax[2].set_ylim([0,1])\n",
    "ax[2].set_xlabel('Decade')\n",
    "ax[2].set_ylabel('Artist diversity')\n",
    "ax[2].set_title(\"Artist diversity against RF F1 score\")"
   ]
  },
  {
   "cell_type": "markdown",
   "id": "excess-bristol",
   "metadata": {},
   "source": [
    "\n",
    "\n",
    "# Helper"
   ]
  },
  {
   "cell_type": "code",
   "execution_count": 16,
   "id": "conditional-effectiveness",
   "metadata": {},
   "outputs": [],
   "source": [
    "from sklearn.metrics import accuracy_score\n",
    "\n",
    "global models \n",
    "\n",
    "models = [classifier, model_lgbm, model_xgb, rfc]\n",
    "\n",
    "def test_model_results(X_train, X_test, y_train, y_test):\n",
    "    \n",
    "    result = {}\n",
    "    \n",
    "    for model in models:\n",
    "    \n",
    "        model.fit(X_train, y_train)\n",
    "        model.score(X_test, y_test)\n",
    "        y_pred = model.predict(X_test)\n",
    "        result[type(model).__name__] = accuracy_score(y_test, y_pred)\n",
    "    \n",
    "    return result"
   ]
  },
  {
   "cell_type": "code",
   "execution_count": 25,
   "id": "involved-talent",
   "metadata": {},
   "outputs": [
    {
     "name": "stderr",
     "output_type": "stream",
     "text": [
      "/home/tserg/miniconda3/envs/it5006/lib/python3.8/site-packages/xgboost/sklearn.py:888: UserWarning: The use of label encoder in XGBClassifier is deprecated and will be removed in a future release. To remove this warning, do the following: 1) Pass option use_label_encoder=False when constructing XGBClassifier object; and 2) Encode your labels (y) as integers starting with 0, i.e. 0, 1, 2, ..., [num_class - 1].\n",
      "  warnings.warn(label_encoder_deprecation_msg, UserWarning)\n"
     ]
    },
    {
     "name": "stdout",
     "output_type": "stream",
     "text": [
      "[15:50:42] WARNING: ../src/learner.cc:1061: Starting in XGBoost 1.3.0, the default evaluation metric used with the objective 'multi:softprob' was changed from 'merror' to 'mlogloss'. Explicitly set eval_metric if you'd like to restore the old behavior.\n"
     ]
    },
    {
     "name": "stderr",
     "output_type": "stream",
     "text": [
      "[Parallel(n_jobs=1)]: Using backend SequentialBackend with 1 concurrent workers.\n",
      "[Parallel(n_jobs=1)]: Done 100 out of 100 | elapsed:   23.4s finished\n",
      "[Parallel(n_jobs=1)]: Using backend SequentialBackend with 1 concurrent workers.\n",
      "[Parallel(n_jobs=1)]: Done 100 out of 100 | elapsed:    1.0s finished\n",
      "[Parallel(n_jobs=1)]: Using backend SequentialBackend with 1 concurrent workers.\n"
     ]
    },
    {
     "name": "stdout",
     "output_type": "stream",
     "text": [
      "{'KNeighborsClassifier': 0.3877120953384442, 'LGBMClassifier': 0.45547360389492425, 'XGBClassifier': 0.4556189368891473, 'RandomForestClassifier': 0.45576426988337027}\n"
     ]
    },
    {
     "name": "stderr",
     "output_type": "stream",
     "text": [
      "[Parallel(n_jobs=1)]: Done 100 out of 100 | elapsed:    0.9s finished\n"
     ]
    }
   ],
   "source": [
    "result = test_model_results(X_train, X_test, y_train, y_test)\n",
    "\n",
    "print(result)"
   ]
  },
  {
   "cell_type": "markdown",
   "id": "configured-turner",
   "metadata": {},
   "source": [
    "# Selected"
   ]
  },
  {
   "cell_type": "code",
   "execution_count": 40,
   "id": "vietnamese-building",
   "metadata": {},
   "outputs": [],
   "source": [
    "df_data_selected = df_data_selected[['loudness', 'acousticness', 'energy']]"
   ]
  },
  {
   "cell_type": "code",
   "execution_count": 41,
   "id": "piano-morocco",
   "metadata": {},
   "outputs": [],
   "source": [
    "X_train, X_test, y_train, y_test = train_test_split(df_data_selected, labels, test_size=0.20, random_state=1)"
   ]
  },
  {
   "cell_type": "code",
   "execution_count": 42,
   "id": "bacterial-guyana",
   "metadata": {},
   "outputs": [
    {
     "data": {
      "text/html": [
       "<div>\n",
       "<style scoped>\n",
       "    .dataframe tbody tr th:only-of-type {\n",
       "        vertical-align: middle;\n",
       "    }\n",
       "\n",
       "    .dataframe tbody tr th {\n",
       "        vertical-align: top;\n",
       "    }\n",
       "\n",
       "    .dataframe thead th {\n",
       "        text-align: right;\n",
       "    }\n",
       "</style>\n",
       "<table border=\"1\" class=\"dataframe\">\n",
       "  <thead>\n",
       "    <tr style=\"text-align: right;\">\n",
       "      <th></th>\n",
       "      <th>loudness</th>\n",
       "      <th>acousticness</th>\n",
       "      <th>energy</th>\n",
       "    </tr>\n",
       "  </thead>\n",
       "  <tbody>\n",
       "    <tr>\n",
       "      <th>34698</th>\n",
       "      <td>0.008775</td>\n",
       "      <td>0.985027</td>\n",
       "      <td>-0.902629</td>\n",
       "    </tr>\n",
       "    <tr>\n",
       "      <th>92138</th>\n",
       "      <td>-0.935282</td>\n",
       "      <td>-1.155852</td>\n",
       "      <td>0.094355</td>\n",
       "    </tr>\n",
       "    <tr>\n",
       "      <th>38256</th>\n",
       "      <td>-1.263420</td>\n",
       "      <td>0.550050</td>\n",
       "      <td>-0.917344</td>\n",
       "    </tr>\n",
       "    <tr>\n",
       "      <th>53736</th>\n",
       "      <td>-0.728213</td>\n",
       "      <td>1.145836</td>\n",
       "      <td>-1.060822</td>\n",
       "    </tr>\n",
       "    <tr>\n",
       "      <th>103506</th>\n",
       "      <td>1.320444</td>\n",
       "      <td>-1.105500</td>\n",
       "      <td>1.694680</td>\n",
       "    </tr>\n",
       "    <tr>\n",
       "      <th>...</th>\n",
       "      <td>...</td>\n",
       "      <td>...</td>\n",
       "      <td>...</td>\n",
       "    </tr>\n",
       "    <tr>\n",
       "      <th>73349</th>\n",
       "      <td>0.932389</td>\n",
       "      <td>-0.583527</td>\n",
       "      <td>0.929467</td>\n",
       "    </tr>\n",
       "    <tr>\n",
       "      <th>109259</th>\n",
       "      <td>-0.510395</td>\n",
       "      <td>1.074658</td>\n",
       "      <td>-0.994601</td>\n",
       "    </tr>\n",
       "    <tr>\n",
       "      <th>50057</th>\n",
       "      <td>-0.217150</td>\n",
       "      <td>1.050932</td>\n",
       "      <td>-0.586243</td>\n",
       "    </tr>\n",
       "    <tr>\n",
       "      <th>5192</th>\n",
       "      <td>-3.007201</td>\n",
       "      <td>1.301374</td>\n",
       "      <td>-1.721922</td>\n",
       "    </tr>\n",
       "    <tr>\n",
       "      <th>128037</th>\n",
       "      <td>0.294617</td>\n",
       "      <td>-1.298867</td>\n",
       "      <td>1.459230</td>\n",
       "    </tr>\n",
       "  </tbody>\n",
       "</table>\n",
       "<p>110090 rows × 3 columns</p>\n",
       "</div>"
      ],
      "text/plain": [
       "        loudness  acousticness    energy\n",
       "34698   0.008775      0.985027 -0.902629\n",
       "92138  -0.935282     -1.155852  0.094355\n",
       "38256  -1.263420      0.550050 -0.917344\n",
       "53736  -0.728213      1.145836 -1.060822\n",
       "103506  1.320444     -1.105500  1.694680\n",
       "...          ...           ...       ...\n",
       "73349   0.932389     -0.583527  0.929467\n",
       "109259 -0.510395      1.074658 -0.994601\n",
       "50057  -0.217150      1.050932 -0.586243\n",
       "5192   -3.007201      1.301374 -1.721922\n",
       "128037  0.294617     -1.298867  1.459230\n",
       "\n",
       "[110090 rows x 3 columns]"
      ]
     },
     "execution_count": 42,
     "metadata": {},
     "output_type": "execute_result"
    }
   ],
   "source": [
    "X_train"
   ]
  },
  {
   "cell_type": "code",
   "execution_count": 43,
   "id": "incorrect-speed",
   "metadata": {},
   "outputs": [
    {
     "name": "stderr",
     "output_type": "stream",
     "text": [
      "/home/tserg/miniconda3/envs/it5006/lib/python3.8/site-packages/xgboost/sklearn.py:888: UserWarning: The use of label encoder in XGBClassifier is deprecated and will be removed in a future release. To remove this warning, do the following: 1) Pass option use_label_encoder=False when constructing XGBClassifier object; and 2) Encode your labels (y) as integers starting with 0, i.e. 0, 1, 2, ..., [num_class - 1].\n",
      "  warnings.warn(label_encoder_deprecation_msg, UserWarning)\n"
     ]
    },
    {
     "name": "stdout",
     "output_type": "stream",
     "text": [
      "[16:06:32] WARNING: ../src/learner.cc:1061: Starting in XGBoost 1.3.0, the default evaluation metric used with the objective 'multi:softprob' was changed from 'merror' to 'mlogloss'. Explicitly set eval_metric if you'd like to restore the old behavior.\n"
     ]
    },
    {
     "name": "stderr",
     "output_type": "stream",
     "text": [
      "[Parallel(n_jobs=1)]: Using backend SequentialBackend with 1 concurrent workers.\n",
      "[Parallel(n_jobs=1)]: Done 100 out of 100 | elapsed:   13.7s finished\n",
      "[Parallel(n_jobs=1)]: Using backend SequentialBackend with 1 concurrent workers.\n",
      "[Parallel(n_jobs=1)]: Done 100 out of 100 | elapsed:    1.0s finished\n",
      "[Parallel(n_jobs=1)]: Using backend SequentialBackend with 1 concurrent workers.\n"
     ]
    },
    {
     "name": "stdout",
     "output_type": "stream",
     "text": [
      "{'KNeighborsClassifier': 0.3062166188278894, 'LGBMClassifier': 0.33081422810013444, 'XGBClassifier': 0.3284889001925662, 'RandomForestClassifier': 0.2925189841223704}\n"
     ]
    },
    {
     "name": "stderr",
     "output_type": "stream",
     "text": [
      "[Parallel(n_jobs=1)]: Done 100 out of 100 | elapsed:    1.1s finished\n"
     ]
    }
   ],
   "source": [
    "result = test_model_results(X_train, X_test, y_train, y_test)\n",
    "\n",
    "print(result)"
   ]
  },
  {
   "cell_type": "markdown",
   "id": "unavailable-prayer",
   "metadata": {},
   "source": [
    "# Standard Scaler on all columns except duration_ms, loudness and tempo\n",
    "\n",
    "scaling should be done on all columns after excluding 1920s and 1930s data but it does not improve\n"
   ]
  },
  {
   "cell_type": "code",
   "execution_count": 23,
   "id": "presidential-trigger",
   "metadata": {},
   "outputs": [
    {
     "data": {
      "text/plain": [
       "\"\\ncols = ['acousticness', 'danceability', 'energy',\\n       'instrumentalness', 'liveness', 'speechiness', 'valence']\\n\\nscaler = StandardScaler()\\n\\ndf_data_scaled.loc[df_data_scaled.index, cols] = scaler.fit_transform(df_data_scaled[cols]) \\n\\n\""
      ]
     },
     "execution_count": 23,
     "metadata": {},
     "output_type": "execute_result"
    }
   ],
   "source": [
    "from sklearn.preprocessing import StandardScaler, MaxAbsScaler, MinMaxScaler\n",
    "\n",
    "df_data_scaled = df_data.copy(deep=True)\n",
    "\n",
    "'''\n",
    "cols = ['acousticness', 'danceability', 'energy',\n",
    "       'instrumentalness', 'liveness', 'speechiness', 'valence']\n",
    "\n",
    "scaler = StandardScaler()\n",
    "\n",
    "df_data_scaled.loc[df_data_scaled.index, cols] = scaler.fit_transform(df_data_scaled[cols]) \n",
    "\n",
    "'''"
   ]
  },
  {
   "cell_type": "code",
   "execution_count": 24,
   "id": "scientific-democracy",
   "metadata": {},
   "outputs": [
    {
     "data": {
      "text/plain": [
       "'\\nX_train, X_test, y_train, y_test = train_test_split(df_data_scaled, labels, test_size=0.20, random_state=1)\\n\\nresults = test_model_results(X_train, X_test, y_train, y_test)\\n\\nprint(results)\\n'"
      ]
     },
     "execution_count": 24,
     "metadata": {},
     "output_type": "execute_result"
    }
   ],
   "source": [
    "'''\n",
    "X_train, X_test, y_train, y_test = train_test_split(df_data_scaled, labels, test_size=0.20, random_state=1)\n",
    "\n",
    "results = test_model_results(X_train, X_test, y_train, y_test)\n",
    "\n",
    "print(results)\n",
    "'''"
   ]
  },
  {
   "cell_type": "markdown",
   "id": "arranged-sterling",
   "metadata": {},
   "source": [
    "# Subset without mode and key"
   ]
  },
  {
   "cell_type": "code",
   "execution_count": 25,
   "id": "fatty-korean",
   "metadata": {},
   "outputs": [],
   "source": [
    "df_data_wo_modekey = df_data_scaled.drop(['mode','key_0', 'key_1', 'key_2', 'key_3',\n",
    "       'key_4', 'key_5', 'key_6', 'key_7', 'key_8', 'key_9', 'key_10',\n",
    "       'key_11'], axis=1)"
   ]
  },
  {
   "cell_type": "code",
   "execution_count": 26,
   "id": "sophisticated-maine",
   "metadata": {},
   "outputs": [
    {
     "data": {
      "text/plain": [
       "<bound method NDFrame.head of         acousticness  danceability  duration_ms    energy  explicit  \\\n",
       "0           1.280284      0.440363    -1.842277 -1.547909         0   \n",
       "1           1.224923     -0.807020    -1.072759 -1.307309         0   \n",
       "2          -0.876148      1.029723    -1.267532 -1.498612         1   \n",
       "3           0.987663     -0.709747    -1.896113 -0.891592         0   \n",
       "4           1.301374     -0.555255    -0.602815 -1.226373         0   \n",
       "...              ...           ...          ...       ...       ...   \n",
       "137608      0.905940      1.018279    -0.720039 -0.891592         0   \n",
       "137609     -1.026413      2.340047     0.452417 -0.354472         1   \n",
       "137610     -1.268155     -0.126109     0.664422  1.216422         0   \n",
       "137611     -0.217092      1.018279    -1.252136  0.171612         1   \n",
       "137612     -1.034322      0.680685     0.308764  0.351879         0   \n",
       "\n",
       "        instrumentalness  liveness  loudness  speechiness     tempo   valence  \n",
       "0              -0.563588  0.701711 -0.746894    -0.197314 -0.602138  0.718257  \n",
       "1              -0.042297 -0.454382 -2.096100    -0.321515 -1.449379 -1.728261  \n",
       "2              -0.579991  2.452524 -1.901543     4.394400  0.165709  0.155577  \n",
       "3               1.528494 -0.371010 -0.806106    -0.258353  0.922949  0.452125  \n",
       "4               2.283682 -0.543312 -1.345190    -0.373531 -0.169194 -0.137169  \n",
       "...                  ...       ...       ...          ...       ...       ...  \n",
       "137608         -0.579975 -0.738403 -0.180319    -0.394761 -1.279753  0.722059  \n",
       "137609         -0.579800 -0.509963  0.781713    -0.122475  0.427478 -1.627511  \n",
       "137610         -0.579991  0.379339  0.969925     1.745845 -0.994100 -0.232216  \n",
       "137611         -0.579876 -0.593336 -0.334519     0.965609 -1.216205 -0.007904  \n",
       "137612         -0.579991 -0.582219  0.611124    -0.347523 -0.824540 -1.330963  \n",
       "\n",
       "[137613 rows x 11 columns]>"
      ]
     },
     "execution_count": 26,
     "metadata": {},
     "output_type": "execute_result"
    }
   ],
   "source": [
    "df_data_wo_modekey.head"
   ]
  },
  {
   "cell_type": "code",
   "execution_count": 27,
   "id": "frequent-auckland",
   "metadata": {},
   "outputs": [],
   "source": [
    "X_train_2, X_test_2, y_train_2, y_test_2 = train_test_split(df_data_wo_modekey, labels, test_size=0.20, random_state=1)"
   ]
  },
  {
   "cell_type": "code",
   "execution_count": 28,
   "id": "external-vocabulary",
   "metadata": {},
   "outputs": [
    {
     "name": "stderr",
     "output_type": "stream",
     "text": [
      "/home/tserg/miniconda3/envs/it5006/lib/python3.8/site-packages/xgboost/sklearn.py:888: UserWarning: The use of label encoder in XGBClassifier is deprecated and will be removed in a future release. To remove this warning, do the following: 1) Pass option use_label_encoder=False when constructing XGBClassifier object; and 2) Encode your labels (y) as integers starting with 0, i.e. 0, 1, 2, ..., [num_class - 1].\n",
      "  warnings.warn(label_encoder_deprecation_msg, UserWarning)\n"
     ]
    },
    {
     "name": "stdout",
     "output_type": "stream",
     "text": [
      "[00:24:17] WARNING: ../src/learner.cc:1061: Starting in XGBoost 1.3.0, the default evaluation metric used with the objective 'multi:softprob' was changed from 'merror' to 'mlogloss'. Explicitly set eval_metric if you'd like to restore the old behavior.\n"
     ]
    },
    {
     "name": "stderr",
     "output_type": "stream",
     "text": [
      "[Parallel(n_jobs=1)]: Using backend SequentialBackend with 1 concurrent workers.\n",
      "[Parallel(n_jobs=1)]: Done 100 out of 100 | elapsed:   29.5s finished\n",
      "[Parallel(n_jobs=1)]: Using backend SequentialBackend with 1 concurrent workers.\n",
      "[Parallel(n_jobs=1)]: Done 100 out of 100 | elapsed:    0.8s finished\n",
      "[Parallel(n_jobs=1)]: Using backend SequentialBackend with 1 concurrent workers.\n"
     ]
    },
    {
     "name": "stdout",
     "output_type": "stream",
     "text": [
      "{'KNeighborsClassifier': 0.40933037822911744, 'LGBMClassifier': 0.452566944010464, 'XGBClassifier': 0.452276278022018, 'RandomForestClassifier': 0.4509682810740108}\n"
     ]
    },
    {
     "name": "stderr",
     "output_type": "stream",
     "text": [
      "[Parallel(n_jobs=1)]: Done 100 out of 100 | elapsed:    0.8s finished\n"
     ]
    }
   ],
   "source": [
    "results = test_model_results(X_train_2, X_test_2, y_train_2, y_test_2)\n",
    "\n",
    "print(results)"
   ]
  },
  {
   "cell_type": "markdown",
   "id": "phantom-cookie",
   "metadata": {},
   "source": [
    "# Combine energy and loudness, acousticness and loudness"
   ]
  },
  {
   "cell_type": "code",
   "execution_count": 29,
   "id": "close-certification",
   "metadata": {},
   "outputs": [],
   "source": [
    "df_data_combined = df_data.copy(deep=True)"
   ]
  },
  {
   "cell_type": "code",
   "execution_count": 30,
   "id": "earlier-accident",
   "metadata": {},
   "outputs": [],
   "source": [
    "df_data_combined['loudness_acousticness'] = df_data_combined['loudness'] - df_data_combined['acousticness']\n",
    "\n",
    "min_max_scaler = MinMaxScaler()\n",
    "\n",
    "df_data_combined['loudness_acousticness'] = min_max_scaler.fit_transform(df_data_combined[['loudness_acousticness']])\n",
    "df_data_combined = df_data_combined.drop(['loudness', 'acousticness'], axis=1)"
   ]
  },
  {
   "cell_type": "code",
   "execution_count": 31,
   "id": "informal-theta",
   "metadata": {},
   "outputs": [],
   "source": [
    "df_data_combined_2 = df_data.copy(deep=True)\n",
    "df_data_combined_2['loudness_energy'] = df_data_combined_2['loudness'] + df_data_combined_2['energy']\n",
    "\n",
    "df_data_combined_2['loudness_energy'] = min_max_scaler.fit_transform(df_data_combined_2[['loudness_energy']])\n",
    "\n",
    "df_data_combined_2 = df_data_combined_2.drop(['loudness', 'energy'], axis=1)"
   ]
  },
  {
   "cell_type": "code",
   "execution_count": 32,
   "id": "characteristic-adaptation",
   "metadata": {},
   "outputs": [
    {
     "data": {
      "text/plain": [
       "count    137613.000000\n",
       "mean          0.697693\n",
       "std           0.124655\n",
       "min           0.000000\n",
       "25%           0.612492\n",
       "50%           0.708142\n",
       "75%           0.796320\n",
       "max           1.000000\n",
       "Name: loudness_energy, dtype: float64"
      ]
     },
     "execution_count": 32,
     "metadata": {},
     "output_type": "execute_result"
    }
   ],
   "source": [
    "df_data_combined_2['loudness_energy'].describe()"
   ]
  },
  {
   "cell_type": "code",
   "execution_count": 33,
   "id": "prostate-crown",
   "metadata": {},
   "outputs": [
    {
     "name": "stderr",
     "output_type": "stream",
     "text": [
      "/home/tserg/miniconda3/envs/it5006/lib/python3.8/site-packages/xgboost/sklearn.py:888: UserWarning: The use of label encoder in XGBClassifier is deprecated and will be removed in a future release. To remove this warning, do the following: 1) Pass option use_label_encoder=False when constructing XGBClassifier object; and 2) Encode your labels (y) as integers starting with 0, i.e. 0, 1, 2, ..., [num_class - 1].\n",
      "  warnings.warn(label_encoder_deprecation_msg, UserWarning)\n"
     ]
    },
    {
     "name": "stdout",
     "output_type": "stream",
     "text": [
      "[00:27:05] WARNING: ../src/learner.cc:1061: Starting in XGBoost 1.3.0, the default evaluation metric used with the objective 'multi:softprob' was changed from 'merror' to 'mlogloss'. Explicitly set eval_metric if you'd like to restore the old behavior.\n"
     ]
    },
    {
     "name": "stderr",
     "output_type": "stream",
     "text": [
      "[Parallel(n_jobs=1)]: Using backend SequentialBackend with 1 concurrent workers.\n",
      "[Parallel(n_jobs=1)]: Done 100 out of 100 | elapsed:   21.5s finished\n",
      "[Parallel(n_jobs=1)]: Using backend SequentialBackend with 1 concurrent workers.\n",
      "[Parallel(n_jobs=1)]: Done 100 out of 100 | elapsed:    0.8s finished\n",
      "[Parallel(n_jobs=1)]: Using backend SequentialBackend with 1 concurrent workers.\n"
     ]
    },
    {
     "name": "stdout",
     "output_type": "stream",
     "text": [
      "{'KNeighborsClassifier': 0.3493078516150129, 'LGBMClassifier': 0.42869599970933403, 'XGBClassifier': 0.4289139992006685, 'RandomForestClassifier': 0.4221923482178542}\n"
     ]
    },
    {
     "name": "stderr",
     "output_type": "stream",
     "text": [
      "[Parallel(n_jobs=1)]: Done 100 out of 100 | elapsed:    0.8s finished\n"
     ]
    }
   ],
   "source": [
    "X_train_3, X_test_3, y_train_3, y_test_3 = train_test_split(df_data_combined, labels, test_size=0.20, random_state=1)\n",
    "results = test_model_results(X_train_3, X_test_3, y_train_3, y_test_3)\n",
    "\n",
    "print(results)"
   ]
  },
  {
   "cell_type": "code",
   "execution_count": 34,
   "id": "proved-christian",
   "metadata": {
    "scrolled": true
   },
   "outputs": [
    {
     "name": "stderr",
     "output_type": "stream",
     "text": [
      "/home/tserg/miniconda3/envs/it5006/lib/python3.8/site-packages/xgboost/sklearn.py:888: UserWarning: The use of label encoder in XGBClassifier is deprecated and will be removed in a future release. To remove this warning, do the following: 1) Pass option use_label_encoder=False when constructing XGBClassifier object; and 2) Encode your labels (y) as integers starting with 0, i.e. 0, 1, 2, ..., [num_class - 1].\n",
      "  warnings.warn(label_encoder_deprecation_msg, UserWarning)\n"
     ]
    },
    {
     "name": "stdout",
     "output_type": "stream",
     "text": [
      "[00:29:55] WARNING: ../src/learner.cc:1061: Starting in XGBoost 1.3.0, the default evaluation metric used with the objective 'multi:softprob' was changed from 'merror' to 'mlogloss'. Explicitly set eval_metric if you'd like to restore the old behavior.\n"
     ]
    },
    {
     "name": "stderr",
     "output_type": "stream",
     "text": [
      "[Parallel(n_jobs=1)]: Using backend SequentialBackend with 1 concurrent workers.\n",
      "[Parallel(n_jobs=1)]: Done 100 out of 100 | elapsed:   21.5s finished\n",
      "[Parallel(n_jobs=1)]: Using backend SequentialBackend with 1 concurrent workers.\n",
      "[Parallel(n_jobs=1)]: Done 100 out of 100 | elapsed:    0.8s finished\n",
      "[Parallel(n_jobs=1)]: Using backend SequentialBackend with 1 concurrent workers.\n"
     ]
    },
    {
     "name": "stdout",
     "output_type": "stream",
     "text": [
      "{'KNeighborsClassifier': 0.3593721614649566, 'LGBMClassifier': 0.44370163136286017, 'XGBClassifier': 0.44388329760563894, 'RandomForestClassifier': 0.43886930930494494}\n"
     ]
    },
    {
     "name": "stderr",
     "output_type": "stream",
     "text": [
      "[Parallel(n_jobs=1)]: Done 100 out of 100 | elapsed:    0.8s finished\n"
     ]
    }
   ],
   "source": [
    "X_train_4, X_test_4, y_train_4, y_test_4 = train_test_split(df_data_combined_2, labels, test_size=0.20, random_state=1)\n",
    "results = test_model_results(X_train_4, X_test_4, y_train_4, y_test_4)\n",
    "\n",
    "print(results)"
   ]
  },
  {
   "cell_type": "markdown",
   "id": "balanced-jordan",
   "metadata": {},
   "source": [
    "# Combine energy, loudness and acousticness using PCA"
   ]
  },
  {
   "cell_type": "code",
   "execution_count": 35,
   "id": "efficient-focus",
   "metadata": {},
   "outputs": [],
   "source": [
    "from sklearn.decomposition import PCA\n",
    "\n",
    "pca = PCA(n_components=1)"
   ]
  },
  {
   "cell_type": "code",
   "execution_count": 36,
   "id": "revolutionary-multimedia",
   "metadata": {},
   "outputs": [
    {
     "data": {
      "text/html": [
       "<div>\n",
       "<style scoped>\n",
       "    .dataframe tbody tr th:only-of-type {\n",
       "        vertical-align: middle;\n",
       "    }\n",
       "\n",
       "    .dataframe tbody tr th {\n",
       "        vertical-align: top;\n",
       "    }\n",
       "\n",
       "    .dataframe thead th {\n",
       "        text-align: right;\n",
       "    }\n",
       "</style>\n",
       "<table border=\"1\" class=\"dataframe\">\n",
       "  <thead>\n",
       "    <tr style=\"text-align: right;\">\n",
       "      <th></th>\n",
       "      <th>loudness</th>\n",
       "      <th>acousticness</th>\n",
       "      <th>energy</th>\n",
       "    </tr>\n",
       "  </thead>\n",
       "  <tbody>\n",
       "    <tr>\n",
       "      <th>0</th>\n",
       "      <td>-0.746894</td>\n",
       "      <td>1.280284</td>\n",
       "      <td>-1.547909</td>\n",
       "    </tr>\n",
       "    <tr>\n",
       "      <th>1</th>\n",
       "      <td>-2.096100</td>\n",
       "      <td>1.224923</td>\n",
       "      <td>-1.307309</td>\n",
       "    </tr>\n",
       "    <tr>\n",
       "      <th>2</th>\n",
       "      <td>-1.901543</td>\n",
       "      <td>-0.876148</td>\n",
       "      <td>-1.498612</td>\n",
       "    </tr>\n",
       "    <tr>\n",
       "      <th>3</th>\n",
       "      <td>-0.806106</td>\n",
       "      <td>0.987663</td>\n",
       "      <td>-0.891592</td>\n",
       "    </tr>\n",
       "    <tr>\n",
       "      <th>4</th>\n",
       "      <td>-1.345190</td>\n",
       "      <td>1.301374</td>\n",
       "      <td>-1.226373</td>\n",
       "    </tr>\n",
       "    <tr>\n",
       "      <th>...</th>\n",
       "      <td>...</td>\n",
       "      <td>...</td>\n",
       "      <td>...</td>\n",
       "    </tr>\n",
       "    <tr>\n",
       "      <th>137608</th>\n",
       "      <td>-0.180319</td>\n",
       "      <td>0.905940</td>\n",
       "      <td>-0.891592</td>\n",
       "    </tr>\n",
       "    <tr>\n",
       "      <th>137609</th>\n",
       "      <td>0.781713</td>\n",
       "      <td>-1.026413</td>\n",
       "      <td>-0.354472</td>\n",
       "    </tr>\n",
       "    <tr>\n",
       "      <th>137610</th>\n",
       "      <td>0.969925</td>\n",
       "      <td>-1.268155</td>\n",
       "      <td>1.216422</td>\n",
       "    </tr>\n",
       "    <tr>\n",
       "      <th>137611</th>\n",
       "      <td>-0.334519</td>\n",
       "      <td>-0.217092</td>\n",
       "      <td>0.171612</td>\n",
       "    </tr>\n",
       "    <tr>\n",
       "      <th>137612</th>\n",
       "      <td>0.611124</td>\n",
       "      <td>-1.034322</td>\n",
       "      <td>0.351879</td>\n",
       "    </tr>\n",
       "  </tbody>\n",
       "</table>\n",
       "<p>137613 rows × 3 columns</p>\n",
       "</div>"
      ],
      "text/plain": [
       "        loudness  acousticness    energy\n",
       "0      -0.746894      1.280284 -1.547909\n",
       "1      -2.096100      1.224923 -1.307309\n",
       "2      -1.901543     -0.876148 -1.498612\n",
       "3      -0.806106      0.987663 -0.891592\n",
       "4      -1.345190      1.301374 -1.226373\n",
       "...          ...           ...       ...\n",
       "137608 -0.180319      0.905940 -0.891592\n",
       "137609  0.781713     -1.026413 -0.354472\n",
       "137610  0.969925     -1.268155  1.216422\n",
       "137611 -0.334519     -0.217092  0.171612\n",
       "137612  0.611124     -1.034322  0.351879\n",
       "\n",
       "[137613 rows x 3 columns]"
      ]
     },
     "execution_count": 36,
     "metadata": {},
     "output_type": "execute_result"
    }
   ],
   "source": [
    "df_data_combined_3 = df_data.copy(deep=True)\n",
    "\n",
    "df_subset = df_data_combined_3[['loudness', 'acousticness', 'energy']]\n",
    "df_subset"
   ]
  },
  {
   "cell_type": "code",
   "execution_count": 37,
   "id": "beneficial-ceiling",
   "metadata": {},
   "outputs": [
    {
     "data": {
      "text/html": [
       "<div>\n",
       "<style scoped>\n",
       "    .dataframe tbody tr th:only-of-type {\n",
       "        vertical-align: middle;\n",
       "    }\n",
       "\n",
       "    .dataframe tbody tr th {\n",
       "        vertical-align: top;\n",
       "    }\n",
       "\n",
       "    .dataframe thead th {\n",
       "        text-align: right;\n",
       "    }\n",
       "</style>\n",
       "<table border=\"1\" class=\"dataframe\">\n",
       "  <thead>\n",
       "    <tr style=\"text-align: right;\">\n",
       "      <th></th>\n",
       "      <th>ela_combined</th>\n",
       "    </tr>\n",
       "  </thead>\n",
       "  <tbody>\n",
       "    <tr>\n",
       "      <th>0</th>\n",
       "      <td>2.194376</td>\n",
       "    </tr>\n",
       "    <tr>\n",
       "      <th>1</th>\n",
       "      <td>2.762467</td>\n",
       "    </tr>\n",
       "    <tr>\n",
       "      <th>2</th>\n",
       "      <td>1.604272</td>\n",
       "    </tr>\n",
       "    <tr>\n",
       "      <th>3</th>\n",
       "      <td>1.658076</td>\n",
       "    </tr>\n",
       "    <tr>\n",
       "      <th>4</th>\n",
       "      <td>2.338666</td>\n",
       "    </tr>\n",
       "    <tr>\n",
       "      <th>...</th>\n",
       "      <td>...</td>\n",
       "    </tr>\n",
       "    <tr>\n",
       "      <th>137608</th>\n",
       "      <td>1.265748</td>\n",
       "    </tr>\n",
       "    <tr>\n",
       "      <th>137609</th>\n",
       "      <td>-0.674977</td>\n",
       "    </tr>\n",
       "    <tr>\n",
       "      <th>137610</th>\n",
       "      <td>-1.886352</td>\n",
       "    </tr>\n",
       "    <tr>\n",
       "      <th>137611</th>\n",
       "      <td>0.068240</td>\n",
       "    </tr>\n",
       "    <tr>\n",
       "      <th>137612</th>\n",
       "      <td>-1.022138</td>\n",
       "    </tr>\n",
       "  </tbody>\n",
       "</table>\n",
       "<p>137613 rows × 1 columns</p>\n",
       "</div>"
      ],
      "text/plain": [
       "        ela_combined\n",
       "0           2.194376\n",
       "1           2.762467\n",
       "2           1.604272\n",
       "3           1.658076\n",
       "4           2.338666\n",
       "...              ...\n",
       "137608      1.265748\n",
       "137609     -0.674977\n",
       "137610     -1.886352\n",
       "137611      0.068240\n",
       "137612     -1.022138\n",
       "\n",
       "[137613 rows x 1 columns]"
      ]
     },
     "execution_count": 37,
     "metadata": {},
     "output_type": "execute_result"
    }
   ],
   "source": [
    "\n",
    "df_subset = pca.fit_transform(df_subset)\n",
    "\n",
    "df_data_combined_3 = df_data_combined_3.drop(['loudness', 'acousticness'], axis=1)\n",
    "df_subset = pd.DataFrame(df_subset, columns=['ela_combined'])\n",
    "df_subset\n",
    "#df_data_scaled_combined_3.join(df_subset)"
   ]
  },
  {
   "cell_type": "code",
   "execution_count": 38,
   "id": "respective-affiliate",
   "metadata": {},
   "outputs": [],
   "source": [
    "df_data_combined_3 = df_data_combined_3.join(df_subset)"
   ]
  },
  {
   "cell_type": "code",
   "execution_count": 39,
   "id": "protective-auditor",
   "metadata": {},
   "outputs": [
    {
     "name": "stderr",
     "output_type": "stream",
     "text": [
      "/home/tserg/miniconda3/envs/it5006/lib/python3.8/site-packages/xgboost/sklearn.py:888: UserWarning: The use of label encoder in XGBClassifier is deprecated and will be removed in a future release. To remove this warning, do the following: 1) Pass option use_label_encoder=False when constructing XGBClassifier object; and 2) Encode your labels (y) as integers starting with 0, i.e. 0, 1, 2, ..., [num_class - 1].\n",
      "  warnings.warn(label_encoder_deprecation_msg, UserWarning)\n"
     ]
    },
    {
     "name": "stdout",
     "output_type": "stream",
     "text": [
      "[00:32:46] WARNING: ../src/learner.cc:1061: Starting in XGBoost 1.3.0, the default evaluation metric used with the objective 'multi:softprob' was changed from 'merror' to 'mlogloss'. Explicitly set eval_metric if you'd like to restore the old behavior.\n"
     ]
    },
    {
     "name": "stderr",
     "output_type": "stream",
     "text": [
      "[Parallel(n_jobs=1)]: Using backend SequentialBackend with 1 concurrent workers.\n",
      "[Parallel(n_jobs=1)]: Done 100 out of 100 | elapsed:   21.3s finished\n",
      "[Parallel(n_jobs=1)]: Using backend SequentialBackend with 1 concurrent workers.\n",
      "[Parallel(n_jobs=1)]: Done 100 out of 100 | elapsed:    0.8s finished\n",
      "[Parallel(n_jobs=1)]: Using backend SequentialBackend with 1 concurrent workers.\n"
     ]
    },
    {
     "name": "stdout",
     "output_type": "stream",
     "text": [
      "{'KNeighborsClassifier': 0.36478581549976385, 'LGBMClassifier': 0.42491734185953567, 'XGBClassifier': 0.4237910111543073, 'RandomForestClassifier': 0.4182683573738328}\n"
     ]
    },
    {
     "name": "stderr",
     "output_type": "stream",
     "text": [
      "[Parallel(n_jobs=1)]: Done 100 out of 100 | elapsed:    0.8s finished\n"
     ]
    }
   ],
   "source": [
    "X_train_combined_3, X_test_combined_, y_train_combined_3, y_test_combined_3 = train_test_split(df_data_combined_3, labels, test_size=0.20, random_state=1)\n",
    "results = test_model_results(X_train_combined_3, X_test_combined_, y_train_combined_3, y_test_combined_3)\n",
    "\n",
    "print(results)"
   ]
  },
  {
   "cell_type": "markdown",
   "id": "killing-advice",
   "metadata": {},
   "source": [
    "# Exclude liveness"
   ]
  },
  {
   "cell_type": "code",
   "execution_count": 40,
   "id": "defined-sheriff",
   "metadata": {},
   "outputs": [],
   "source": [
    "df_data_5 = df_data.drop(['liveness'], axis=1)"
   ]
  },
  {
   "cell_type": "code",
   "execution_count": 41,
   "id": "peaceful-volume",
   "metadata": {},
   "outputs": [
    {
     "name": "stderr",
     "output_type": "stream",
     "text": [
      "/home/tserg/miniconda3/envs/it5006/lib/python3.8/site-packages/xgboost/sklearn.py:888: UserWarning: The use of label encoder in XGBClassifier is deprecated and will be removed in a future release. To remove this warning, do the following: 1) Pass option use_label_encoder=False when constructing XGBClassifier object; and 2) Encode your labels (y) as integers starting with 0, i.e. 0, 1, 2, ..., [num_class - 1].\n",
      "  warnings.warn(label_encoder_deprecation_msg, UserWarning)\n"
     ]
    },
    {
     "name": "stdout",
     "output_type": "stream",
     "text": [
      "[00:35:39] WARNING: ../src/learner.cc:1061: Starting in XGBoost 1.3.0, the default evaluation metric used with the objective 'multi:softprob' was changed from 'merror' to 'mlogloss'. Explicitly set eval_metric if you'd like to restore the old behavior.\n"
     ]
    },
    {
     "name": "stderr",
     "output_type": "stream",
     "text": [
      "[Parallel(n_jobs=1)]: Using backend SequentialBackend with 1 concurrent workers.\n",
      "[Parallel(n_jobs=1)]: Done 100 out of 100 | elapsed:   21.2s finished\n",
      "[Parallel(n_jobs=1)]: Using backend SequentialBackend with 1 concurrent workers.\n",
      "[Parallel(n_jobs=1)]: Done 100 out of 100 | elapsed:    0.9s finished\n",
      "[Parallel(n_jobs=1)]: Using backend SequentialBackend with 1 concurrent workers.\n"
     ]
    },
    {
     "name": "stdout",
     "output_type": "stream",
     "text": [
      "{'KNeighborsClassifier': 0.3925444173963594, 'LGBMClassifier': 0.45438360643825165, 'XGBClassifier': 0.45485593866947643, 'RandomForestClassifier': 0.45358427497002507}\n"
     ]
    },
    {
     "name": "stderr",
     "output_type": "stream",
     "text": [
      "[Parallel(n_jobs=1)]: Done 100 out of 100 | elapsed:    0.9s finished\n"
     ]
    }
   ],
   "source": [
    "X_train_5, X_test_5, y_train_5, y_test_5 = train_test_split(df_data_5, labels, test_size=0.20, random_state=1)\n",
    "results = test_model_results(X_train_5, X_test_5, y_train_5, y_test_5)\n",
    "\n",
    "print(results)"
   ]
  },
  {
   "cell_type": "markdown",
   "id": "inner-patrol",
   "metadata": {},
   "source": [
    "# Exclude speechiness"
   ]
  },
  {
   "cell_type": "code",
   "execution_count": 42,
   "id": "rocky-integrity",
   "metadata": {},
   "outputs": [],
   "source": [
    "df_data_5_2 = df_data.drop(['speechiness'], axis=1)"
   ]
  },
  {
   "cell_type": "code",
   "execution_count": 43,
   "id": "brave-bosnia",
   "metadata": {},
   "outputs": [
    {
     "name": "stderr",
     "output_type": "stream",
     "text": [
      "/home/tserg/miniconda3/envs/it5006/lib/python3.8/site-packages/xgboost/sklearn.py:888: UserWarning: The use of label encoder in XGBClassifier is deprecated and will be removed in a future release. To remove this warning, do the following: 1) Pass option use_label_encoder=False when constructing XGBClassifier object; and 2) Encode your labels (y) as integers starting with 0, i.e. 0, 1, 2, ..., [num_class - 1].\n",
      "  warnings.warn(label_encoder_deprecation_msg, UserWarning)\n"
     ]
    },
    {
     "name": "stdout",
     "output_type": "stream",
     "text": [
      "[00:38:21] WARNING: ../src/learner.cc:1061: Starting in XGBoost 1.3.0, the default evaluation metric used with the objective 'multi:softprob' was changed from 'merror' to 'mlogloss'. Explicitly set eval_metric if you'd like to restore the old behavior.\n"
     ]
    },
    {
     "name": "stderr",
     "output_type": "stream",
     "text": [
      "[Parallel(n_jobs=1)]: Using backend SequentialBackend with 1 concurrent workers.\n",
      "[Parallel(n_jobs=1)]: Done 100 out of 100 | elapsed:   22.2s finished\n",
      "[Parallel(n_jobs=1)]: Using backend SequentialBackend with 1 concurrent workers.\n",
      "[Parallel(n_jobs=1)]: Done 100 out of 100 | elapsed:    0.9s finished\n",
      "[Parallel(n_jobs=1)]: Using backend SequentialBackend with 1 concurrent workers.\n"
     ]
    },
    {
     "name": "stdout",
     "output_type": "stream",
     "text": [
      "{'KNeighborsClassifier': 0.38153544308396614, 'LGBMClassifier': 0.4450822948079788, 'XGBClassifier': 0.44751662246121426, 'RandomForestClassifier': 0.44442829633397524}\n"
     ]
    },
    {
     "name": "stderr",
     "output_type": "stream",
     "text": [
      "[Parallel(n_jobs=1)]: Done 100 out of 100 | elapsed:    0.9s finished\n"
     ]
    }
   ],
   "source": [
    "X_train_5_2, X_test_5_2, y_train_5_2, y_test_5_2 = train_test_split(df_data_5_2, labels, test_size=0.20, random_state=1)\n",
    "results = test_model_results(X_train_5_2, X_test_5_2, y_train_5_2, y_test_5_2)\n",
    "\n",
    "print(results)"
   ]
  },
  {
   "cell_type": "markdown",
   "id": "thermal-looking",
   "metadata": {},
   "source": [
    "# Exclude valence and duration, liveness"
   ]
  },
  {
   "cell_type": "code",
   "execution_count": 44,
   "id": "hungarian-courtesy",
   "metadata": {},
   "outputs": [],
   "source": [
    "df_data_6 = df_data_5.copy(deep=True)"
   ]
  },
  {
   "cell_type": "code",
   "execution_count": 45,
   "id": "informal-luxury",
   "metadata": {},
   "outputs": [],
   "source": [
    "df_data_6 = df_data_6.drop(['valence', 'duration_ms'], axis=1)"
   ]
  },
  {
   "cell_type": "code",
   "execution_count": 46,
   "id": "settled-teddy",
   "metadata": {},
   "outputs": [
    {
     "name": "stderr",
     "output_type": "stream",
     "text": [
      "/home/tserg/miniconda3/envs/it5006/lib/python3.8/site-packages/xgboost/sklearn.py:888: UserWarning: The use of label encoder in XGBClassifier is deprecated and will be removed in a future release. To remove this warning, do the following: 1) Pass option use_label_encoder=False when constructing XGBClassifier object; and 2) Encode your labels (y) as integers starting with 0, i.e. 0, 1, 2, ..., [num_class - 1].\n",
      "  warnings.warn(label_encoder_deprecation_msg, UserWarning)\n"
     ]
    },
    {
     "name": "stdout",
     "output_type": "stream",
     "text": [
      "[00:41:07] WARNING: ../src/learner.cc:1061: Starting in XGBoost 1.3.0, the default evaluation metric used with the objective 'multi:softprob' was changed from 'merror' to 'mlogloss'. Explicitly set eval_metric if you'd like to restore the old behavior.\n"
     ]
    },
    {
     "name": "stderr",
     "output_type": "stream",
     "text": [
      "[Parallel(n_jobs=1)]: Using backend SequentialBackend with 1 concurrent workers.\n",
      "[Parallel(n_jobs=1)]: Done 100 out of 100 | elapsed:   21.2s finished\n",
      "[Parallel(n_jobs=1)]: Using backend SequentialBackend with 1 concurrent workers.\n",
      "[Parallel(n_jobs=1)]: Done 100 out of 100 | elapsed:    0.9s finished\n",
      "[Parallel(n_jobs=1)]: Using backend SequentialBackend with 1 concurrent workers.\n"
     ]
    },
    {
     "name": "stdout",
     "output_type": "stream",
     "text": [
      "{'KNeighborsClassifier': 0.35519383788104497, 'LGBMClassifier': 0.4139810340442539, 'XGBClassifier': 0.4174690259056062, 'RandomForestClassifier': 0.40864004650655816}\n"
     ]
    },
    {
     "name": "stderr",
     "output_type": "stream",
     "text": [
      "[Parallel(n_jobs=1)]: Done 100 out of 100 | elapsed:    0.9s finished\n"
     ]
    }
   ],
   "source": [
    "X_train_6, X_test_6, y_train_6, y_test_6 = train_test_split(df_data_6, labels, test_size=0.20, random_state=1)\n",
    "results = test_model_results(X_train_6, X_test_6, y_train_6, y_test_6)\n",
    "\n",
    "print(results)"
   ]
  },
  {
   "cell_type": "markdown",
   "id": "governmental-helmet",
   "metadata": {},
   "source": [
    "# Exclude speechiness, instrumentalness, liveness and acousticness"
   ]
  },
  {
   "cell_type": "code",
   "execution_count": 47,
   "id": "instrumental-jordan",
   "metadata": {},
   "outputs": [],
   "source": [
    "df_data_7 = df_data.drop(['speechiness', 'liveness', 'instrumentalness', 'acousticness'], axis=1)"
   ]
  },
  {
   "cell_type": "code",
   "execution_count": 48,
   "id": "equivalent-appearance",
   "metadata": {},
   "outputs": [
    {
     "data": {
      "text/plain": [
       "<bound method NDFrame.head of         danceability  duration_ms    energy  explicit  loudness  mode  \\\n",
       "0           0.440363    -1.842277 -1.547909         0 -0.746894     1   \n",
       "1          -0.807020    -1.072759 -1.307309         0 -2.096100     1   \n",
       "2           1.029723    -1.267532 -1.498612         1 -1.901543     0   \n",
       "3          -0.709747    -1.896113 -0.891592         0 -0.806106     0   \n",
       "4          -0.555255    -0.602815 -1.226373         0 -1.345190     1   \n",
       "...              ...          ...       ...       ...       ...   ...   \n",
       "137608      1.018279    -0.720039 -0.891592         0 -0.180319     1   \n",
       "137609      2.340047     0.452417 -0.354472         1  0.781713     1   \n",
       "137610     -0.126109     0.664422  1.216422         0  0.969925     1   \n",
       "137611      1.018279    -1.252136  0.171612         1 -0.334519     0   \n",
       "137612      0.680685     0.308764  0.351879         0  0.611124     0   \n",
       "\n",
       "           tempo   valence  key_0  key_1  key_2  key_3  key_4  key_5  key_6  \\\n",
       "0      -0.602138  0.718257    0.0    0.0    0.0    0.0    0.0    0.0    0.0   \n",
       "1      -1.449379 -1.728261    0.0    0.0    0.0    0.0    0.0    0.0    0.0   \n",
       "2       0.165709  0.155577    0.0    0.0    1.0    0.0    0.0    0.0    0.0   \n",
       "3       0.922949  0.452125    0.0    0.0    0.0    0.0    0.0    0.0    0.0   \n",
       "4      -0.169194 -0.137169    0.0    0.0    1.0    0.0    0.0    0.0    0.0   \n",
       "...          ...       ...    ...    ...    ...    ...    ...    ...    ...   \n",
       "137608 -1.279753  0.722059    1.0    0.0    0.0    0.0    0.0    0.0    0.0   \n",
       "137609  0.427478 -1.627511    0.0    1.0    0.0    0.0    0.0    0.0    0.0   \n",
       "137610 -0.994100 -0.232216    0.0    0.0    0.0    0.0    0.0    0.0    0.0   \n",
       "137611 -1.216205 -0.007904    0.0    0.0    0.0    1.0    0.0    0.0    0.0   \n",
       "137612 -0.824540 -1.330963    0.0    0.0    0.0    0.0    0.0    0.0    0.0   \n",
       "\n",
       "        key_7  key_8  key_9  key_10  key_11  \n",
       "0         0.0    1.0    0.0     0.0     0.0  \n",
       "1         0.0    1.0    0.0     0.0     0.0  \n",
       "2         0.0    0.0    0.0     0.0     0.0  \n",
       "3         0.0    0.0    1.0     0.0     0.0  \n",
       "4         0.0    0.0    0.0     0.0     0.0  \n",
       "...       ...    ...    ...     ...     ...  \n",
       "137608    0.0    0.0    0.0     0.0     0.0  \n",
       "137609    0.0    0.0    0.0     0.0     0.0  \n",
       "137610    0.0    0.0    1.0     0.0     0.0  \n",
       "137611    0.0    0.0    0.0     0.0     0.0  \n",
       "137612    1.0    0.0    0.0     0.0     0.0  \n",
       "\n",
       "[137613 rows x 20 columns]>"
      ]
     },
     "execution_count": 48,
     "metadata": {},
     "output_type": "execute_result"
    }
   ],
   "source": [
    "df_data_7.head"
   ]
  },
  {
   "cell_type": "code",
   "execution_count": 49,
   "id": "after-worth",
   "metadata": {},
   "outputs": [
    {
     "name": "stderr",
     "output_type": "stream",
     "text": [
      "/home/tserg/miniconda3/envs/it5006/lib/python3.8/site-packages/xgboost/sklearn.py:888: UserWarning: The use of label encoder in XGBClassifier is deprecated and will be removed in a future release. To remove this warning, do the following: 1) Pass option use_label_encoder=False when constructing XGBClassifier object; and 2) Encode your labels (y) as integers starting with 0, i.e. 0, 1, 2, ..., [num_class - 1].\n",
      "  warnings.warn(label_encoder_deprecation_msg, UserWarning)\n"
     ]
    },
    {
     "name": "stdout",
     "output_type": "stream",
     "text": [
      "[00:43:48] WARNING: ../src/learner.cc:1061: Starting in XGBoost 1.3.0, the default evaluation metric used with the objective 'multi:softprob' was changed from 'merror' to 'mlogloss'. Explicitly set eval_metric if you'd like to restore the old behavior.\n"
     ]
    },
    {
     "name": "stderr",
     "output_type": "stream",
     "text": [
      "[Parallel(n_jobs=1)]: Using backend SequentialBackend with 1 concurrent workers.\n",
      "[Parallel(n_jobs=1)]: Done 100 out of 100 | elapsed:   18.9s finished\n",
      "[Parallel(n_jobs=1)]: Using backend SequentialBackend with 1 concurrent workers.\n",
      "[Parallel(n_jobs=1)]: Done 100 out of 100 | elapsed:    0.8s finished\n",
      "[Parallel(n_jobs=1)]: Using backend SequentialBackend with 1 concurrent workers.\n"
     ]
    },
    {
     "name": "stdout",
     "output_type": "stream",
     "text": [
      "{'KNeighborsClassifier': 0.35635650183482903, 'LGBMClassifier': 0.3982124041710569, 'XGBClassifier': 0.39813973767394545, 'RandomForestClassifier': 0.3929440831304727}\n"
     ]
    },
    {
     "name": "stderr",
     "output_type": "stream",
     "text": [
      "[Parallel(n_jobs=1)]: Done 100 out of 100 | elapsed:    0.8s finished\n"
     ]
    }
   ],
   "source": [
    "X_train_7, X_test_7, y_train_7, y_test_7 = train_test_split(df_data_7, labels, test_size=0.20, random_state=1)\n",
    "results = test_model_results(X_train_7, X_test_7, y_train_7, y_test_7)\n",
    "\n",
    "print(results)"
   ]
  },
  {
   "cell_type": "markdown",
   "id": "color-contact",
   "metadata": {},
   "source": [
    "# PCA"
   ]
  },
  {
   "cell_type": "code",
   "execution_count": 50,
   "id": "regional-emergency",
   "metadata": {},
   "outputs": [],
   "source": [
    "from sklearn.decomposition import PCA\n",
    "\n",
    "pca = PCA(n_components=3)\n",
    "\n",
    "df_data_pca = df_data.copy(deep=True)\n",
    "\n",
    "df_data_pca = pca.fit_transform(df_data_pca)"
   ]
  },
  {
   "cell_type": "code",
   "execution_count": 51,
   "id": "gross-burke",
   "metadata": {},
   "outputs": [
    {
     "name": "stderr",
     "output_type": "stream",
     "text": [
      "/home/tserg/miniconda3/envs/it5006/lib/python3.8/site-packages/xgboost/sklearn.py:888: UserWarning: The use of label encoder in XGBClassifier is deprecated and will be removed in a future release. To remove this warning, do the following: 1) Pass option use_label_encoder=False when constructing XGBClassifier object; and 2) Encode your labels (y) as integers starting with 0, i.e. 0, 1, 2, ..., [num_class - 1].\n",
      "  warnings.warn(label_encoder_deprecation_msg, UserWarning)\n"
     ]
    },
    {
     "name": "stdout",
     "output_type": "stream",
     "text": [
      "[00:44:37] WARNING: ../src/learner.cc:1061: Starting in XGBoost 1.3.0, the default evaluation metric used with the objective 'multi:softprob' was changed from 'merror' to 'mlogloss'. Explicitly set eval_metric if you'd like to restore the old behavior.\n"
     ]
    },
    {
     "name": "stderr",
     "output_type": "stream",
     "text": [
      "[Parallel(n_jobs=1)]: Using backend SequentialBackend with 1 concurrent workers.\n",
      "[Parallel(n_jobs=1)]: Done 100 out of 100 | elapsed:   14.5s finished\n",
      "[Parallel(n_jobs=1)]: Using backend SequentialBackend with 1 concurrent workers.\n",
      "[Parallel(n_jobs=1)]: Done 100 out of 100 | elapsed:    0.9s finished\n",
      "[Parallel(n_jobs=1)]: Using backend SequentialBackend with 1 concurrent workers.\n"
     ]
    },
    {
     "name": "stdout",
     "output_type": "stream",
     "text": [
      "{'KNeighborsClassifier': 0.2608727246303092, 'LGBMClassifier': 0.2881953275442357, 'XGBClassifier': 0.28089234458452933, 'RandomForestClassifier': 0.24910075209824512}\n"
     ]
    },
    {
     "name": "stderr",
     "output_type": "stream",
     "text": [
      "[Parallel(n_jobs=1)]: Done 100 out of 100 | elapsed:    0.9s finished\n"
     ]
    }
   ],
   "source": [
    "X_train_8, X_test_8, y_train_8, y_test_8 = train_test_split(df_data_pca, labels, test_size=0.20, random_state=1)\n",
    "results = test_model_results(X_train_8, X_test_8, y_train_8, y_test_8)\n",
    "\n",
    "print(results)"
   ]
  },
  {
   "cell_type": "code",
   "execution_count": null,
   "id": "funny-twenty",
   "metadata": {},
   "outputs": [],
   "source": []
  }
 ],
 "metadata": {
  "kernelspec": {
   "display_name": "Python 3",
   "language": "python",
   "name": "python3"
  },
  "language_info": {
   "codemirror_mode": {
    "name": "ipython",
    "version": 3
   },
   "file_extension": ".py",
   "mimetype": "text/x-python",
   "name": "python",
   "nbconvert_exporter": "python",
   "pygments_lexer": "ipython3",
   "version": "3.9.2"
  }
 },
 "nbformat": 4,
 "nbformat_minor": 5
}
