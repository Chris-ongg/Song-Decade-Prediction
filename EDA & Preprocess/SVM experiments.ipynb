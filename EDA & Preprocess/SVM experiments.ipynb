{
 "cells": [
  {
   "cell_type": "code",
   "execution_count": 2,
   "id": "forced-healthcare",
   "metadata": {},
   "outputs": [],
   "source": [
    "import pandas as pd\n",
    "import numpy as np"
   ]
  },
  {
   "cell_type": "markdown",
   "id": "literary-exclusive",
   "metadata": {},
   "source": [
    "1. https://scikit-learn.org/stable/auto_examples/release_highlights/plot_release_highlights_0_24_0.html\n",
    "2. https://scikit-learn.org/stable/modules/metrics.html#polynomial-kernel\n",
    "3. https://scikit-learn.org/stable/modules/generated/sklearn.kernel_approximation.PolynomialCountSketch.html#sklearn.kernel_approximation.PolynomialCountSketch\n",
    "4. https://scikit-learn.org/stable/auto_examples/kernel_approximation/plot_scalable_poly_kernels.html#sphx-glr-auto-examples-kernel-approximation-plot-scalable-poly-kernels-py\n",
    "5. https://scikit-learn.org/stable/modules/metrics.html#polynomial-kernel\n",
    "6. https://scikit-learn.org/stable/modules/kernel_approximation.html#nystroem-kernel-approx\n",
    "7. https://scikit-learn.org/stable/modules/generated/sklearn.svm.LinearSVC.html#sklearn.svm.LinearSVC\n",
    "8. https://scikit-learn.org/stable/modules/generated/sklearn.linear_model.SGDClassifier.html#sklearn.linear_model.SGDClassifier\n",
    "9. https://scikit-learn.org/stable/modules/generated/sklearn.linear_model.SGDClassifier.html#sklearn.linear_model.SGDClassifier"
   ]
  },
  {
   "cell_type": "code",
   "execution_count": 4,
   "id": "initial-pickup",
   "metadata": {},
   "outputs": [],
   "source": [
    "from sklearn.linear_model import LogisticRegression\n",
    "logreg = LogisticRegression()"
   ]
  },
  {
   "cell_type": "code",
   "execution_count": 5,
   "id": "weekly-marketplace",
   "metadata": {},
   "outputs": [],
   "source": [
    "from sklearn.kernel_approximation import PolynomialCountSketch"
   ]
  },
  {
   "cell_type": "code",
   "execution_count": 6,
   "id": "played-camping",
   "metadata": {},
   "outputs": [],
   "source": [
    "from sklearn.svm import LinearSVC"
   ]
  },
  {
   "cell_type": "code",
   "execution_count": 3,
   "id": "listed-peninsula",
   "metadata": {},
   "outputs": [],
   "source": [
    "df = pd.read_csv('recleaned_data_stdscle.csv')"
   ]
  },
  {
   "cell_type": "code",
   "execution_count": 11,
   "id": "legislative-munich",
   "metadata": {},
   "outputs": [
    {
     "name": "stdout",
     "output_type": "stream",
     "text": [
      "0         1920\n",
      "1         1920\n",
      "2         1920\n",
      "3         1920\n",
      "4         1920\n",
      "          ... \n",
      "157099    2020\n",
      "157100    2020\n",
      "157101    2020\n",
      "157102    2020\n",
      "157103    2020\n",
      "Name: decade, Length: 157104, dtype: int64\n"
     ]
    }
   ],
   "source": [
    "y = df['decade']\n",
    "# print(y)"
   ]
  },
  {
   "cell_type": "code",
   "execution_count": 12,
   "id": "personalized-mauritius",
   "metadata": {},
   "outputs": [
    {
     "data": {
      "text/html": [
       "<div>\n",
       "<style scoped>\n",
       "    .dataframe tbody tr th:only-of-type {\n",
       "        vertical-align: middle;\n",
       "    }\n",
       "\n",
       "    .dataframe tbody tr th {\n",
       "        vertical-align: top;\n",
       "    }\n",
       "\n",
       "    .dataframe thead th {\n",
       "        text-align: right;\n",
       "    }\n",
       "</style>\n",
       "<table border=\"1\" class=\"dataframe\">\n",
       "  <thead>\n",
       "    <tr style=\"text-align: right;\">\n",
       "      <th></th>\n",
       "      <th>acousticness</th>\n",
       "      <th>danceability</th>\n",
       "      <th>duration_ms</th>\n",
       "      <th>explicit</th>\n",
       "      <th>instrumentalness</th>\n",
       "      <th>key</th>\n",
       "      <th>liveness</th>\n",
       "      <th>loudness</th>\n",
       "      <th>mode</th>\n",
       "      <th>popularity</th>\n",
       "      <th>...</th>\n",
       "      <th>key_2</th>\n",
       "      <th>key_3</th>\n",
       "      <th>key_4</th>\n",
       "      <th>key_5</th>\n",
       "      <th>key_6</th>\n",
       "      <th>key_7</th>\n",
       "      <th>key_8</th>\n",
       "      <th>key_9</th>\n",
       "      <th>key_10</th>\n",
       "      <th>key_11</th>\n",
       "    </tr>\n",
       "  </thead>\n",
       "  <tbody>\n",
       "    <tr>\n",
       "      <th>0</th>\n",
       "      <td>1.290829</td>\n",
       "      <td>0.343090</td>\n",
       "      <td>-0.586049</td>\n",
       "      <td>-0.276314</td>\n",
       "      <td>-0.578414</td>\n",
       "      <td>5</td>\n",
       "      <td>0.929594</td>\n",
       "      <td>-0.152122</td>\n",
       "      <td>0</td>\n",
       "      <td>-0.635730</td>\n",
       "      <td>...</td>\n",
       "      <td>0.0</td>\n",
       "      <td>0.0</td>\n",
       "      <td>0.0</td>\n",
       "      <td>1.0</td>\n",
       "      <td>0.0</td>\n",
       "      <td>0.0</td>\n",
       "      <td>0.0</td>\n",
       "      <td>0.0</td>\n",
       "      <td>0.0</td>\n",
       "      <td>0.0</td>\n",
       "    </tr>\n",
       "    <tr>\n",
       "      <th>1</th>\n",
       "      <td>1.277648</td>\n",
       "      <td>-1.888467</td>\n",
       "      <td>-0.431375</td>\n",
       "      <td>-0.276314</td>\n",
       "      <td>1.401622</td>\n",
       "      <td>8</td>\n",
       "      <td>0.123664</td>\n",
       "      <td>-0.645386</td>\n",
       "      <td>1</td>\n",
       "      <td>-1.184737</td>\n",
       "      <td>...</td>\n",
       "      <td>0.0</td>\n",
       "      <td>0.0</td>\n",
       "      <td>0.0</td>\n",
       "      <td>0.0</td>\n",
       "      <td>0.0</td>\n",
       "      <td>0.0</td>\n",
       "      <td>1.0</td>\n",
       "      <td>0.0</td>\n",
       "      <td>0.0</td>\n",
       "      <td>0.0</td>\n",
       "    </tr>\n",
       "    <tr>\n",
       "      <th>2</th>\n",
       "      <td>1.298737</td>\n",
       "      <td>-0.835630</td>\n",
       "      <td>-0.620337</td>\n",
       "      <td>-0.276314</td>\n",
       "      <td>-0.117816</td>\n",
       "      <td>2</td>\n",
       "      <td>-0.630575</td>\n",
       "      <td>-0.608907</td>\n",
       "      <td>1</td>\n",
       "      <td>-1.184737</td>\n",
       "      <td>...</td>\n",
       "      <td>1.0</td>\n",
       "      <td>0.0</td>\n",
       "      <td>0.0</td>\n",
       "      <td>0.0</td>\n",
       "      <td>0.0</td>\n",
       "      <td>0.0</td>\n",
       "      <td>0.0</td>\n",
       "      <td>0.0</td>\n",
       "      <td>0.0</td>\n",
       "      <td>0.0</td>\n",
       "    </tr>\n",
       "    <tr>\n",
       "      <th>3</th>\n",
       "      <td>1.293465</td>\n",
       "      <td>-1.110283</td>\n",
       "      <td>-0.554578</td>\n",
       "      <td>-0.276314</td>\n",
       "      <td>-0.566669</td>\n",
       "      <td>0</td>\n",
       "      <td>-0.304312</td>\n",
       "      <td>-0.388445</td>\n",
       "      <td>1</td>\n",
       "      <td>-1.184737</td>\n",
       "      <td>...</td>\n",
       "      <td>0.0</td>\n",
       "      <td>0.0</td>\n",
       "      <td>0.0</td>\n",
       "      <td>0.0</td>\n",
       "      <td>0.0</td>\n",
       "      <td>0.0</td>\n",
       "      <td>0.0</td>\n",
       "      <td>0.0</td>\n",
       "      <td>0.0</td>\n",
       "      <td>0.0</td>\n",
       "    </tr>\n",
       "    <tr>\n",
       "      <th>4</th>\n",
       "      <td>1.027206</td>\n",
       "      <td>-0.732635</td>\n",
       "      <td>-0.434248</td>\n",
       "      <td>3.619065</td>\n",
       "      <td>-0.579976</td>\n",
       "      <td>0</td>\n",
       "      <td>-0.671149</td>\n",
       "      <td>-0.372584</td>\n",
       "      <td>0</td>\n",
       "      <td>-1.184737</td>\n",
       "      <td>...</td>\n",
       "      <td>0.0</td>\n",
       "      <td>0.0</td>\n",
       "      <td>0.0</td>\n",
       "      <td>0.0</td>\n",
       "      <td>0.0</td>\n",
       "      <td>0.0</td>\n",
       "      <td>0.0</td>\n",
       "      <td>0.0</td>\n",
       "      <td>0.0</td>\n",
       "      <td>0.0</td>\n",
       "    </tr>\n",
       "  </tbody>\n",
       "</table>\n",
       "<p>5 rows × 25 columns</p>\n",
       "</div>"
      ],
      "text/plain": [
       "   acousticness  danceability  duration_ms  explicit  instrumentalness  key  \\\n",
       "0      1.290829      0.343090    -0.586049 -0.276314         -0.578414    5   \n",
       "1      1.277648     -1.888467    -0.431375 -0.276314          1.401622    8   \n",
       "2      1.298737     -0.835630    -0.620337 -0.276314         -0.117816    2   \n",
       "3      1.293465     -1.110283    -0.554578 -0.276314         -0.566669    0   \n",
       "4      1.027206     -0.732635    -0.434248  3.619065         -0.579976    0   \n",
       "\n",
       "   liveness  loudness  mode  popularity  ...  key_2  key_3  key_4  key_5  \\\n",
       "0  0.929594 -0.152122     0   -0.635730  ...    0.0    0.0    0.0    1.0   \n",
       "1  0.123664 -0.645386     1   -1.184737  ...    0.0    0.0    0.0    0.0   \n",
       "2 -0.630575 -0.608907     1   -1.184737  ...    1.0    0.0    0.0    0.0   \n",
       "3 -0.304312 -0.388445     1   -1.184737  ...    0.0    0.0    0.0    0.0   \n",
       "4 -0.671149 -0.372584     0   -1.184737  ...    0.0    0.0    0.0    0.0   \n",
       "\n",
       "   key_6  key_7  key_8  key_9  key_10  key_11  \n",
       "0    0.0    0.0    0.0    0.0     0.0     0.0  \n",
       "1    0.0    0.0    1.0    0.0     0.0     0.0  \n",
       "2    0.0    0.0    0.0    0.0     0.0     0.0  \n",
       "3    0.0    0.0    0.0    0.0     0.0     0.0  \n",
       "4    0.0    0.0    0.0    0.0     0.0     0.0  \n",
       "\n",
       "[5 rows x 25 columns]"
      ]
     },
     "execution_count": 12,
     "metadata": {},
     "output_type": "execute_result"
    }
   ],
   "source": [
    "X = df.drop(columns=['year', 'decade'])\n",
    "X.head()"
   ]
  },
  {
   "cell_type": "code",
   "execution_count": 13,
   "id": "directed-seventh",
   "metadata": {},
   "outputs": [],
   "source": [
    "from sklearn.model_selection import train_test_split\n",
    "\n",
    "X_train, X_test, y_train, y_test = train_test_split(X, y, test_size=0.2, random_state=77)"
   ]
  },
  {
   "cell_type": "code",
   "execution_count": 14,
   "id": "mighty-submission",
   "metadata": {},
   "outputs": [
    {
     "name": "stdout",
     "output_type": "stream",
     "text": [
      "(125683, 25)\n",
      "(31421, 25)\n",
      "(125683,)\n",
      "(31421,)\n"
     ]
    }
   ],
   "source": [
    "print(X_train.shape)\n",
    "print(X_test.shape)\n",
    "print(y_train.shape)\n",
    "print(y_test.shape)"
   ]
  },
  {
   "cell_type": "markdown",
   "id": "relative-license",
   "metadata": {},
   "source": [
    "# All columns"
   ]
  },
  {
   "cell_type": "code",
   "execution_count": 1,
   "id": "invalid-tucson",
   "metadata": {},
   "outputs": [
    {
     "ename": "NameError",
     "evalue": "name 'y_train' is not defined",
     "output_type": "error",
     "traceback": [
      "\u001b[1;31m---------------------------------------------------------------------------\u001b[0m",
      "\u001b[1;31mNameError\u001b[0m                                 Traceback (most recent call last)",
      "\u001b[1;32m<ipython-input-1-7276899eb410>\u001b[0m in \u001b[0;36m<module>\u001b[1;34m\u001b[0m\n\u001b[1;32m----> 1\u001b[1;33m \u001b[0my_train\u001b[0m\u001b[1;33m.\u001b[0m\u001b[0munique\u001b[0m\u001b[1;33m(\u001b[0m\u001b[1;33m)\u001b[0m\u001b[1;33m\u001b[0m\u001b[1;33m\u001b[0m\u001b[0m\n\u001b[0m",
      "\u001b[1;31mNameError\u001b[0m: name 'y_train' is not defined"
     ]
    }
   ],
   "source": [
    "y_train.unique()"
   ]
  },
  {
   "cell_type": "code",
   "execution_count": 15,
   "id": "functioning-diagnosis",
   "metadata": {},
   "outputs": [],
   "source": [
    "lsvm = LinearSVC(random_state=17, verbose=True)"
   ]
  },
  {
   "cell_type": "code",
   "execution_count": 16,
   "id": "suited-credits",
   "metadata": {},
   "outputs": [],
   "source": [
    "polysketch = PolynomialCountSketch(n_components=500, degree=4)"
   ]
  },
  {
   "cell_type": "code",
   "execution_count": 17,
   "id": "industrial-orbit",
   "metadata": {},
   "outputs": [],
   "source": [
    "interm = polysketch.fit_transform(X_train)"
   ]
  },
  {
   "cell_type": "code",
   "execution_count": 18,
   "id": "limiting-skating",
   "metadata": {},
   "outputs": [
    {
     "data": {
      "text/plain": [
       "(125683, 500)"
      ]
     },
     "execution_count": 18,
     "metadata": {},
     "output_type": "execute_result"
    }
   ],
   "source": [
    "interm.shape"
   ]
  },
  {
   "cell_type": "code",
   "execution_count": 19,
   "id": "imposed-abuse",
   "metadata": {},
   "outputs": [
    {
     "name": "stdout",
     "output_type": "stream",
     "text": [
      "[LibLinear]Wall time: 7h 23min 14s\n"
     ]
    },
    {
     "name": "stderr",
     "output_type": "stream",
     "text": [
      "C:\\Users\\kradk\\anaconda3\\envs\\ml\\lib\\site-packages\\sklearn\\svm\\_base.py:985: ConvergenceWarning: Liblinear failed to converge, increase the number of iterations.\n",
      "  warnings.warn(\"Liblinear failed to converge, increase \"\n"
     ]
    },
    {
     "data": {
      "text/plain": [
       "LinearSVC(random_state=17, verbose=True)"
      ]
     },
     "execution_count": 19,
     "metadata": {},
     "output_type": "execute_result"
    }
   ],
   "source": [
    "%%time\n",
    "lsvm.fit(interm, y_train)"
   ]
  },
  {
   "cell_type": "code",
   "execution_count": 20,
   "id": "greatest-census",
   "metadata": {},
   "outputs": [
    {
     "data": {
      "text/plain": [
       "0.21822984628114955"
      ]
     },
     "execution_count": 20,
     "metadata": {},
     "output_type": "execute_result"
    }
   ],
   "source": [
    "lsvm.score(polysketch.transform(X_test), y_test)"
   ]
  },
  {
   "cell_type": "markdown",
   "id": "corrected-class",
   "metadata": {},
   "source": [
    "# Selected"
   ]
  },
  {
   "cell_type": "code",
   "execution_count": null,
   "id": "awful-composition",
   "metadata": {},
   "outputs": [],
   "source": [
    "X_train1 = X_train.drop(columns=['liveness', 'speechiness', 'valence', 'danceability', 'instrumentalness'])\n",
    "X_test1 = X_test.drop(columns=['liveness', 'speechiness', 'valence', 'danceability', 'instrumentalness'])"
   ]
  },
  {
   "cell_type": "code",
   "execution_count": null,
   "id": "heated-story",
   "metadata": {},
   "outputs": [],
   "source": [
    "clf.fit(X_train1, y_train)\n"
   ]
  },
  {
   "cell_type": "code",
   "execution_count": null,
   "id": "australian-simple",
   "metadata": {},
   "outputs": [],
   "source": [
    "clf.score(X_test1, y_test)"
   ]
  },
  {
   "cell_type": "markdown",
   "id": "british-wilderness",
   "metadata": {},
   "source": [
    "# Exclude 1920s and 1930s"
   ]
  },
  {
   "cell_type": "code",
   "execution_count": null,
   "id": "special-triangle",
   "metadata": {},
   "outputs": [],
   "source": [
    "df_exclude = df[df['decade'] >= 1940]"
   ]
  },
  {
   "cell_type": "code",
   "execution_count": null,
   "id": "recreational-remove",
   "metadata": {},
   "outputs": [],
   "source": [
    "X_e = df_exclude.drop(columns=['key', 'mode', 'popularity', 'year', 'decade'])\n",
    "y_e = df_exclude['decade']"
   ]
  },
  {
   "cell_type": "code",
   "execution_count": null,
   "id": "unlimited-command",
   "metadata": {},
   "outputs": [],
   "source": [
    "X_train, X_test, y_train, y_test = train_test_split(X_e, y_e, test_size=0.2, random_state=77)"
   ]
  },
  {
   "cell_type": "code",
   "execution_count": null,
   "id": "appreciated-ballet",
   "metadata": {},
   "outputs": [],
   "source": [
    "clf.fit(X_train, y_train)"
   ]
  },
  {
   "cell_type": "code",
   "execution_count": null,
   "id": "established-alert",
   "metadata": {},
   "outputs": [],
   "source": [
    "clf.score(X_test, y_test)"
   ]
  },
  {
   "cell_type": "code",
   "execution_count": null,
   "id": "lesser-wellington",
   "metadata": {},
   "outputs": [],
   "source": [
    "X_train1 = X_train.drop(columns=['liveness', 'speechiness', 'valence', 'danceability', 'instrumentalness'])\n",
    "X_test1 = X_test.drop(columns=['liveness', 'speechiness', 'valence', 'danceability', 'instrumentalness'])"
   ]
  },
  {
   "cell_type": "code",
   "execution_count": null,
   "id": "satellite-consolidation",
   "metadata": {},
   "outputs": [],
   "source": [
    "clf.fit(X_train1, y_train)"
   ]
  },
  {
   "cell_type": "code",
   "execution_count": null,
   "id": "polar-native",
   "metadata": {},
   "outputs": [],
   "source": [
    "clf.score(X_test1, y_test)"
   ]
  },
  {
   "cell_type": "code",
   "execution_count": null,
   "id": "female-training",
   "metadata": {},
   "outputs": [],
   "source": []
  }
 ],
 "metadata": {
  "kernelspec": {
   "display_name": "Python 3",
   "language": "python",
   "name": "python3"
  },
  "language_info": {
   "codemirror_mode": {
    "name": "ipython",
    "version": 3
   },
   "file_extension": ".py",
   "mimetype": "text/x-python",
   "name": "python",
   "nbconvert_exporter": "python",
   "pygments_lexer": "ipython3",
   "version": "3.9.2"
  }
 },
 "nbformat": 4,
 "nbformat_minor": 5
}
