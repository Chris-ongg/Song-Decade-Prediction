{
 "cells": [
  {
   "cell_type": "code",
   "execution_count": 1,
   "id": "gentle-syndrome",
   "metadata": {},
   "outputs": [],
   "source": [
    "import numpy as np\n",
    "import pandas as pd"
   ]
  },
  {
   "cell_type": "code",
   "execution_count": 2,
   "id": "functioning-faculty",
   "metadata": {},
   "outputs": [],
   "source": [
    "from sklearn.metrics import classification_report\n",
    "import lightgbm as lgbm\n",
    "import xgboost as xgb"
   ]
  },
  {
   "cell_type": "code",
   "execution_count": 3,
   "id": "lightweight-prime",
   "metadata": {},
   "outputs": [],
   "source": [
    "from sklearn.neighbors import KNeighborsClassifier"
   ]
  },
  {
   "cell_type": "code",
   "execution_count": 4,
   "id": "grave-atlas",
   "metadata": {},
   "outputs": [],
   "source": [
    "from imblearn.over_sampling import SMOTE, ADASYN"
   ]
  },
  {
   "cell_type": "code",
   "execution_count": 39,
   "id": "distant-testament",
   "metadata": {},
   "outputs": [],
   "source": [
    "from sklearn.model_selection import train_test_split\n",
    "\n",
    "df_data = pd.read_csv('recleaned_data_stdscle1.csv')\n"
   ]
  },
  {
   "cell_type": "code",
   "execution_count": 40,
   "id": "emotional-corner",
   "metadata": {},
   "outputs": [],
   "source": [
    "df_data = df_data.loc[df_data.decade !=2020]"
   ]
  },
  {
   "cell_type": "code",
   "execution_count": 41,
   "id": "headed-masters",
   "metadata": {},
   "outputs": [
    {
     "data": {
      "text/html": [
       "<div>\n",
       "<style scoped>\n",
       "    .dataframe tbody tr th:only-of-type {\n",
       "        vertical-align: middle;\n",
       "    }\n",
       "\n",
       "    .dataframe tbody tr th {\n",
       "        vertical-align: top;\n",
       "    }\n",
       "\n",
       "    .dataframe thead th {\n",
       "        text-align: right;\n",
       "    }\n",
       "</style>\n",
       "<table border=\"1\" class=\"dataframe\">\n",
       "  <thead>\n",
       "    <tr style=\"text-align: right;\">\n",
       "      <th></th>\n",
       "      <th>acousticness</th>\n",
       "      <th>danceability</th>\n",
       "      <th>duration_ms</th>\n",
       "      <th>energy</th>\n",
       "      <th>explicit</th>\n",
       "      <th>instrumentalness</th>\n",
       "      <th>key</th>\n",
       "      <th>liveness</th>\n",
       "      <th>loudness</th>\n",
       "      <th>mode</th>\n",
       "      <th>...</th>\n",
       "      <th>key_2</th>\n",
       "      <th>key_3</th>\n",
       "      <th>key_4</th>\n",
       "      <th>key_5</th>\n",
       "      <th>key_6</th>\n",
       "      <th>key_7</th>\n",
       "      <th>key_8</th>\n",
       "      <th>key_9</th>\n",
       "      <th>key_10</th>\n",
       "      <th>key_11</th>\n",
       "    </tr>\n",
       "  </thead>\n",
       "  <tbody>\n",
       "    <tr>\n",
       "      <th>0</th>\n",
       "      <td>1.290829</td>\n",
       "      <td>0.343090</td>\n",
       "      <td>-0.586049</td>\n",
       "      <td>-0.946776</td>\n",
       "      <td>-0.276314</td>\n",
       "      <td>-0.578414</td>\n",
       "      <td>5</td>\n",
       "      <td>0.929594</td>\n",
       "      <td>-0.152122</td>\n",
       "      <td>0</td>\n",
       "      <td>...</td>\n",
       "      <td>0.0</td>\n",
       "      <td>0.0</td>\n",
       "      <td>0.0</td>\n",
       "      <td>1.0</td>\n",
       "      <td>0.0</td>\n",
       "      <td>0.0</td>\n",
       "      <td>0.0</td>\n",
       "      <td>0.0</td>\n",
       "      <td>0.0</td>\n",
       "      <td>0.0</td>\n",
       "    </tr>\n",
       "    <tr>\n",
       "      <th>1</th>\n",
       "      <td>1.277648</td>\n",
       "      <td>-1.888467</td>\n",
       "      <td>-0.431375</td>\n",
       "      <td>-0.909987</td>\n",
       "      <td>-0.276314</td>\n",
       "      <td>1.401622</td>\n",
       "      <td>8</td>\n",
       "      <td>0.123664</td>\n",
       "      <td>-0.645386</td>\n",
       "      <td>1</td>\n",
       "      <td>...</td>\n",
       "      <td>0.0</td>\n",
       "      <td>0.0</td>\n",
       "      <td>0.0</td>\n",
       "      <td>0.0</td>\n",
       "      <td>0.0</td>\n",
       "      <td>0.0</td>\n",
       "      <td>1.0</td>\n",
       "      <td>0.0</td>\n",
       "      <td>0.0</td>\n",
       "      <td>0.0</td>\n",
       "    </tr>\n",
       "    <tr>\n",
       "      <th>2</th>\n",
       "      <td>1.298737</td>\n",
       "      <td>-0.835630</td>\n",
       "      <td>-0.620337</td>\n",
       "      <td>-1.299951</td>\n",
       "      <td>-0.276314</td>\n",
       "      <td>-0.117816</td>\n",
       "      <td>2</td>\n",
       "      <td>-0.630575</td>\n",
       "      <td>-0.608907</td>\n",
       "      <td>1</td>\n",
       "      <td>...</td>\n",
       "      <td>1.0</td>\n",
       "      <td>0.0</td>\n",
       "      <td>0.0</td>\n",
       "      <td>0.0</td>\n",
       "      <td>0.0</td>\n",
       "      <td>0.0</td>\n",
       "      <td>0.0</td>\n",
       "      <td>0.0</td>\n",
       "      <td>0.0</td>\n",
       "      <td>0.0</td>\n",
       "    </tr>\n",
       "    <tr>\n",
       "      <th>3</th>\n",
       "      <td>1.293465</td>\n",
       "      <td>-1.110283</td>\n",
       "      <td>-0.554578</td>\n",
       "      <td>-1.049785</td>\n",
       "      <td>-0.276314</td>\n",
       "      <td>-0.566669</td>\n",
       "      <td>0</td>\n",
       "      <td>-0.304312</td>\n",
       "      <td>-0.388445</td>\n",
       "      <td>1</td>\n",
       "      <td>...</td>\n",
       "      <td>0.0</td>\n",
       "      <td>0.0</td>\n",
       "      <td>0.0</td>\n",
       "      <td>0.0</td>\n",
       "      <td>0.0</td>\n",
       "      <td>0.0</td>\n",
       "      <td>0.0</td>\n",
       "      <td>0.0</td>\n",
       "      <td>0.0</td>\n",
       "      <td>0.0</td>\n",
       "    </tr>\n",
       "    <tr>\n",
       "      <th>4</th>\n",
       "      <td>1.027206</td>\n",
       "      <td>-0.732635</td>\n",
       "      <td>-0.434248</td>\n",
       "      <td>-0.681894</td>\n",
       "      <td>3.619065</td>\n",
       "      <td>-0.579976</td>\n",
       "      <td>0</td>\n",
       "      <td>-0.671149</td>\n",
       "      <td>-0.372584</td>\n",
       "      <td>0</td>\n",
       "      <td>...</td>\n",
       "      <td>0.0</td>\n",
       "      <td>0.0</td>\n",
       "      <td>0.0</td>\n",
       "      <td>0.0</td>\n",
       "      <td>0.0</td>\n",
       "      <td>0.0</td>\n",
       "      <td>0.0</td>\n",
       "      <td>0.0</td>\n",
       "      <td>0.0</td>\n",
       "      <td>0.0</td>\n",
       "    </tr>\n",
       "  </tbody>\n",
       "</table>\n",
       "<p>5 rows × 26 columns</p>\n",
       "</div>"
      ],
      "text/plain": [
       "   acousticness  danceability  duration_ms    energy  explicit  \\\n",
       "0      1.290829      0.343090    -0.586049 -0.946776 -0.276314   \n",
       "1      1.277648     -1.888467    -0.431375 -0.909987 -0.276314   \n",
       "2      1.298737     -0.835630    -0.620337 -1.299951 -0.276314   \n",
       "3      1.293465     -1.110283    -0.554578 -1.049785 -0.276314   \n",
       "4      1.027206     -0.732635    -0.434248 -0.681894  3.619065   \n",
       "\n",
       "   instrumentalness  key  liveness  loudness  mode  ...  key_2  key_3  key_4  \\\n",
       "0         -0.578414    5  0.929594 -0.152122     0  ...    0.0    0.0    0.0   \n",
       "1          1.401622    8  0.123664 -0.645386     1  ...    0.0    0.0    0.0   \n",
       "2         -0.117816    2 -0.630575 -0.608907     1  ...    1.0    0.0    0.0   \n",
       "3         -0.566669    0 -0.304312 -0.388445     1  ...    0.0    0.0    0.0   \n",
       "4         -0.579976    0 -0.671149 -0.372584     0  ...    0.0    0.0    0.0   \n",
       "\n",
       "   key_5  key_6  key_7  key_8  key_9  key_10  key_11  \n",
       "0    1.0    0.0    0.0    0.0    0.0     0.0     0.0  \n",
       "1    0.0    0.0    0.0    1.0    0.0     0.0     0.0  \n",
       "2    0.0    0.0    0.0    0.0    0.0     0.0     0.0  \n",
       "3    0.0    0.0    0.0    0.0    0.0     0.0     0.0  \n",
       "4    0.0    0.0    0.0    0.0    0.0     0.0     0.0  \n",
       "\n",
       "[5 rows x 26 columns]"
      ]
     },
     "execution_count": 41,
     "metadata": {},
     "output_type": "execute_result"
    }
   ],
   "source": [
    "labels = df_data.decade\n",
    "\n",
    "df_data = df_data.drop(['decade','year'], axis=1)\n",
    "df_data.head()"
   ]
  },
  {
   "cell_type": "code",
   "execution_count": 42,
   "id": "lightweight-negotiation",
   "metadata": {},
   "outputs": [],
   "source": [
    "df_data = df_data[['acousticness', 'energy', 'loudness', 'speechiness',\n",
    "                   'tempo','danceability','explicit']]"
   ]
  },
  {
   "cell_type": "code",
   "execution_count": 43,
   "id": "colonial-transcription",
   "metadata": {},
   "outputs": [
    {
     "data": {
      "text/plain": [
       "Index(['acousticness', 'energy', 'loudness', 'speechiness', 'tempo',\n",
       "       'danceability', 'explicit'],\n",
       "      dtype='object')"
      ]
     },
     "execution_count": 43,
     "metadata": {},
     "output_type": "execute_result"
    }
   ],
   "source": [
    "df_data.columns"
   ]
  },
  {
   "cell_type": "code",
   "execution_count": 44,
   "id": "magnetic-depression",
   "metadata": {},
   "outputs": [],
   "source": [
    "X_train, X_test, y_train, y_test = train_test_split(df_data, labels, test_size=0.20)"
   ]
  },
  {
   "cell_type": "code",
   "execution_count": 45,
   "id": "studied-effectiveness",
   "metadata": {},
   "outputs": [
    {
     "data": {
      "text/plain": [
       "((122267, 7), (122267,), (30567,))"
      ]
     },
     "execution_count": 45,
     "metadata": {},
     "output_type": "execute_result"
    }
   ],
   "source": [
    "X_train.shape, y_train.shape, y_test.shape"
   ]
  },
  {
   "cell_type": "markdown",
   "id": "useful-hacker",
   "metadata": {},
   "source": [
    "## KNN Classifier"
   ]
  },
  {
   "cell_type": "code",
   "execution_count": 46,
   "id": "binding-sarah",
   "metadata": {},
   "outputs": [
    {
     "name": "stdout",
     "output_type": "stream",
     "text": [
      "              precision    recall  f1-score   support\n",
      "\n",
      "        1920       0.50      0.34      0.40       999\n",
      "        1930       0.46      0.39      0.42      2066\n",
      "        1940       0.35      0.44      0.39      2862\n",
      "        1950       0.29      0.39      0.33      3664\n",
      "        1960       0.27      0.32      0.30      3636\n",
      "        1970       0.28      0.29      0.28      3616\n",
      "        1980       0.35      0.32      0.34      3623\n",
      "        1990       0.33      0.27      0.30      3710\n",
      "        2000       0.35      0.19      0.25      2445\n",
      "        2010       0.50      0.49      0.49      3946\n",
      "\n",
      "    accuracy                           0.35     30567\n",
      "   macro avg       0.37      0.34      0.35     30567\n",
      "weighted avg       0.35      0.35      0.35     30567\n",
      "\n"
     ]
    }
   ],
   "source": [
    "#KNN classifier\n",
    "classifier = KNeighborsClassifier(n_neighbors=27)\n",
    "classifier.fit(X_train, y_train)\n",
    "y_pred = classifier.predict(X_test)\n",
    "# from sklearn.metrics import classification_report\n",
    "print(classification_report(y_test, y_pred))"
   ]
  },
  {
   "cell_type": "markdown",
   "id": "acquired-problem",
   "metadata": {},
   "source": [
    "## XGB and LGBM"
   ]
  },
  {
   "cell_type": "code",
   "execution_count": 47,
   "id": "australian-basement",
   "metadata": {},
   "outputs": [
    {
     "name": "stdout",
     "output_type": "stream",
     "text": [
      "              precision    recall  f1-score   support\n",
      "\n",
      "        1920       0.66      0.42      0.52       999\n",
      "        1930       0.56      0.39      0.46      2066\n",
      "        1940       0.42      0.46      0.44      2862\n",
      "        1950       0.32      0.49      0.39      3664\n",
      "        1960       0.30      0.37      0.33      3636\n",
      "        1970       0.31      0.32      0.31      3616\n",
      "        1980       0.39      0.36      0.37      3623\n",
      "        1990       0.36      0.27      0.31      3710\n",
      "        2000       0.36      0.20      0.26      2445\n",
      "        2010       0.51      0.54      0.53      3946\n",
      "\n",
      "    accuracy                           0.39     30567\n",
      "   macro avg       0.42      0.38      0.39     30567\n",
      "weighted avg       0.40      0.39      0.38     30567\n",
      "\n"
     ]
    }
   ],
   "source": [
    "model_lgbm = lgbm.LGBMClassifier()\n",
    "\n",
    "model_lgbm.fit(X_train, y_train)\n",
    "\n",
    "model_lgbm.score(X_test, y_test)\n",
    "\n",
    "y_pred = model_lgbm.predict(X_test)\n",
    "\n",
    "print(classification_report(y_test, y_pred))"
   ]
  },
  {
   "cell_type": "code",
   "execution_count": 48,
   "id": "casual-patio",
   "metadata": {},
   "outputs": [
    {
     "data": {
      "text/plain": [
       "0.3851539241665849"
      ]
     },
     "execution_count": 48,
     "metadata": {},
     "output_type": "execute_result"
    }
   ],
   "source": [
    "model_lgbm.score(X_test, y_test)"
   ]
  },
  {
   "cell_type": "code",
   "execution_count": 49,
   "id": "hindu-cosmetic",
   "metadata": {},
   "outputs": [
    {
     "name": "stderr",
     "output_type": "stream",
     "text": [
      "C:\\Users\\kradk\\anaconda3\\envs\\ml\\lib\\site-packages\\xgboost\\sklearn.py:888: UserWarning: The use of label encoder in XGBClassifier is deprecated and will be removed in a future release. To remove this warning, do the following: 1) Pass option use_label_encoder=False when constructing XGBClassifier object; and 2) Encode your labels (y) as integers starting with 0, i.e. 0, 1, 2, ..., [num_class - 1].\n",
      "  warnings.warn(label_encoder_deprecation_msg, UserWarning)\n"
     ]
    },
    {
     "name": "stdout",
     "output_type": "stream",
     "text": [
      "[18:03:33] WARNING: C:/Users/Administrator/workspace/xgboost-win64_release_1.3.0/src/learner.cc:1061: Starting in XGBoost 1.3.0, the default evaluation metric used with the objective 'multi:softprob' was changed from 'merror' to 'mlogloss'. Explicitly set eval_metric if you'd like to restore the old behavior.\n",
      "              precision    recall  f1-score   support\n",
      "\n",
      "        1920       0.67      0.42      0.52       999\n",
      "        1930       0.56      0.39      0.46      2066\n",
      "        1940       0.43      0.46      0.44      2862\n",
      "        1950       0.32      0.47      0.38      3664\n",
      "        1960       0.30      0.36      0.33      3636\n",
      "        1970       0.31      0.33      0.32      3616\n",
      "        1980       0.39      0.36      0.37      3623\n",
      "        1990       0.37      0.28      0.32      3710\n",
      "        2000       0.35      0.21      0.27      2445\n",
      "        2010       0.53      0.56      0.54      3946\n",
      "\n",
      "    accuracy                           0.39     30567\n",
      "   macro avg       0.42      0.39      0.40     30567\n",
      "weighted avg       0.40      0.39      0.39     30567\n",
      "\n"
     ]
    }
   ],
   "source": [
    "model_xgb = xgb.XGBClassifier()\n",
    "\n",
    "model_xgb.fit(X_train, y_train)\n",
    "\n",
    "model_xgb.score(X_test, y_test)\n",
    "\n",
    "y_pred = model_xgb.predict(X_test)\n",
    "\n",
    "print(classification_report(y_test, y_pred))"
   ]
  },
  {
   "cell_type": "markdown",
   "id": "hairy-tiger",
   "metadata": {},
   "source": [
    "## Random Forest"
   ]
  },
  {
   "cell_type": "code",
   "execution_count": 50,
   "id": "modified-thailand",
   "metadata": {},
   "outputs": [
    {
     "name": "stderr",
     "output_type": "stream",
     "text": [
      "[Parallel(n_jobs=1)]: Using backend SequentialBackend with 1 concurrent workers.\n",
      "[Parallel(n_jobs=1)]: Done 100 out of 100 | elapsed:   24.4s finished\n",
      "[Parallel(n_jobs=1)]: Using backend SequentialBackend with 1 concurrent workers.\n",
      "[Parallel(n_jobs=1)]: Done 100 out of 100 | elapsed:    0.9s finished\n",
      "[Parallel(n_jobs=1)]: Using backend SequentialBackend with 1 concurrent workers.\n"
     ]
    },
    {
     "name": "stdout",
     "output_type": "stream",
     "text": [
      "              precision    recall  f1-score   support\n",
      "\n",
      "        1920       0.65      0.44      0.53       999\n",
      "        1930       0.54      0.39      0.46      2066\n",
      "        1940       0.41      0.46      0.43      2862\n",
      "        1950       0.32      0.44      0.37      3664\n",
      "        1960       0.30      0.35      0.32      3636\n",
      "        1970       0.29      0.30      0.30      3616\n",
      "        1980       0.36      0.34      0.35      3623\n",
      "        1990       0.34      0.28      0.31      3710\n",
      "        2000       0.34      0.21      0.26      2445\n",
      "        2010       0.50      0.52      0.51      3946\n",
      "\n",
      "    accuracy                           0.37     30567\n",
      "   macro avg       0.41      0.37      0.38     30567\n",
      "weighted avg       0.38      0.37      0.37     30567\n",
      "\n"
     ]
    },
    {
     "name": "stderr",
     "output_type": "stream",
     "text": [
      "[Parallel(n_jobs=1)]: Done 100 out of 100 | elapsed:    1.0s finished\n"
     ]
    }
   ],
   "source": [
    "from sklearn.ensemble import RandomForestClassifier\n",
    "\n",
    "rfc = RandomForestClassifier(verbose=1)\n",
    "\n",
    "rfc.fit(X_train, y_train)\n",
    "\n",
    "\n",
    "rfc.score(X_test, y_test)\n",
    "\n",
    "y_pred = rfc.predict(X_test)\n",
    "\n",
    "print(classification_report(y_test, y_pred))"
   ]
  },
  {
   "cell_type": "code",
   "execution_count": null,
   "id": "ongoing-royal",
   "metadata": {},
   "outputs": [],
   "source": []
  }
 ],
 "metadata": {
  "kernelspec": {
   "display_name": "Python 3",
   "language": "python",
   "name": "python3"
  },
  "language_info": {
   "codemirror_mode": {
    "name": "ipython",
    "version": 3
   },
   "file_extension": ".py",
   "mimetype": "text/x-python",
   "name": "python",
   "nbconvert_exporter": "python",
   "pygments_lexer": "ipython3",
   "version": "3.9.2"
  }
 },
 "nbformat": 4,
 "nbformat_minor": 5
}
